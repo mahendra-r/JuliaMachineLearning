{
 "cells": [
  {
   "cell_type": "markdown",
   "metadata": {},
   "source": [
    "# **$$ h_\\theta (x) = y_{predicted} $$**"
   ]
  },
  {
   "cell_type": "markdown",
   "metadata": {},
   "source": [
    "# Classification Problems\n",
    "\n",
    "#### Binary classification problem\n",
    "\n",
    "$$ y \\in \\{ 0,1 \\} $$\n"
   ]
  },
  {
   "cell_type": "markdown",
   "metadata": {},
   "source": [
    "In case of a **Linear classifier**: \n",
    "\n",
    "Where $$ h_\\theta (x) = \\sum_{x=0}^n X_{m \\times n} \\theta_{n \\times 1}  $$\n",
    "\n",
    "\n",
    "$$~           /\n",
    "1|      x x x \n",
    "  |       / \n",
    "  |      / \n",
    "  |     /\n",
    "0|_x_x_x_______\n",
    "     /\n",
    "$$\n",
    "\n",
    "We can threshold the classifier output $h_\\theta (x)$ at 0.5.\n",
    "\n",
    "* if $h_\\theta \\ge 0.5 ; ~predict~ y=1$\n",
    "\n",
    "* if $h_\\theta \\le 0.5 ; ~predict~ y=0$\n",
    "\n",
    "Drawbacks:\n",
    "   \n",
    "   1. Linear classifier is highly influenced by outiers, since the *mean* changes drastically.\n",
    "\n",
    "\n",
    "   2. Although $0 \\le y \\le 1$, linear regression may yeild $ 0 > h_\\theta (x)>1$"
   ]
  },
  {
   "cell_type": "raw",
   "metadata": {},
   "source": []
  },
  {
   "cell_type": "markdown",
   "metadata": {},
   "source": [
    "## Logistic Regression (classification)\n",
    "\n",
    "Logistic Regression overcomes the drawbacks by limiting $ 0  \\le h_\\theta (x) \\le 1$\n",
    "\n",
    "    Logistic Classification == Logistic Regression"
   ]
  },
  {
   "cell_type": "markdown",
   "metadata": {},
   "source": [
    "### Logistic regression model\n",
    "\n",
    "\n",
    "$$ h_\\theta (x) = g \\big( X \\theta  \\big)  = g \\big( \\theta_0 x_0 + \\theta_1 x_1 + \\theta_2 x_2 + \\theta_3 x_3+ .... + \\theta_n x_n  \\big) $$\n",
    "    \n",
    "Where $ g(z)$  is the Sigmoid/Logistic function\n",
    "\n",
    "$$ g(z) = \\frac{1}{1+e^{-z}} $$\n",
    "\n",
    "$$ \\therefore~h_\\theta (x) = \\frac{1}{1+e^{-X\\theta}} $$\n",
    "\n",
    "\n",
    "#### Interpretation of Hypothesis output\n",
    "\n",
    "$h_\\theta(x)$ is the estimated probability that $y=1$ on input $x$\n",
    "\n",
    "\n",
    "If the output $h_\\theta(x)$ = 0.7 means there is 70% chance that the outcome is true."
   ]
  },
  {
   "cell_type": "code",
   "execution_count": 24,
   "metadata": {
    "collapsed": false
   },
   "outputs": [
    {
     "data": {
      "image/png": "[encoded data removed]",
      "text/plain": [
       "PyPlot.Figure(PyObject <matplotlib.figure.Figure object at 0x7ff6ea0b17f0>)"
      ]
     },
     "metadata": {},
     "output_type": "display_data"
    }
   ],
   "source": [
    "z = collect(-10:0.1:10)\n",
    "\n",
    "function g(z)\n",
    "    var1 = 1+exp(-z)\n",
    "    return 1./var1\n",
    "end\n",
    "\n",
    "using PyPlot\n",
    "\n",
    "PyPlot.figure(figsize=(4,3))\n",
    "\n",
    "plot(z, g(z), label = L\"g(z)\")\n",
    "\n",
    "PyPlot.xlabel(\"z\")\n",
    "PyPlot.ylabel(L\"h_\\theta\")\n",
    "PyPlot.legend(loc=2, framealpha=0);"
   ]
  },
  {
   "cell_type": "markdown",
   "metadata": {},
   "source": [
    "Linear regression recall:\n",
    "\n",
    "$ error (\\epsilon)= h_\\theta - X  \\theta $\n",
    "\n",
    "$J(\\theta_i) = \\frac{1}{2m} \\sum_{i=1}^m [h_\\theta(x^i)-y^i)]^2 $\n",
    "\n",
    "Simply rewriting the cost function $J(\\theta_i)$\n",
    "\n",
    "$$J(\\theta_i) = \\frac{1}{m} \\sum_{i=1}^m Cost( h_\\theta(x^i), y^i) $$"
   ]
  },
  {
   "cell_type": "markdown",
   "metadata": {},
   "source": [
    "### Cost/Error Function for Logistic regression\n",
    "\n",
    "+ If y = 1\n",
    "    + $Cost(h_\\theta(x), y) = -log(h_\\theta(x))$ \n",
    "\n",
    "\n",
    "+ If y = 0\n",
    "    + $Cost(h_\\theta(x), y) =-log(h_\\theta(1-x))$\n",
    "\n",
    "\n",
    "\n",
    "**The cost function can be simplified to:**\n",
    "\n",
    "$$\\begin{align*}J(\\theta) &= \\frac{1}{m}\\sum\\limits_{i=0}^m Cost( h_\\theta(x^{(i)},y^{(i)})  \\\\ &= -\\frac{1}{m}\\left[\\sum\\limits_{i=0}^m y^{(i)} log h_\\theta(x^{(i)}) + (1-y^{(i)}) log (1-h_\\theta(x^{(i)}) \\right] \\end{align*}$$\n"
   ]
  },
  {
   "cell_type": "code",
   "execution_count": 137,
   "metadata": {
    "collapsed": false
   },
   "outputs": [
    {
     "data": {
      "text/plain": [
       "logistic_cost_function (generic function with 1 method)"
      ]
     },
     "execution_count": 137,
     "metadata": {},
     "output_type": "execute_result"
    }
   ],
   "source": [
    "# X = features matrix\n",
    "# y = target vector (y = 0 or 1)\n",
    "# θ = parmeter vector\n",
    "\n",
    "# For each hypothesis\n",
    "\n",
    "function logistic_cost_function(X, y, θ)\n",
    "    m = length(y)\n",
    "\n",
    "    unit_vec = ones(length(y))\n",
    "    X1 = hcat(unit_vec,X)\n",
    "\n",
    "    prediction = 1./(1+exp(X1*(-θ))) \n",
    "    # h₀ will be a vector, \n",
    "    # each element in h₀ vector => f(x1,x2,x3...).\n",
    "\n",
    "    log_cost =  sum(.*(log(prediction), y) + \n",
    "                    .*((1.0 - y), log(1-prediction))\n",
    "                    )\n",
    "    cost = -log_cost / m\n",
    "    return cost\n",
    "end"
   ]
  },
  {
   "cell_type": "code",
   "execution_count": 132,
   "metadata": {
    "collapsed": false
   },
   "outputs": [
    {
     "data": {
      "text/plain": [
       "0.3226958325048981"
      ]
     },
     "execution_count": 132,
     "metadata": {},
     "output_type": "execute_result"
    }
   ],
   "source": [
    "X = [0.99, 0.001, .99]\n",
    "y = [1, 0, 1]\n",
    "\n",
    "θ = [0, 1]\n",
    "\n",
    "logistic_cost_function(X, y, θ)"
   ]
  },
  {
   "cell_type": "markdown",
   "metadata": {},
   "source": [
    "### Gradient descent to minimize $J_\\theta$\n",
    "\n",
    "Gradient descent is a generalized algorithm which can be applied for a linear hypothesis.\n",
    "\n",
    "$$\\theta_j := \\theta_j -\\alpha \\frac{\\partial}{\\partial \\theta_j} J(\\theta)$$\n",
    "\n",
    "\n",
    "\n",
    "$ J(\\theta) = -\\frac{1}{m} [\\sum\\limits_{i=0}^m y^{(i)} log h_\\theta(x^{(i)}) + (1-y^{(i)}) log (1-h_\\theta(x^{(i)}) ] $\n",
    "\n",
    "$\\frac{\\partial}{\\partial \\theta_j}J(\\theta) = \\frac{1}{m}\\sum\\limits_{i=1}^m(h_\\theta(x^{(i)})-y^{(i)})x_j^{(i)}$.\n",
    "\n",
    "\n",
    "After substituting $J_{\\theta}$ and similifying\n",
    "\n",
    "$$ \\theta_j := \\theta_j - \\alpha \\sum^m_{i=1} \\Big( h_\\theta(x^i) - y^i \\Big)x_j^i\n",
    "$$\n",
    "\n",
    "Note:\n",
    "\n",
    "The gradient is the same form as the gradient used in the linear case. However, the $h_\\theta$ is different\n",
    "\n",
    "$h_\\theta$ for *Linear* = $X \\theta$\n",
    "\n",
    "$h_\\theta$ for *Logistic* = $ \\frac{1}{1+e^{X\\theta}}$"
   ]
  },
  {
   "cell_type": "code",
   "execution_count": 140,
   "metadata": {
    "collapsed": false
   },
   "outputs": [
    {
     "data": {
      "text/plain": [
       "logistic_gradient_descent (generic function with 1 method)"
      ]
     },
     "execution_count": 140,
     "metadata": {},
     "output_type": "execute_result"
    }
   ],
   "source": [
    "function logistic_gradient_descent(X, y, α, iterations)\n",
    "    m = length(y)\n",
    "        \n",
    "    # add dummy to X\n",
    "    uv = ones(size(y)[1])\n",
    "    X1 = hcat(uv,X)\n",
    "    \n",
    "    #initialize thetas to zero\n",
    "    θ = zeros((size(X1)[2])) \n",
    "\n",
    "    cost_history = zeros(0)\n",
    "    \n",
    "    for i in 1:iterations\n",
    "        prediction = 1./(1+exp(X1*(-θ)))\n",
    "        loss = prediction - y\n",
    "        \n",
    "        log_cost = sum(.*(log(prediction), y) + \n",
    "                       .*((1.0 - y), log(1-prediction))\n",
    "                      )\n",
    "        cost = -log_cost/m\n",
    "        push!(cost_history, cost)\n",
    "        \n",
    "        gradient = transpose(X1)*loss\n",
    "        θ = θ - α*gradient\n",
    "    end\n",
    "    return θ, cost_history\n",
    "end"
   ]
  },
  {
   "cell_type": "code",
   "execution_count": 147,
   "metadata": {
    "collapsed": false
   },
   "outputs": [
    {
     "data": {
      "image/png": "[encoded data removed]",
      "text/plain": [
       "PyPlot.Figure(PyObject <matplotlib.figure.Figure object at 0x7ff6e9f9bb00>)"
      ]
     },
     "metadata": {},
     "output_type": "display_data"
    }
   ],
   "source": [
    "using DataFrames\n",
    "\n",
    "df = readtable(\"src/printingBusiness\", separator=' ', header=true)\n",
    "x1 = df[2]/maximum(df[2])\n",
    "x2 = df[3]/maximum(df[3])\n",
    "\n",
    "X = hcat(x1,x2)\n",
    "\n",
    "y = df[4]/maximum(df[4]);\n",
    "\n",
    "PyPlot.figure(figsize=(4,3))\n",
    "plot(X,y, \"b*\");"
   ]
  },
  {
   "cell_type": "code",
   "execution_count": 142,
   "metadata": {
    "collapsed": false
   },
   "outputs": [
    {
     "name": "stdout",
     "output_type": "stream",
     "text": [
      "θ = [-3.5368978642342324,1.1431605877930047,5.492015142179587]"
     ]
    },
    {
     "data": {
      "image/png": "[encoded data removed]",
      "text/plain": [
       "PyPlot.Figure(PyObject <matplotlib.figure.Figure object at 0x7ff6e9a7a780>)"
      ]
     },
     "metadata": {},
     "output_type": "display_data"
    },
    {
     "name": "stdout",
     "output_type": "stream",
     "text": [
      "\n",
      "logistic_cost_function(X,y,θ) = 0.45177688984333425\n"
     ]
    }
   ],
   "source": [
    "iterations = 1000\n",
    "\n",
    "θ, cost_hist = logistic_gradient_descent(X, y, 0.1, iterations)\n",
    "\n",
    "@show θ\n",
    "@show logistic_cost_function(X, y, θ)\n",
    "\n",
    "\n",
    "PyPlot.figure(figsize=(4,3))\n",
    "plot(1:iterations,cost_hist, \"b-\")\n",
    "\n",
    "PyPlot.xlabel(\"Iterations\")\n",
    "PyPlot.ylabel(\"Cost Func\");\n"
   ]
  },
  {
   "cell_type": "code",
   "execution_count": null,
   "metadata": {
    "collapsed": true
   },
   "outputs": [],
   "source": []
  },
  {
   "cell_type": "code",
   "execution_count": null,
   "metadata": {
    "collapsed": true
   },
   "outputs": [],
   "source": []
  },
  {
   "cell_type": "code",
   "execution_count": null,
   "metadata": {
    "collapsed": true
   },
   "outputs": [],
   "source": []
  },
  {
   "cell_type": "code",
   "execution_count": null,
   "metadata": {
    "collapsed": true
   },
   "outputs": [],
   "source": []
  },
  {
   "cell_type": "code",
   "execution_count": null,
   "metadata": {
    "collapsed": true
   },
   "outputs": [],
   "source": []
  },
  {
   "cell_type": "code",
   "execution_count": null,
   "metadata": {
    "collapsed": true
   },
   "outputs": [],
   "source": []
  },
  {
   "cell_type": "code",
   "execution_count": null,
   "metadata": {
    "collapsed": true
   },
   "outputs": [],
   "source": []
  },
  {
   "cell_type": "code",
   "execution_count": null,
   "metadata": {
    "collapsed": true
   },
   "outputs": [],
   "source": []
  },
  {
   "cell_type": "code",
   "execution_count": null,
   "metadata": {
    "collapsed": true
   },
   "outputs": [],
   "source": []
  },
  {
   "cell_type": "code",
   "execution_count": null,
   "metadata": {
    "collapsed": true
   },
   "outputs": [],
   "source": []
  }
 ],
 "metadata": {
  "kernelspec": {
   "display_name": "Julia 0.4.0",
   "language": "julia",
   "name": "julia-0.4"
  },
  "language_info": {
   "file_extension": ".jl",
   "mimetype": "application/julia",
   "name": "julia",
   "version": "0.4.0"
  }
 },
 "nbformat": 4,
 "nbformat_minor": 0
}
