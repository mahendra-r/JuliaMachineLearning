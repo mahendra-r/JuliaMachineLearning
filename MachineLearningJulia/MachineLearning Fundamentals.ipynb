{
 "cells": [
  {
   "cell_type": "code",
   "execution_count": 1,
   "metadata": {
    "collapsed": false
   },
   "outputs": [
    {
     "data": {
      "text/html": [
       "<style>body {\n",
       "    margin: 0;\n",
       "    font-family: Helvetica;\n",
       "}\n",
       "table.dataframe {\n",
       "    border-collapse: collapse;\n",
       "    border: none;\n",
       "}\n",
       "table.dataframe tr {\n",
       "    border: none;\n",
       "}\n",
       "table.dataframe td, table.dataframe th {\n",
       "    margin: 0;\n",
       "    border: 1px solid white;\n",
       "    padding-left: 0.25em;\n",
       "    padding-right: 0.25em;\n",
       "}\n",
       "table.dataframe th:not(:empty) {\n",
       "    background-color: #FFCCFF;\n",
       "    text-align:left;\n",
       "    font-weight: bold;\n",
       "    font-family: monospace;\n",
       "}\n",
       "table.dataframe tr:nth-child(2) th:empty {\n",
       "    border-left: none;\n",
       "    border-right: 1px dashed #888;\n",
       "}\n",
       "table.dataframe td {\n",
       "    border: 2px solid #ccf;\n",
       "    background-color: #f4f4ff;\n",
       "}\n",
       "\n",
       "h3 {\n",
       "    color: white;\n",
       "    background-color: black;\n",
       "    padding: 0.5em;\n",
       "}\n",
       "</style>"
      ],
      "text/plain": [
       "<IPython.core.display.HTML object>"
      ]
     },
     "execution_count": 1,
     "metadata": {},
     "output_type": "execute_result"
    }
   ],
   "source": [
    "%matplotlib inline\n",
    "import numpy as np\n",
    "import pandas as pd\n",
    "import scipy as sp\n",
    "\n",
    "import matplotlib.pyplot as plt\n",
    "plt.style.use('ggplot')\n",
    "\n",
    "import scipy.stats as st\n",
    "\n",
    "\n",
    "from IPython.core.display import HTML\n",
    "\n",
    "css = open('/home/mahi/MEGA/Programming/style-table.css').read() \n",
    "# + open('/home/mahi/MEGA/Programming/custom.css').read()\n",
    "HTML('<style>{}</style>'.format(css))\n"
   ]
  },
  {
   "cell_type": "markdown",
   "metadata": {},
   "source": [
    "# Machine Learning"
   ]
  },
  {
   "cell_type": "markdown",
   "metadata": {},
   "source": [
    "<a href=\"http://projecteuclid.org/download/pdf_1/euclid.ss/1009213726\">\n",
    "### Statistics vs Machine Learning\n",
    "</a>"
   ]
  },
  {
   "cell_type": "code",
   "execution_count": 2,
   "metadata": {
    "collapsed": false
   },
   "outputs": [
    {
     "data": {
      "image/png": "[encoded data removed]",
      "text/plain": [
       "<IPython.core.display.Image object>"
      ]
     },
     "execution_count": 2,
     "metadata": {
      "image/png": {
       "height": 189,
       "width": 249
      }
     },
     "output_type": "execute_result"
    }
   ],
   "source": [
    "import IPython\n",
    "\n",
    "IPython.display.Image(\"src/ML_Outline.png\",retina=True)"
   ]
  },
  {
   "cell_type": "code",
   "execution_count": 2,
   "metadata": {
    "collapsed": false
   },
   "outputs": [
    {
     "data": {
      "text/html": [
       "<div>\n",
       "<table border=\"1\" class=\"dataframe\">\n",
       "  <thead>\n",
       "    <tr style=\"text-align: right;\">\n",
       "      <th></th>\n",
       "      <th>x0</th>\n",
       "      <th>Size(feet2) x1</th>\n",
       "      <th>Bedrooms x2</th>\n",
       "      <th>Floors x3</th>\n",
       "      <th>Age(years) x4</th>\n",
       "      <th>Price($1000) y</th>\n",
       "    </tr>\n",
       "  </thead>\n",
       "  <tbody>\n",
       "    <tr>\n",
       "      <th>0</th>\n",
       "      <td>1</td>\n",
       "      <td>2140</td>\n",
       "      <td>5</td>\n",
       "      <td>1</td>\n",
       "      <td>45</td>\n",
       "      <td>460</td>\n",
       "    </tr>\n",
       "    <tr>\n",
       "      <th>1</th>\n",
       "      <td>1</td>\n",
       "      <td>1416</td>\n",
       "      <td>3</td>\n",
       "      <td>2</td>\n",
       "      <td>40</td>\n",
       "      <td>232</td>\n",
       "    </tr>\n",
       "    <tr>\n",
       "      <th>2</th>\n",
       "      <td>1</td>\n",
       "      <td>1534</td>\n",
       "      <td>3</td>\n",
       "      <td>2</td>\n",
       "      <td>30</td>\n",
       "      <td>315</td>\n",
       "    </tr>\n",
       "    <tr>\n",
       "      <th>3</th>\n",
       "      <td>1</td>\n",
       "      <td>852</td>\n",
       "      <td>2</td>\n",
       "      <td>1</td>\n",
       "      <td>36</td>\n",
       "      <td>178</td>\n",
       "    </tr>\n",
       "  </tbody>\n",
       "</table>\n",
       "</div>"
      ],
      "text/plain": [
       "   x0  Size(feet2) x1  Bedrooms x2  Floors x3  Age(years) x4   Price($1000) y\n",
       "0   1            2140            5          1             45              460\n",
       "1   1            1416            3          2             40              232\n",
       "2   1            1534            3          2             30              315\n",
       "3   1             852            2          1             36              178"
      ]
     },
     "execution_count": 2,
     "metadata": {},
     "output_type": "execute_result"
    }
   ],
   "source": [
    "pd.read_csv('./houseprice.csv')"
   ]
  },
  {
   "cell_type": "markdown",
   "metadata": {},
   "source": [
    "#### Terminilogy:\n",
    "$\\hspace{3em} m$ = number of samples i.e. len(training examples)\n",
    "\n",
    "$\\hspace{3em} n$ = number of features\n",
    "\n",
    "$\\hspace{3em} x^{(i)}$ = input variable (features) of the $i^{th}$ training example.\n",
    "\n",
    "$\\hspace{3em} x_j^{(i)}$ = value of variable (features) $j$ in the $i^{th}$ training example.\n",
    "\n",
    "$\\hspace{3em} y^{(i)}$ = output variables (training OR target) of the $i^{th}$ training example\n",
    "\n",
    "$\\hspace{3em} \\theta$ = parameters/ weights\n",
    "\n",
    "$\\hspace{3em} \\theta_j$ = parameter/ weight of $j$\n",
    "\n",
    "(Refer video 4-1)"
   ]
  },
  {
   "cell_type": "markdown",
   "metadata": {},
   "source": [
    "# We train the data to find the \"HYPOTHESIS\" (equation)\n"
   ]
  },
  {
   "cell_type": "markdown",
   "metadata": {},
   "source": [
    "[Hypothesis](## Linear representation of Hypothesis)"
   ]
  },
  {
   "cell_type": "markdown",
   "metadata": {},
   "source": [
    "### Basic Algebra\n",
    "\n",
    "$$ y = mx + c $$"
   ]
  },
  {
   "cell_type": "code",
   "execution_count": 37,
   "metadata": {
    "collapsed": false
   },
   "outputs": [
    {
     "data": {
      "text/plain": [
       "<matplotlib.legend.Legend at 0x7f1fea1b32b0>"
      ]
     },
     "execution_count": 37,
     "metadata": {},
     "output_type": "execute_result"
    },
    {
     "data": {
      "image/png": "[encoded data removed]",
      "text/plain": [
       "<matplotlib.figure.Figure at 0x7f1fea301668>"
      ]
     },
     "metadata": {},
     "output_type": "display_data"
    }
   ],
   "source": [
    "x = np.arange(0, 10)\n",
    "y = x*2\n",
    "\n",
    "\n",
    "def linefit(x, y):\n",
    "    slope = st.linregress(x,y)[0]\n",
    "    intercept = st.linregress(x,y)[1]\n",
    "    return slope, intercept\n",
    "\n",
    "slope, intercept = linefit(x,y)\n",
    "\n",
    "fit_y = x*slope+intercept\n",
    "\n",
    "\n",
    "fig, (lin_regression) = plt.subplots(1,1,figsize = (9,5))\n",
    "\n",
    "lin_regression.plot(x,y, 'kv', markersize=10, label=r\"$(x,y)$\")\n",
    "lin_regression.plot(x,fit_y, 'r--', linewidth=2, \n",
    "                    label=r\"$y={0}x+{1}$\".format(slope,intercept))\n",
    "\n",
    "\n",
    "lin_regression.set_xlabel(r\"$x$\", fontsize = 25)\n",
    "lin_regression.set_ylabel(r'$ y$',fontsize = 25)\n",
    "lin_regression.figure.set_dpi(360)\n",
    "lin_regression.legend(loc = 'best')"
   ]
  },
  {
   "cell_type": "markdown",
   "metadata": {},
   "source": [
    "$$ Y = C + m X \\pm error $$\n",
    "    \n",
    "    Assume every data point(y) can be represented as mx+C.\n",
    "$$ Y_1 = \\beta_0 + \\beta_1 X_1 \\pm error $$\n",
    "$$ Y_2 = \\beta_0 + \\beta_1 X_2 \\pm error $$\n",
    "$$ Y_3 = \\beta_0 + \\beta_1 X_3 \\pm error $$\n",
    "$$~~~.~~~~~.~~~~~~~~~.~~~~~~~~~~~~~~~.~~~$$\n",
    "$$~~~.~~~~~.~~~~~~~~~.~~~~~~~~~~~~~~~.~~~$$\n",
    "$$~~~.~~~~~.~~~~~~~~~.~~~~~~~~~~~~~~~.~~~$$\n",
    "\n",
    "$$ Y_n = \\beta_0 + \\beta_1 X_n \\pm error $$"
   ]
  },
  {
   "cell_type": "markdown",
   "metadata": {},
   "source": [
    "#### Matrix Form\n",
    "\n",
    "$$\n",
    "    \\begin{bmatrix}\n",
    "      Y_1  \\\\\n",
    "      Y_2  \\\\\n",
    "      Y_3  \\\\\n",
    "      ~.~\\\\\n",
    "      ~.~\\\\\n",
    "      Y_n  \\\\\n",
    "     \\end{bmatrix}\n",
    "    =\n",
    "    \\begin{bmatrix}\n",
    "      \\beta_0 + \\beta_1 X_1 \\\\\n",
    "      \\beta_0 + \\beta_1 X_2 \\\\\n",
    "      \\beta_0 + \\beta_1 X_3 \\\\\n",
    "        ~~~.~~~~~.~~~~~~~~~.~\\\\\n",
    "        ~~~.~~~~~.~~~~~~~~~.~\\\\\n",
    "       \\beta_n + \\beta_1 X_n \\\\\n",
    "     \\end{bmatrix}\n",
    "    \\pm\n",
    "    \\begin{bmatrix}\n",
    "      \\epsilon_1 \\\\\n",
    "      \\epsilon_2 \\\\\n",
    "      \\epsilon_3 \\\\\n",
    "        ~.~\\\\\n",
    "        ~.~\\\\\n",
    "       \\epsilon_n \\\\\n",
    "     \\end{bmatrix}\n",
    "$$\n",
    "\n",
    "$$   \\begin{bmatrix}\n",
    "      Y_1  \\\\\n",
    "      Y_2  \\\\\n",
    "      Y_3  \\\\\n",
    "      ~.~\\\\\n",
    "      ~.~\\\\\n",
    "      Y_n  \\\\\n",
    "     \\end{bmatrix}\n",
    "    =\n",
    "    \\begin{bmatrix}\n",
    "      1~~ X_1 \\\\\n",
    "      1~~ X_2 \\\\\n",
    "      1~~ X_3 \\\\\n",
    "        ~~~.~~~.~~\\\\\n",
    "        ~~~.~~~.~~\\\\\n",
    "       1~~ X_n \\\\\n",
    "     \\end{bmatrix}\n",
    "    \\begin{bmatrix}\n",
    "      \\beta_0 \\\\\n",
    "      \\beta_1 \\\\\n",
    "     \\end{bmatrix} \n",
    "    \\pm\n",
    "    \\begin{bmatrix}\n",
    "      \\epsilon_1 \\\\\n",
    "      \\epsilon_2 \\\\\n",
    "      \\epsilon_3 \\\\\n",
    "        ~.~\\\\\n",
    "        ~.~\\\\\n",
    "       \\epsilon_n \\\\\n",
    "     \\end{bmatrix}\n",
    "$$ \n",
    "\n",
    "$\\beta_{2x1}$ is the **Vector of parameters**\n",
    "\n",
    "$X_{nx2}$ is **The design matrix**\n",
    "\n",
    "$\\epsilon_{nx1}$ is the **Vector of error terms**\n",
    "\n",
    "$Y_{nx1}$ is the **Vector of Response**\n",
    "\n",
    "$$ Y_{nx1} = \\beta_{2x1} X_{nx2} \\pm \\epsilon_{nx1}$$"
   ]
  },
  {
   "cell_type": "raw",
   "metadata": {},
   "source": [
    "How to find \"m\"'s, if it depends on x1, x2, x3, x4 columns, instead of x and y?"
   ]
  },
  {
   "cell_type": "markdown",
   "metadata": {},
   "source": [
    "Note:\n",
    "\n",
    "Don't be confused by the variables $x~and~X$, ($x1 \\ne X1$).\n",
    "\n",
    "Above $X1, X2, X3$ are parameters (slopes for each data points).\n",
    "\n",
    "Below $x1, x2, x3$ are features."
   ]
  },
  {
   "cell_type": "markdown",
   "metadata": {},
   "source": [
    "## Linear representation of Hypothesis"
   ]
  },
  {
   "cell_type": "markdown",
   "metadata": {},
   "source": [
    "#### Hypothesis:\n",
    "\n",
    "$$ h_\\theta =  \\theta_0 x_0 + \\theta_1 x_1 + \\theta_2 x_2 + \\theta_3 x_3+ .... + \\theta_n x_n =\\sum_{x=0}^n \\theta_n x_n  = \\theta^T . x \\pm error$$\n",
    "\n",
    "\n",
    "#### Parameters (weights):\n",
    "$$ \\theta_0 , \\theta_1, \\theta_2, .... \\theta_n \\hspace{2em}$$\n",
    "\n",
    "\n",
    "This basically a multi dimensions $ y = m_1x_1 + m_2x_2 + ..  + c $"
   ]
  },
  {
   "cell_type": "code",
   "execution_count": 12,
   "metadata": {
    "collapsed": false
   },
   "outputs": [],
   "source": [
    "def hypothesis(features, weights):\n",
    "    h_x = np.dot(features, weights)\n",
    "    return h_x"
   ]
  },
  {
   "cell_type": "markdown",
   "metadata": {},
   "source": [
    "$$ h_\\theta =  \\theta^T . x \\pm error $$\n",
    "\n",
    "$$ error (\\epsilon)= h_\\theta -  \\theta^T . x $$\n",
    "\n",
    "choose $ \\theta $ such that $ h_\\theta(x_i)\\approx y_i $ by reducing $ error (\\epsilon) \\to 0 $ \n",
    "\n",
    "[ $h_\\theta$ of $x_i$ ]"
   ]
  },
  {
   "cell_type": "markdown",
   "metadata": {},
   "source": [
    "#### Cost / Error Function:\n",
    "$$J(\\theta_0,..\\theta_m)= \\frac{1}{2m} \\sum_{x=1}^m [h_\\theta(x^i)-y^i)]^2 $$\n",
    "\n",
    "$$h_\\theta(x^i) = \\sum_{j=0}^N \\theta_j x_j^i = \\theta_0 x_0^i+\\theta_1 x_1^i + ... + \\theta_n x_n^i = y_{predicted}^i$$\n",
    "\n",
    "\n",
    "Footnote:\n",
    "\n",
    "$J(\\theta_0,..\\theta_m) \\equiv ( \\epsilon_1, \\epsilon_2, \\epsilon_3)$"
   ]
  },
  {
   "cell_type": "code",
   "execution_count": 13,
   "metadata": {
    "collapsed": true
   },
   "outputs": [],
   "source": [
    "def cost_function(features, target, weights):\n",
    "    m = len(target)\n",
    "    sum_of_square_errors = numpy.square(hypothesis(features, weights) - target).sum()\n",
    "    cost = sum_of_square_errors / (2*m)\n",
    "    return cost"
   ]
  },
  {
   "cell_type": "markdown",
   "metadata": {},
   "source": [
    "### Goal:   Minimize the cost function / error\n",
    "\n",
    "$$\\hspace{2em} minimize ~ J(\\theta_0,\\theta_1, .... \\theta_n)$$"
   ]
  },
  {
   "cell_type": "markdown",
   "metadata": {},
   "source": [
    "## Method 1: Linear regression with \"Gradient descent\" (Numerical method)\n",
    "\n",
    "\n",
    "$$\\theta_j := \\theta_j -\\alpha \\frac{\\partial}{\\partial \\theta_j} J(\\theta)$$\n",
    "\n",
    "After substituting $J_{\\theta}$ and similifying\n",
    "\n",
    "$$ \\theta_j := \\theta_j + \\frac{\\alpha}{m} \\sum^m_{i=1} \\Big( y^i - h_\\theta(x^i)\\Big)x_j^i\n",
    "$$\n",
    "\n",
    "$\\hspace{10em}(simulatenously~update~\\theta_j ~for~all~j)$\n",
    "\n",
    "STEPS:\n",
    "    \n",
    "   * Calculate the hypothesis $ h = X^T  \\theta $ \n",
    "   * Calculate the loss $ J_{\\theta} = y - h$ (Maybe cost squared $\\frac{loss^2}{2m}$ !!)\n",
    "   * Calculate the gradient = $X' * loss$\n",
    "   * Update the parameters $\\theta = \\theta + \\frac{\\alpha}{m} * gradient$\n",
    "\n",
    "Gradient Descent notes taken from <a href=\"https://class.coursera.org/ml-003/lecture\"> coursera.com </a>\n",
    "\n"
   ]
  },
  {
   "cell_type": "code",
   "execution_count": 44,
   "metadata": {
    "collapsed": true
   },
   "outputs": [],
   "source": [
    "#Find the cost function/hypothesis by iterating 'num_iterations' times on the training data\n",
    "\n",
    "def gradient_descent(features, target, weights, alpha, num_iterations):\n",
    "    import pandas as pd\n",
    "    import numpy\n",
    "    m = len(target)\n",
    "    cost_history = []\n",
    "    \n",
    "    for i in range(num_iterations):\n",
    "        h_x = hypothesis(features, weights)\n",
    "        loss = numpy.dot((h_xi - values), features)\n",
    "        theta = theta - alpha*loss/m\n",
    "        cost = compute_cost(features,values,theta)        \n",
    "        cost_history.append(cost)\n",
    "        \n",
    "\n",
    "    return theta, pandas.Series(cost_history) # leave this line for the grader\n"
   ]
  },
  {
   "cell_type": "markdown",
   "metadata": {},
   "source": [
    "## Method 2: Linear regression with \"Normal equation\" (Analytical method)\n",
    "\n",
    "Refer 4-6\n",
    "\n",
    "\n",
    "Minimize Cost function $(J_\\theta)$ explicity by taking its derivatives wrt to $\\theta_j$\n",
    "\n",
    "$$\\frac{\\partial}{\\partial \\theta_j}(J_\\theta) = 0$$\n",
    "\n",
    "Normal equations\n",
    "\n",
    "$$ X^TX\\theta = X^T \\vec{y}$$\n",
    "\n",
    "The value of $\\theta$ that minimizes $J(\\theta)$ in <u>closed form</u> (antonym: iterative)\n",
    "\n",
    "$$\\theta = (X^TX)^{-1}X^T\\vec{y} $$\n",
    "\n",
    "**Note:**\n",
    "\n",
    "Some matrices are non-inveertable (singular/degenerate) in rare scenarios where,\n",
    "1. The feature matrix $X$ has redundent features such as hoise price in feet$^2$ and m$^2$.\n",
    "2. Too many feature (e.g. $m \\le n $). \n",
    "\n",
    "**Solution:**\n",
    "\n",
    "Delete some features or use regularization.\n",
    "\n",
    "Use `pinv` (pseudo-inverse) instead of `inv` (inverse)"
   ]
  },
  {
   "cell_type": "code",
   "execution_count": 23,
   "metadata": {
    "collapsed": false
   },
   "outputs": [],
   "source": [
    "def cost_func_normal(x_matrix,y_vector):\n",
    "    from numpy.linalg import inv,pinv\n",
    "    if len(y_vector) > len(x_matrix[0]):\n",
    "        #normal inverse\n",
    "        z = inv(dot(np.transpose(x_matrix),x_matrix))\n",
    "        theta = dot(dot(z,np.transpose(x_matrix)),y_vector)\n",
    "        return theta\n",
    "    else:\n",
    "        #psudo inverse\n",
    "        z = pinv(dot(np.transpose(x_matrix), x_matrix))\n",
    "        theta = dot(dot(z,np.transpose(x_matrix)), y_vector)\n",
    "        return theta\n",
    "    \n",
    "    #Need to verfiy the code."
   ]
  },
  {
   "cell_type": "markdown",
   "metadata": {},
   "source": [
    "## Method 3: Linear regression with \"Probabilistic interpretation\"\n",
    "\n",
    "\n",
    "Give a set of probabilistic assumption, under which least-square is derives as a very natural algorithm.\n",
    "\n",
    "#### Assume that the target varbiables and the inmput are related by \n",
    "$$y^{(i)}=\\theta^Tx^{(i)} + \\epsilon^{(i)}$$\n",
    "\n",
    "\n",
    "$\\epsilon^{(i)}$ is the unmodeled effects or random noise, distributed IID (independently and identically distributed) according to Gaussian distribution. The 'mean' and 'variance' of $\\epsilon^{(i)}$ are $0$ and  $\\sigma^2$.\n",
    "\n",
    "\n",
    "$$ p(\\epsilon^{(i)}) = \\frac{1}{\\sqrt{2\\pi\\sigma}exp\\Big( - \\frac{(y^{(i)}) - \\theta^T x^{(i)})^2}{2\\sigma^2} \\Big)}$$"
   ]
  },
  {
   "cell_type": "code",
   "execution_count": null,
   "metadata": {
    "collapsed": true
   },
   "outputs": [],
   "source": []
  },
  {
   "cell_type": "code",
   "execution_count": null,
   "metadata": {
    "collapsed": true
   },
   "outputs": [],
   "source": []
  },
  {
   "cell_type": "markdown",
   "metadata": {},
   "source": [
    "## Method 4: \"Locally weighted\" Linear regression\n"
   ]
  },
  {
   "cell_type": "code",
   "execution_count": null,
   "metadata": {
    "collapsed": true
   },
   "outputs": [],
   "source": []
  },
  {
   "cell_type": "code",
   "execution_count": null,
   "metadata": {
    "collapsed": true
   },
   "outputs": [],
   "source": []
  },
  {
   "cell_type": "code",
   "execution_count": null,
   "metadata": {
    "collapsed": true
   },
   "outputs": [],
   "source": []
  },
  {
   "cell_type": "markdown",
   "metadata": {},
   "source": [
    "# Multiple variables\n",
    "\n",
    "## Hypothesis reprsentation (Polynomial)"
   ]
  },
  {
   "cell_type": "markdown",
   "metadata": {},
   "source": [
    "#### Hypothesis\n",
    "\n",
    "$$ h_\\theta(x) =  \\theta_0 x^0 + \\theta_1 x_1^1+ \\theta_2 x_2^2 + \\theta_3 x_3^3+ .... + \\theta_n x_n^n$$\n",
    "$$ h_\\theta(x) =  \\theta_0 x^0 + \\theta_1 x_1^1+ \\theta_2 \\sqrt{x_2} +  .... \\theta f(x_n)$$\n",
    "\n",
    "Many possible ways to represent $h_\\theta(x)$ similar to a polynomial equation"
   ]
  },
  {
   "cell_type": "raw",
   "metadata": {
    "collapsed": true
   },
   "source": []
  },
  {
   "cell_type": "markdown",
   "metadata": {},
   "source": [
    "Given data **x**, a column vector, and **y**, the target vector, the data matrix for a polynomial regression can be created by appending polynomials of **x**. For example, consider if\n",
    "\n",
    "$$ \\mathbf{x} = \\begin{bmatrix}\n",
    "       2    \\\\[0.3em]\n",
    "       -1 \\\\[0.3em]\n",
    "       \\frac{1}{3}         \n",
    "     \\end{bmatrix}\n",
    "$$\n",
    "\n",
    "Using just this vector in linear regression implies the model:\n",
    "\n",
    "$$y=\\alpha_1x$$"
   ]
  },
  {
   "cell_type": "markdown",
   "metadata": {
    "collapsed": true
   },
   "source": [
    "We can add columns that are powers of the vector above, which represent adding polynomials to the regression. Below we show this for polynomials up to power 3:\n",
    "\n",
    "$$\n",
    "X = \\begin{bmatrix}\n",
    "       2 & 4 & 8 \\\\[0.3em]\n",
    "       -1 & 1 & -1 \\\\[0.3em]\n",
    "       \\frac{1}{3} & \\frac{1}{3^2} & \\frac{1}{3^3}\n",
    "     \\end{bmatrix}\n",
    "$$\n",
    "\n",
    "This is our new data matrix that we use in sklearn's linear regression, and it represents the model:\n",
    "\n",
    "$$y = \\alpha_1 x + \\alpha_2x^2 + \\alpha_3x^3$$\n",
    "\n",
    "Note that I did not add a constant vector of 1's, as sklearn will automatically include this."
   ]
  },
  {
   "cell_type": "code",
   "execution_count": null,
   "metadata": {
    "collapsed": true
   },
   "outputs": [],
   "source": []
  },
  {
   "cell_type": "markdown",
   "metadata": {},
   "source": [
    "# Classification Problems\n",
    "\n",
    "#### Binary classification problem\n",
    "\n",
    "$$ y \\in \\{ 0,1 \\} $$\n"
   ]
  },
  {
   "cell_type": "markdown",
   "metadata": {},
   "source": [
    "In case of a **Linear classifier**: $ \\big( h_\\theta (x) = \\theta^T x \\big)$\n",
    "\n",
    "$$~           /\n",
    "1|      x x x \n",
    "  |       / \n",
    "  |      / \n",
    "  |     /\n",
    "0|_x_x_x_______\n",
    "     /\n",
    "$$\n",
    "\n",
    "We can threshold the classifier output $h_\\theta (x)$ at 0.5.\n",
    "\n",
    "* if $h_\\theta \\ge 0.5 ; ~predict~ y=1$\n",
    "\n",
    "* if $h_\\theta \\le 0.5 ; ~predict~ y=0$\n",
    "\n",
    "Drawbacks:\n",
    "   \n",
    "   1. Linear classifier is highly influenced by outiers, since the *mean* changes drastically.\n",
    "   \n",
    "   2. Although $0 \\le y \\le 1$, linear regression may yeild $ 0 > h_\\theta (x)>1$"
   ]
  },
  {
   "cell_type": "raw",
   "metadata": {},
   "source": []
  },
  {
   "cell_type": "markdown",
   "metadata": {},
   "source": [
    "## Logistic Regression (classification)\n",
    "\n",
    "Logistic Regression overcomes the drawbacks by limiting $ 0  \\le h_\\theta (x) \\le 1$\n",
    "\n",
    "    Logistic Classification == Logistic Regression"
   ]
  },
  {
   "cell_type": "markdown",
   "metadata": {},
   "source": [
    "### Logistic regression model\n",
    "\n",
    "$$ h_\\theta (x) = g \\big( \\theta^T x \\big) $$\n",
    "    \n",
    "Where $ g(z)$  is the Sigmoid/Logistic function\n",
    "\n",
    "$$ g(z) = \\frac{1}{1+e^{-z}} = \\frac{1}{1+e^{-\\theta^T x}} $$"
   ]
  },
  {
   "cell_type": "markdown",
   "metadata": {},
   "source": [
    "#### Interpretation of Hypothesis output\n",
    "\n",
    "$h_\\theta(x)$ is the estimated probability that $y=1$ on input $x$\n",
    "\n",
    "\n",
    "If\n",
    "$ x = \n",
    "    \\begin{bmatrix}\n",
    "      x_0  \\\\\n",
    "      x_1  \n",
    "     \\end{bmatrix}\n",
    "    =\n",
    "    \\begin{bmatrix}\n",
    "      1  \\\\\n",
    "      tumorSize  \n",
    "     \\end{bmatrix}\n",
    "$\n",
    "outputs $h_\\theta(x)$ = 0.7, there is 70% chance."
   ]
  },
  {
   "cell_type": "markdown",
   "metadata": {},
   "source": [
    "#### Mathematical formulation\n",
    "\n",
    "$h_\\theta(x) = p(y=1 | x;\\theta)$,  means probabiilty that y = 1, given x, parameterized by $\\theta$\n",
    "\n",
    "$$ P(y=0|x;\\theta)+P(y=1|x;\\theta) = 1 $$"
   ]
  },
  {
   "cell_type": "code",
   "execution_count": null,
   "metadata": {
    "collapsed": true
   },
   "outputs": [],
   "source": []
  },
  {
   "cell_type": "code",
   "execution_count": null,
   "metadata": {
    "collapsed": true
   },
   "outputs": [],
   "source": []
  },
  {
   "cell_type": "code",
   "execution_count": null,
   "metadata": {
    "collapsed": true
   },
   "outputs": [],
   "source": []
  },
  {
   "cell_type": "code",
   "execution_count": null,
   "metadata": {
    "collapsed": true
   },
   "outputs": [],
   "source": []
  },
  {
   "cell_type": "code",
   "execution_count": null,
   "metadata": {
    "collapsed": true
   },
   "outputs": [],
   "source": []
  },
  {
   "cell_type": "code",
   "execution_count": null,
   "metadata": {
    "collapsed": true
   },
   "outputs": [],
   "source": []
  },
  {
   "cell_type": "code",
   "execution_count": null,
   "metadata": {
    "collapsed": true
   },
   "outputs": [],
   "source": []
  },
  {
   "cell_type": "code",
   "execution_count": null,
   "metadata": {
    "collapsed": true
   },
   "outputs": [],
   "source": []
  },
  {
   "cell_type": "code",
   "execution_count": null,
   "metadata": {
    "collapsed": true
   },
   "outputs": [],
   "source": []
  },
  {
   "cell_type": "code",
   "execution_count": null,
   "metadata": {
    "collapsed": true
   },
   "outputs": [],
   "source": []
  },
  {
   "cell_type": "code",
   "execution_count": null,
   "metadata": {
    "collapsed": true
   },
   "outputs": [],
   "source": []
  },
  {
   "cell_type": "code",
   "execution_count": null,
   "metadata": {
    "collapsed": true
   },
   "outputs": [],
   "source": []
  },
  {
   "cell_type": "code",
   "execution_count": null,
   "metadata": {
    "collapsed": true
   },
   "outputs": [],
   "source": []
  },
  {
   "cell_type": "code",
   "execution_count": null,
   "metadata": {
    "collapsed": true
   },
   "outputs": [],
   "source": []
  }
 ],
 "metadata": {
  "kernelspec": {
   "display_name": "Python 3",
   "language": "python",
   "name": "python3"
  },
  "language_info": {
   "codemirror_mode": {
    "name": "ipython",
    "version": 3
   },
   "file_extension": ".py",
   "mimetype": "text/x-python",
   "name": "python",
   "nbconvert_exporter": "python",
   "pygments_lexer": "ipython3",
   "version": "3.4.3"
  }
 },
 "nbformat": 4,
 "nbformat_minor": 0
}
