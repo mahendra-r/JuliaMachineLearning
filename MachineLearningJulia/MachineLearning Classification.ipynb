{
 "cells": [
  {
   "cell_type": "code",
   "execution_count": 1,
   "metadata": {
    "collapsed": false
   },
   "outputs": [
    {
     "data": {
      "text/html": [
       "<style>body {\n",
       "    margin: 0;\n",
       "    font-family: Helvetica;\n",
       "}\n",
       "table.dataframe {\n",
       "    border-collapse: collapse;\n",
       "    border: none;\n",
       "}\n",
       "table.dataframe tr {\n",
       "    border: none;\n",
       "}\n",
       "table.dataframe td, table.dataframe th {\n",
       "    margin: 0;\n",
       "    border: 1px solid white;\n",
       "    padding-left: 0.25em;\n",
       "    padding-right: 0.25em;\n",
       "}\n",
       "table.dataframe th:not(:empty) {\n",
       "    background-color: #FFCCFF;\n",
       "    text-align:left;\n",
       "    font-weight: bold;\n",
       "    font-family: monospace;\n",
       "}\n",
       "table.dataframe tr:nth-child(2) th:empty {\n",
       "    border-left: none;\n",
       "    border-right: 1px dashed #888;\n",
       "}\n",
       "table.dataframe td {\n",
       "    border: 2px solid #ccf;\n",
       "    background-color: #f4f4ff;\n",
       "}\n",
       "\n",
       "h3 {\n",
       "    color: white;\n",
       "    background-color: black;\n",
       "    padding: 0.5em;\n",
       "}\n",
       "</style>"
      ],
      "text/plain": [
       "<IPython.core.display.HTML object>"
      ]
     },
     "execution_count": 1,
     "metadata": {},
     "output_type": "execute_result"
    }
   ],
   "source": [
    "%matplotlib inline\n",
    "import numpy as np\n",
    "import pandas as pd\n",
    "import scipy as sp\n",
    "\n",
    "import matplotlib.pyplot as plt\n",
    "plt.style.use('ggplot')\n",
    "\n",
    "import scipy.stats as st\n",
    "\n",
    "\n",
    "from IPython.core.display import HTML\n",
    "\n",
    "css = open('/home/mahi/MEGA/Programming/style-table.css').read() \n",
    "# + open('/home/mahi/MEGA/Programming/custom.css').read()\n",
    "HTML('<style>{}</style>'.format(css))\n"
   ]
  },
  {
   "cell_type": "markdown",
   "metadata": {},
   "source": [
    "# Classification Problems\n",
    "\n",
    "#### Binary classification problem\n",
    "\n",
    "$$ y \\in \\{ 0,1 \\} $$\n"
   ]
  },
  {
   "cell_type": "markdown",
   "metadata": {},
   "source": [
    "In case of a **Linear classifier**: $ \\big( h_\\theta (x) = \\theta^T x \\big)$\n",
    "\n",
    "$$~           /\n",
    "1|      x x x \n",
    "  |       / \n",
    "  |      / \n",
    "  |     /\n",
    "0|_x_x_x_______\n",
    "     /\n",
    "$$\n",
    "\n",
    "We can threshold the classifier output $h_\\theta (x)$ at 0.5.\n",
    "\n",
    "* if $h_\\theta \\ge 0.5 ; ~predict~ y=1$\n",
    "\n",
    "* if $h_\\theta \\le 0.5 ; ~predict~ y=0$\n",
    "\n",
    "Drawbacks:\n",
    "   \n",
    "   1. Linear classifier is highly influenced by outiers, since the *mean* changes drastically.\n",
    "   \n",
    "   2. Although $0 \\le y \\le 1$, linear regression may yeild $ 0 > h_\\theta (x)>1$"
   ]
  },
  {
   "cell_type": "raw",
   "metadata": {},
   "source": []
  },
  {
   "cell_type": "markdown",
   "metadata": {},
   "source": [
    "## Logistic Regression (classification)\n",
    "\n",
    "Logistic Regression overcomes the drawbacks by limiting $ 0  \\le h_\\theta (x) \\le 1$\n",
    "\n",
    "    Logistic Classification == Logistic Regression"
   ]
  },
  {
   "cell_type": "markdown",
   "metadata": {},
   "source": [
    "### Logistic regression model\n",
    "\n",
    "$$ h_\\theta (x) = g \\big( \\theta^T x \\big) $$\n",
    "    \n",
    "Where $ g(z)$  is the Sigmoid/Logistic function\n",
    "\n",
    "$$ g(z) = \\frac{1}{1+e^{-z}} = \\frac{1}{1+e^{-\\theta^T x}} $$"
   ]
  },
  {
   "cell_type": "markdown",
   "metadata": {},
   "source": [
    "#### Interpretation of Hypothesis output\n",
    "\n",
    "$h_\\theta(x)$ is the estimated probability that $y=1$ on input $x$\n",
    "\n",
    "\n",
    "If\n",
    "$ x = \n",
    "    \\begin{bmatrix}\n",
    "      x_0  \\\\\n",
    "      x_1  \n",
    "     \\end{bmatrix}\n",
    "    =\n",
    "    \\begin{bmatrix}\n",
    "      1  \\\\\n",
    "      tumorSize  \n",
    "     \\end{bmatrix}\n",
    "$\n",
    "outputs $h_\\theta(x)$ = 0.7, there is 70% chance."
   ]
  },
  {
   "cell_type": "markdown",
   "metadata": {},
   "source": [
    "#### Mathematical formulation\n",
    "\n",
    "$h_\\theta(x) = p(y=1 | x;\\theta)$,  means probabiilty that y = 1, given x, parameterized by $\\theta$\n",
    "\n",
    "$$ P(y=0|x;\\theta)+P(y=1|x;\\theta) = 1 $$"
   ]
  },
  {
   "cell_type": "code",
   "execution_count": null,
   "metadata": {
    "collapsed": true
   },
   "outputs": [],
   "source": []
  },
  {
   "cell_type": "code",
   "execution_count": null,
   "metadata": {
    "collapsed": true
   },
   "outputs": [],
   "source": []
  },
  {
   "cell_type": "code",
   "execution_count": null,
   "metadata": {
    "collapsed": true
   },
   "outputs": [],
   "source": []
  },
  {
   "cell_type": "code",
   "execution_count": null,
   "metadata": {
    "collapsed": true
   },
   "outputs": [],
   "source": []
  },
  {
   "cell_type": "code",
   "execution_count": null,
   "metadata": {
    "collapsed": true
   },
   "outputs": [],
   "source": []
  }
 ],
 "metadata": {
  "kernelspec": {
   "display_name": "Python 3",
   "language": "python",
   "name": "python3"
  },
  "language_info": {
   "codemirror_mode": {
    "name": "ipython",
    "version": 3
   },
   "file_extension": ".py",
   "mimetype": "text/x-python",
   "name": "python",
   "nbconvert_exporter": "python",
   "pygments_lexer": "ipython3",
   "version": "3.4.3"
  }
 },
 "nbformat": 4,
 "nbformat_minor": 0
}
