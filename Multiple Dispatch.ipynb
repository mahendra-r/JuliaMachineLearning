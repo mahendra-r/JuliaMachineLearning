{
 "cells": [
  {
   "cell_type": "markdown",
   "metadata": {},
   "source": [
    "# (Dynamic) Multiple Dispatch in Julia"
   ]
  },
  {
   "cell_type": "markdown",
   "metadata": {},
   "source": [
    "[Multiple dispatch](http://en.wikipedia.org/wiki/Multiple_dispatch) can be thought of as a generalization of **object-oriented** (OO) programming.\n",
    "\n",
    "In a typical OO language like Python, an object type (class) *owns* certain *methods* (functions), and are typically called via\n",
    "```\n",
    "object.method(arg1, arg2)\n",
    "```\n",
    "Depending on the type of `object`, the runtime system will *dispatch* to different `method` definitions.\n",
    "\n",
    "In Julia, the same call would be \"spelled\" differently:\n",
    "```\n",
    "method(object, arg1, arg2)\n",
    "```\n",
    "Spelled this way, you should notice something odd about OO programming: why is the *first* argument so special?\n",
    "\n",
    "Traditional OO programming corresponds to **single dispatch**: the runtime chooses `method` based on the type of the *first* argument only.   Julia implements **multiple dispatch**: the runtime chooses `method` based on the types of *all* the arguments."
   ]
  },
  {
   "cell_type": "markdown",
   "metadata": {},
   "source": [
    "## Example: Binary mathematical operators"
   ]
  },
  {
   "cell_type": "markdown",
   "metadata": {},
   "source": [
    "A classic example of the need for multiple dispatch is the case of binary math operators.  If you compute `x * y`, the definition of the `*` function depends upon *both* the arguments, not just on `x`.\n",
    "\n",
    "Julia defines *many versions* of the `*` function:"
   ]
  },
  {
   "cell_type": "code",
   "execution_count": 1,
   "metadata": {
    "collapsed": false
   },
   "outputs": [
    {
     "data": {
      "text/html": [
       "130 methods for generic function <b>*</b>:<ul><li> *(x::<b>Bool</b>,y::<b>Bool</b>) at <a href=\"https://github.com/JuliaLang/julia/tree/678103af28e80a0ea4847ff2375cee522593166c/base/bool.jl#L41\" target=\"_blank\">bool.jl:41</a><li> *<i>{T<:Unsigned}</i>(x::<b>Bool</b>,y::<b>T<:Unsigned</b>) at <a href=\"https://github.com/JuliaLang/julia/tree/678103af28e80a0ea4847ff2375cee522593166c/base/bool.jl#L56\" target=\"_blank\">bool.jl:56</a><li> *(x::<b>Bool</b>,z::<b>Complex{T<:Real}</b>) at <a href=\"https://github.com/JuliaLang/julia/tree/678103af28e80a0ea4847ff2375cee522593166c/base/complex.jl#L116\" target=\"_blank\">complex.jl:116</a><li> *<i>{T<:Number}</i>(x::<b>Bool</b>,y::<b>T<:Number</b>) at <a href=\"https://github.com/JuliaLang/julia/tree/678103af28e80a0ea4847ff2375cee522593166c/base/bool.jl#L52\" target=\"_blank\">bool.jl:52</a><li> *(z::<b>Complex{T<:Real}</b>,x::<b>Bool</b>) at <a href=\"https://github.com/JuliaLang/julia/tree/678103af28e80a0ea4847ff2375cee522593166c/base/complex.jl#L117\" target=\"_blank\">complex.jl:117</a><li> *(y::<b>Number</b>,x::<b>Bool</b>) at <a href=\"https://github.com/JuliaLang/julia/tree/678103af28e80a0ea4847ff2375cee522593166c/base/bool.jl#L58\" target=\"_blank\">bool.jl:58</a><li> *<i>{T,S}</i>(A::<b>Union(DenseArray{T,2},SubArray{T,2,A<:DenseArray{T,N},I<:(Union(Int64,Range{Int64})...,)})</b>,B::<b>Union(SubArray{S,2,A<:DenseArray{T,N},I<:(Union(Int64,Range{Int64})...,)},DenseArray{S,2})</b>) at <a href=\"https://github.com/JuliaLang/julia/tree/678103af28e80a0ea4847ff2375cee522593166c/base/linalg/matmul.jl#L116\" target=\"_blank\">linalg/matmul.jl:116</a><li> *(A::<b>Union(Hermitian{T,S},Symmetric{T,S})</b>,B::<b>Union(Hermitian{T,S},Symmetric{T,S})</b>) at <a href=\"https://github.com/JuliaLang/julia/tree/678103af28e80a0ea4847ff2375cee522593166c/base/linalg/symmetric.jl#L44\" target=\"_blank\">linalg/symmetric.jl:44</a><li> *(A::<b>Union(DenseArray{T,2},SubArray{T,2,A<:DenseArray{T,N},I<:(Union(Int64,Range{Int64})...,)})</b>,B::<b>Union(Hermitian{T,S},Symmetric{T,S})</b>) at <a href=\"https://github.com/JuliaLang/julia/tree/678103af28e80a0ea4847ff2375cee522593166c/base/linalg/symmetric.jl#L45\" target=\"_blank\">linalg/symmetric.jl:45</a><li> *(A::<b>Tridiagonal{T}</b>,B::<b>Triangular{T,S<:AbstractArray{T,2},UpLo,IsUnit}</b>) at <a href=\"https://github.com/JuliaLang/julia/tree/678103af28e80a0ea4847ff2375cee522593166c/base/linalg/triangular.jl#L181\" target=\"_blank\">linalg/triangular.jl:181</a><li> *<i>{T<:Union(Float64,Complex{Float64},Complex{Float32},Float32),S<:Union(DenseArray{T,2},SubArray{T,2,A<:DenseArray{T,N},I<:(Union(Int64,Range{Int64})...,)}),UpLo,IsUnit}</i>(A::<b>Triangular{T<:Union(Float64,Complex{Float64},Complex{Float32},Float32),S<:Union(DenseArray{T,2},SubArray{T,2,A<:DenseArray{T,N},I<:(Union(Int64,Range{Int64})...,)}),UpLo,IsUnit}</b>,B::<b>Triangular{T<:Union(Float64,Complex{Float64},Complex{Float32},Float32),S<:Union(DenseArray{T,2},SubArray{T,2,A<:DenseArray{T,N},I<:(Union(Int64,Range{Int64})...,)}),UpLo,IsUnit}</b>) at <a href=\"https://github.com/JuliaLang/julia/tree/678103af28e80a0ea4847ff2375cee522593166c/base/linalg/triangular.jl#L22\" target=\"_blank\">linalg/triangular.jl:22</a><li> *<i>{TA,TB,SA<:AbstractArray{T,2},SB<:AbstractArray{T,2},UpLoA,UpLoB,IsUnitA,IsUnitB}</i>(A::<b>Triangular{TA,SA<:AbstractArray{T,2},UpLoA,IsUnitA}</b>,B::<b>Triangular{TB,SB<:AbstractArray{T,2},UpLoB,IsUnitB}</b>) at <a href=\"https://github.com/JuliaLang/julia/tree/678103af28e80a0ea4847ff2375cee522593166c/base/linalg/triangular.jl#L184\" target=\"_blank\">linalg/triangular.jl:184</a><li> *(Da::<b>Diagonal{T}</b>,Db::<b>Diagonal{T}</b>) at <a href=\"https://github.com/JuliaLang/julia/tree/678103af28e80a0ea4847ff2375cee522593166c/base/linalg/diagonal.jl#L50\" target=\"_blank\">linalg/diagonal.jl:50</a><li> *(A::<b>Union(Diagonal{T},Tridiagonal{T},SymTridiagonal{T},Bidiagonal{T},Triangular{T,S<:AbstractArray{T,2},UpLo,IsUnit})</b>,B::<b>Union(Diagonal{T},Tridiagonal{T},SymTridiagonal{T},Bidiagonal{T},Triangular{T,S<:AbstractArray{T,2},UpLo,IsUnit})</b>) at <a href=\"https://github.com/JuliaLang/julia/tree/678103af28e80a0ea4847ff2375cee522593166c/base/linalg/bidiag.jl#L114\" target=\"_blank\">linalg/bidiag.jl:114</a><li> *<i>{T<:Union(Int32,Int16,Int8)}</i>(x::<b>T<:Union(Int32,Int16,Int8)</b>,y::<b>T<:Union(Int32,Int16,Int8)</b>) at <a href=\"https://github.com/JuliaLang/julia/tree/678103af28e80a0ea4847ff2375cee522593166c/base/int.jl#L18\" target=\"_blank\">int.jl:18</a><li> *<i>{T<:Union(Uint16,Uint32,Uint8)}</i>(x::<b>T<:Union(Uint16,Uint32,Uint8)</b>,y::<b>T<:Union(Uint16,Uint32,Uint8)</b>) at <a href=\"https://github.com/JuliaLang/julia/tree/678103af28e80a0ea4847ff2375cee522593166c/base/int.jl#L22\" target=\"_blank\">int.jl:22</a><li> *(x::<b>Int64</b>,y::<b>Int64</b>) at <a href=\"https://github.com/JuliaLang/julia/tree/678103af28e80a0ea4847ff2375cee522593166c/base/int.jl#L47\" target=\"_blank\">int.jl:47</a><li> *(x::<b>Uint64</b>,y::<b>Uint64</b>) at <a href=\"https://github.com/JuliaLang/julia/tree/678103af28e80a0ea4847ff2375cee522593166c/base/int.jl#L48\" target=\"_blank\">int.jl:48</a><li> *(x::<b>Int128</b>,y::<b>Int128</b>) at <a href=\"https://github.com/JuliaLang/julia/tree/678103af28e80a0ea4847ff2375cee522593166c/base/int.jl#L586\" target=\"_blank\">int.jl:586</a><li> *(x::<b>Uint128</b>,y::<b>Uint128</b>) at <a href=\"https://github.com/JuliaLang/julia/tree/678103af28e80a0ea4847ff2375cee522593166c/base/int.jl#L587\" target=\"_blank\">int.jl:587</a><li> *(x::<b>Float32</b>,y::<b>Float32</b>) at <a href=\"https://github.com/JuliaLang/julia/tree/678103af28e80a0ea4847ff2375cee522593166c/base/float.jl#L123\" target=\"_blank\">float.jl:123</a><li> *(x::<b>Float64</b>,y::<b>Float64</b>) at <a href=\"https://github.com/JuliaLang/julia/tree/678103af28e80a0ea4847ff2375cee522593166c/base/float.jl#L124\" target=\"_blank\">float.jl:124</a><li> *(z::<b>Complex{T<:Real}</b>,w::<b>Complex{T<:Real}</b>) at <a href=\"https://github.com/JuliaLang/julia/tree/678103af28e80a0ea4847ff2375cee522593166c/base/complex.jl#L112\" target=\"_blank\">complex.jl:112</a><li> *(x::<b>Real</b>,z::<b>Complex{T<:Real}</b>) at <a href=\"https://github.com/JuliaLang/julia/tree/678103af28e80a0ea4847ff2375cee522593166c/base/complex.jl#L118\" target=\"_blank\">complex.jl:118</a><li> *(z::<b>Complex{T<:Real}</b>,x::<b>Real</b>) at <a href=\"https://github.com/JuliaLang/julia/tree/678103af28e80a0ea4847ff2375cee522593166c/base/complex.jl#L119\" target=\"_blank\">complex.jl:119</a><li> *(x::<b>Rational{T<:Integer}</b>,y::<b>Rational{T<:Integer}</b>) at <a href=\"https://github.com/JuliaLang/julia/tree/678103af28e80a0ea4847ff2375cee522593166c/base/rational.jl#L118\" target=\"_blank\">rational.jl:118</a><li> *(a::<b>Float16</b>,b::<b>Float16</b>) at <a href=\"https://github.com/JuliaLang/julia/tree/678103af28e80a0ea4847ff2375cee522593166c/base/float16.jl#L132\" target=\"_blank\">float16.jl:132</a><li> *(x::<b>BigInt</b>,y::<b>BigInt</b>) at <a href=\"https://github.com/JuliaLang/julia/tree/678103af28e80a0ea4847ff2375cee522593166c/base/gmp.jl#L194\" target=\"_blank\">gmp.jl:194</a><li> *(a::<b>BigInt</b>,b::<b>BigInt</b>,c::<b>BigInt</b>) at <a href=\"https://github.com/JuliaLang/julia/tree/678103af28e80a0ea4847ff2375cee522593166c/base/gmp.jl#L217\" target=\"_blank\">gmp.jl:217</a><li> *(a::<b>BigInt</b>,b::<b>BigInt</b>,c::<b>BigInt</b>,d::<b>BigInt</b>) at <a href=\"https://github.com/JuliaLang/julia/tree/678103af28e80a0ea4847ff2375cee522593166c/base/gmp.jl#L223\" target=\"_blank\">gmp.jl:223</a><li> *(a::<b>BigInt</b>,b::<b>BigInt</b>,c::<b>BigInt</b>,d::<b>BigInt</b>,e::<b>BigInt</b>) at <a href=\"https://github.com/JuliaLang/julia/tree/678103af28e80a0ea4847ff2375cee522593166c/base/gmp.jl#L230\" target=\"_blank\">gmp.jl:230</a><li> *(x::<b>BigInt</b>,c::<b>Uint64</b>) at <a href=\"https://github.com/JuliaLang/julia/tree/678103af28e80a0ea4847ff2375cee522593166c/base/gmp.jl#L268\" target=\"_blank\">gmp.jl:268</a><li> *(c::<b>Uint64</b>,x::<b>BigInt</b>) at <a href=\"https://github.com/JuliaLang/julia/tree/678103af28e80a0ea4847ff2375cee522593166c/base/gmp.jl#L272\" target=\"_blank\">gmp.jl:272</a><li> *(c::<b>Union(Uint16,Uint32,Uint8,Uint64)</b>,x::<b>BigInt</b>) at <a href=\"https://github.com/JuliaLang/julia/tree/678103af28e80a0ea4847ff2375cee522593166c/base/gmp.jl#L273\" target=\"_blank\">gmp.jl:273</a><li> *(x::<b>BigInt</b>,c::<b>Union(Uint16,Uint32,Uint8,Uint64)</b>) at <a href=\"https://github.com/JuliaLang/julia/tree/678103af28e80a0ea4847ff2375cee522593166c/base/gmp.jl#L274\" target=\"_blank\">gmp.jl:274</a><li> *(x::<b>BigInt</b>,c::<b>Int64</b>) at <a href=\"https://github.com/JuliaLang/julia/tree/678103af28e80a0ea4847ff2375cee522593166c/base/gmp.jl#L276\" target=\"_blank\">gmp.jl:276</a><li> *(c::<b>Int64</b>,x::<b>BigInt</b>) at <a href=\"https://github.com/JuliaLang/julia/tree/678103af28e80a0ea4847ff2375cee522593166c/base/gmp.jl#L280\" target=\"_blank\">gmp.jl:280</a><li> *(x::<b>BigInt</b>,c::<b>Union(Int32,Int64,Int16,Int8)</b>) at <a href=\"https://github.com/JuliaLang/julia/tree/678103af28e80a0ea4847ff2375cee522593166c/base/gmp.jl#L281\" target=\"_blank\">gmp.jl:281</a><li> *(c::<b>Union(Int32,Int64,Int16,Int8)</b>,x::<b>BigInt</b>) at <a href=\"https://github.com/JuliaLang/julia/tree/678103af28e80a0ea4847ff2375cee522593166c/base/gmp.jl#L282\" target=\"_blank\">gmp.jl:282</a><li> *(x::<b>BigFloat</b>,c::<b>Uint64</b>) at <a href=\"https://github.com/JuliaLang/julia/tree/678103af28e80a0ea4847ff2375cee522593166c/base/mpfr.jl#L239\" target=\"_blank\">mpfr.jl:239</a><li> *(c::<b>Uint64</b>,x::<b>BigFloat</b>) at <a href=\"https://github.com/JuliaLang/julia/tree/678103af28e80a0ea4847ff2375cee522593166c/base/mpfr.jl#L243\" target=\"_blank\">mpfr.jl:243</a><li> *(c::<b>Union(Uint16,Uint32,Uint8,Uint64)</b>,x::<b>BigFloat</b>) at <a href=\"https://github.com/JuliaLang/julia/tree/678103af28e80a0ea4847ff2375cee522593166c/base/mpfr.jl#L244\" target=\"_blank\">mpfr.jl:244</a><li> *(x::<b>BigFloat</b>,c::<b>Union(Uint16,Uint32,Uint8,Uint64)</b>) at <a href=\"https://github.com/JuliaLang/julia/tree/678103af28e80a0ea4847ff2375cee522593166c/base/mpfr.jl#L245\" target=\"_blank\">mpfr.jl:245</a><li> *(x::<b>BigFloat</b>,c::<b>Int64</b>) at <a href=\"https://github.com/JuliaLang/julia/tree/678103af28e80a0ea4847ff2375cee522593166c/base/mpfr.jl#L249\" target=\"_blank\">mpfr.jl:249</a><li> *(c::<b>Int64</b>,x::<b>BigFloat</b>) at <a href=\"https://github.com/JuliaLang/julia/tree/678103af28e80a0ea4847ff2375cee522593166c/base/mpfr.jl#L253\" target=\"_blank\">mpfr.jl:253</a><li> *(x::<b>BigFloat</b>,c::<b>Union(Int32,Int64,Int16,Int8)</b>) at <a href=\"https://github.com/JuliaLang/julia/tree/678103af28e80a0ea4847ff2375cee522593166c/base/mpfr.jl#L254\" target=\"_blank\">mpfr.jl:254</a><li> *(c::<b>Union(Int32,Int64,Int16,Int8)</b>,x::<b>BigFloat</b>) at <a href=\"https://github.com/JuliaLang/julia/tree/678103af28e80a0ea4847ff2375cee522593166c/base/mpfr.jl#L255\" target=\"_blank\">mpfr.jl:255</a><li> *(x::<b>BigFloat</b>,c::<b>Float64</b>) at <a href=\"https://github.com/JuliaLang/julia/tree/678103af28e80a0ea4847ff2375cee522593166c/base/mpfr.jl#L259\" target=\"_blank\">mpfr.jl:259</a><li> *(c::<b>Float64</b>,x::<b>BigFloat</b>) at <a href=\"https://github.com/JuliaLang/julia/tree/678103af28e80a0ea4847ff2375cee522593166c/base/mpfr.jl#L263\" target=\"_blank\">mpfr.jl:263</a><li> *(c::<b>Float32</b>,x::<b>BigFloat</b>) at <a href=\"https://github.com/JuliaLang/julia/tree/678103af28e80a0ea4847ff2375cee522593166c/base/mpfr.jl#L264\" target=\"_blank\">mpfr.jl:264</a><li> *(x::<b>BigFloat</b>,c::<b>Float32</b>) at <a href=\"https://github.com/JuliaLang/julia/tree/678103af28e80a0ea4847ff2375cee522593166c/base/mpfr.jl#L265\" target=\"_blank\">mpfr.jl:265</a><li> *(x::<b>BigFloat</b>,c::<b>BigInt</b>) at <a href=\"https://github.com/JuliaLang/julia/tree/678103af28e80a0ea4847ff2375cee522593166c/base/mpfr.jl#L269\" target=\"_blank\">mpfr.jl:269</a><li> *(c::<b>BigInt</b>,x::<b>BigFloat</b>) at <a href=\"https://github.com/JuliaLang/julia/tree/678103af28e80a0ea4847ff2375cee522593166c/base/mpfr.jl#L273\" target=\"_blank\">mpfr.jl:273</a><li> *(x::<b>BigFloat</b>,y::<b>BigFloat</b>) at <a href=\"https://github.com/JuliaLang/julia/tree/678103af28e80a0ea4847ff2375cee522593166c/base/mpfr.jl#L328\" target=\"_blank\">mpfr.jl:328</a><li> *(a::<b>BigFloat</b>,b::<b>BigFloat</b>,c::<b>BigFloat</b>) at <a href=\"https://github.com/JuliaLang/julia/tree/678103af28e80a0ea4847ff2375cee522593166c/base/mpfr.jl#L339\" target=\"_blank\">mpfr.jl:339</a><li> *(a::<b>BigFloat</b>,b::<b>BigFloat</b>,c::<b>BigFloat</b>,d::<b>BigFloat</b>) at <a href=\"https://github.com/JuliaLang/julia/tree/678103af28e80a0ea4847ff2375cee522593166c/base/mpfr.jl#L345\" target=\"_blank\">mpfr.jl:345</a><li> *(a::<b>BigFloat</b>,b::<b>BigFloat</b>,c::<b>BigFloat</b>,d::<b>BigFloat</b>,e::<b>BigFloat</b>) at <a href=\"https://github.com/JuliaLang/julia/tree/678103af28e80a0ea4847ff2375cee522593166c/base/mpfr.jl#L352\" target=\"_blank\">mpfr.jl:352</a><li> *(x::<b>MathConst{sym}</b>,y::<b>MathConst{sym}</b>) at <a href=\"https://github.com/JuliaLang/julia/tree/678103af28e80a0ea4847ff2375cee522593166c/base/constants.jl#L23\" target=\"_blank\">constants.jl:23</a><li> *<i>{T<:Number}</i>(x::<b>T<:Number</b>,y::<b>T<:Number</b>) at <a href=\"https://github.com/JuliaLang/julia/tree/678103af28e80a0ea4847ff2375cee522593166c/base/promotion.jl#L189\" target=\"_blank\">promotion.jl:189</a><li> *(x::<b>Number</b>,y::<b>Number</b>) at <a href=\"https://github.com/JuliaLang/julia/tree/678103af28e80a0ea4847ff2375cee522593166c/base/promotion.jl#L159\" target=\"_blank\">promotion.jl:159</a><li> *<i>{T<:Number}</i>(x::<b>T<:Number</b>,D::<b>Diagonal{T}</b>) at <a href=\"https://github.com/JuliaLang/julia/tree/678103af28e80a0ea4847ff2375cee522593166c/base/linalg/diagonal.jl#L47\" target=\"_blank\">linalg/diagonal.jl:47</a><li> *(s::<b>Real</b>,p::<b>Vec2</b>) at <a href=\"https://github.com/JuliaLang/julia/tree/678103af28e80a0ea4847ff2375cee522593166c/base/graphics.jl#L64\" target=\"_blank\">graphics.jl:64</a><li> *(s::<b>Real</b>,bb::<b>BoundingBox</b>) at <a href=\"https://github.com/JuliaLang/julia/tree/678103af28e80a0ea4847ff2375cee522593166c/base/graphics.jl#L151\" target=\"_blank\">graphics.jl:151</a><li> *<i>{P<:Period}</i>(x::<b>Real</b>,y::<b>P<:Period</b>) at <a href=\"https://github.com/JuliaLang/julia/tree/678103af28e80a0ea4847ff2375cee522593166c/base/dates/periods.jl#L58\" target=\"_blank\">dates/periods.jl:58</a><li> *(x::<b>Number</b>) at <a href=\"https://github.com/JuliaLang/julia/tree/678103af28e80a0ea4847ff2375cee522593166c/base/operators.jl#L72\" target=\"_blank\">operators.jl:72</a><li> *<i>{T<:Union(Float64,Complex{Float64},Complex{Float32},Float32),S}</i>(A::<b>Union(SubArray{T<:Union(Float64,Complex{Float64},Complex{Float32},Float32),2,A<:DenseArray{T,N},I<:(Union(Int64,Range{Int64})...,)},DenseArray{T<:Union(Float64,Complex{Float64},Complex{Float32},Float32),2})</b>,x::<b>Union(SubArray{S,1,A<:DenseArray{T,N},I<:(Union(Int64,Range{Int64})...,)},DenseArray{S,1})</b>) at <a href=\"https://github.com/JuliaLang/julia/tree/678103af28e80a0ea4847ff2375cee522593166c/base/linalg/matmul.jl#L67\" target=\"_blank\">linalg/matmul.jl:67</a><li> *(A::<b>SymTridiagonal{T}</b>,B::<b>Number</b>) at <a href=\"https://github.com/JuliaLang/julia/tree/678103af28e80a0ea4847ff2375cee522593166c/base/linalg/tridiag.jl#L47\" target=\"_blank\">linalg/tridiag.jl:47</a><li> *(A::<b>Tridiagonal{T}</b>,B::<b>Number</b>) at <a href=\"https://github.com/JuliaLang/julia/tree/678103af28e80a0ea4847ff2375cee522593166c/base/linalg/tridiag.jl#L209\" target=\"_blank\">linalg/tridiag.jl:209</a><li> *<i>{TX,TvA,TiA}</i>(X::<b>Tridiagonal{TX}</b>,A::<b>SparseMatrixCSC{TvA,TiA}</b>) at <a href=\"https://github.com/JuliaLang/julia/tree/678103af28e80a0ea4847ff2375cee522593166c/base/linalg/sparse.jl#L128\" target=\"_blank\">linalg/sparse.jl:128</a><li> *(A::<b>Tridiagonal{T}</b>,B::<b>Union(AbstractArray{T,2},AbstractArray{T,1})</b>) at <a href=\"https://github.com/JuliaLang/julia/tree/678103af28e80a0ea4847ff2375cee522593166c/base/linalg/tridiag.jl#L251\" target=\"_blank\">linalg/tridiag.jl:251</a><li> *<i>{T<:Union(Float64,Complex{Float64},Complex{Float32},Float32),S<:Union(DenseArray{T,2},SubArray{T,2,A<:DenseArray{T,N},I<:(Union(Int64,Range{Int64})...,)}),UpLo,IsUnit}</i>(A::<b>Triangular{T<:Union(Float64,Complex{Float64},Complex{Float32},Float32),S<:Union(DenseArray{T,2},SubArray{T,2,A<:DenseArray{T,N},I<:(Union(Int64,Range{Int64})...,)}),UpLo,IsUnit}</b>,B::<b>Union(DenseArray{T,2},SubArray{T,2,A<:DenseArray{T,N},I<:(Union(Int64,Range{Int64})...,)},SubArray{T,1,A<:DenseArray{T,N},I<:(Union(Int64,Range{Int64})...,)},DenseArray{T,1})</b>) at <a href=\"https://github.com/JuliaLang/julia/tree/678103af28e80a0ea4847ff2375cee522593166c/base/linalg/triangular.jl#L23\" target=\"_blank\">linalg/triangular.jl:23</a><li> *<i>{T,S,UpLo,IsUnit}</i>(A::<b>Triangular{T,S,UpLo,IsUnit}</b>,x::<b>Number</b>) at <a href=\"https://github.com/JuliaLang/julia/tree/678103af28e80a0ea4847ff2375cee522593166c/base/linalg/triangular.jl#L156\" target=\"_blank\">linalg/triangular.jl:156</a><li> *<i>{TvA,TiA}</i>(X::<b>Triangular{T,S<:AbstractArray{T,2},UpLo,IsUnit}</b>,A::<b>SparseMatrixCSC{TvA,TiA}</b>) at <a href=\"https://github.com/JuliaLang/julia/tree/678103af28e80a0ea4847ff2375cee522593166c/base/linalg/sparse.jl#L129\" target=\"_blank\">linalg/sparse.jl:129</a><li> *<i>{T,S<:AbstractArray{T,2},UpLo,IsUnit}</i>(A::<b>Triangular{T,S<:AbstractArray{T,2},UpLo,IsUnit}</b>,B::<b>Union(AbstractArray{T,2},AbstractArray{T,1})</b>) at <a href=\"https://github.com/JuliaLang/julia/tree/678103af28e80a0ea4847ff2375cee522593166c/base/linalg/triangular.jl#L185\" target=\"_blank\">linalg/triangular.jl:185</a><li> *<i>{TA,Tb}</i>(A::<b>Union(QRCompactWYQ{TA},QRPackedQ{TA})</b>,b::<b>Union(DenseArray{Tb,1},SubArray{Tb,1,A<:DenseArray{T,N},I<:(Union(Int64,Range{Int64})...,)})</b>) at <a href=\"https://github.com/JuliaLang/julia/tree/678103af28e80a0ea4847ff2375cee522593166c/base/linalg/factorization.jl#L158\" target=\"_blank\">linalg/factorization.jl:158</a><li> *<i>{TA,TB}</i>(A::<b>Union(QRCompactWYQ{TA},QRPackedQ{TA})</b>,B::<b>Union(DenseArray{TB,2},SubArray{TB,2,A<:DenseArray{T,N},I<:(Union(Int64,Range{Int64})...,)})</b>) at <a href=\"https://github.com/JuliaLang/julia/tree/678103af28e80a0ea4847ff2375cee522593166c/base/linalg/factorization.jl#L164\" target=\"_blank\">linalg/factorization.jl:164</a><li> *<i>{TA,TQ,N}</i>(A::<b>Union(SubArray{TA,N,A<:DenseArray{T,N},I<:(Union(Int64,Range{Int64})...,)},DenseArray{TA,N})</b>,Q::<b>Union(QRCompactWYQ{TQ},QRPackedQ{TQ})</b>) at <a href=\"https://github.com/JuliaLang/julia/tree/678103af28e80a0ea4847ff2375cee522593166c/base/linalg/factorization.jl#L226\" target=\"_blank\">linalg/factorization.jl:226</a><li> *(W::<b>Woodbury{T}</b>,B::<b>Union(DenseArray{T,2},SubArray{T,2,A<:DenseArray{T,N},I<:(Union(Int64,Range{Int64})...,)},SubArray{T,1,A<:DenseArray{T,N},I<:(Union(Int64,Range{Int64})...,)},DenseArray{T,1})</b>) at <a href=\"https://github.com/JuliaLang/julia/tree/678103af28e80a0ea4847ff2375cee522593166c/base/linalg/woodbury.jl#L70\" target=\"_blank\">linalg/woodbury.jl:70</a><li> *<i>{T<:Number}</i>(D::<b>Diagonal{T}</b>,x::<b>T<:Number</b>) at <a href=\"https://github.com/JuliaLang/julia/tree/678103af28e80a0ea4847ff2375cee522593166c/base/linalg/diagonal.jl#L48\" target=\"_blank\">linalg/diagonal.jl:48</a><li> *(D::<b>Diagonal{T}</b>,V::<b>Array{T,1}</b>) at <a href=\"https://github.com/JuliaLang/julia/tree/678103af28e80a0ea4847ff2375cee522593166c/base/linalg/diagonal.jl#L51\" target=\"_blank\">linalg/diagonal.jl:51</a><li> *(A::<b>Array{T,2}</b>,D::<b>Diagonal{T}</b>) at <a href=\"https://github.com/JuliaLang/julia/tree/678103af28e80a0ea4847ff2375cee522593166c/base/linalg/diagonal.jl#L52\" target=\"_blank\">linalg/diagonal.jl:52</a><li> *(D::<b>Diagonal{T}</b>,A::<b>Array{T,2}</b>) at <a href=\"https://github.com/JuliaLang/julia/tree/678103af28e80a0ea4847ff2375cee522593166c/base/linalg/diagonal.jl#L53\" target=\"_blank\">linalg/diagonal.jl:53</a><li> *(A::<b>Bidiagonal{T}</b>,B::<b>Number</b>) at <a href=\"https://github.com/JuliaLang/julia/tree/678103af28e80a0ea4847ff2375cee522593166c/base/linalg/bidiag.jl#L108\" target=\"_blank\">linalg/bidiag.jl:108</a><li> *<i>{T}</i>(A::<b>Bidiagonal{T}</b>,B::<b>AbstractArray{T,1}</b>) at <a href=\"https://github.com/JuliaLang/julia/tree/678103af28e80a0ea4847ff2375cee522593166c/base/linalg/bidiag.jl#L119\" target=\"_blank\">linalg/bidiag.jl:119</a><li> *(B::<b>BitArray{2}</b>,J::<b>UniformScaling{T<:Number}</b>) at <a href=\"https://github.com/JuliaLang/julia/tree/678103af28e80a0ea4847ff2375cee522593166c/base/linalg/uniformscaling.jl#L68\" target=\"_blank\">linalg/uniformscaling.jl:68</a><li> *(S::<b>SparseMatrixCSC{Tv,Ti<:Integer}</b>,J::<b>UniformScaling{T<:Number}</b>) at <a href=\"https://github.com/JuliaLang/julia/tree/678103af28e80a0ea4847ff2375cee522593166c/base/linalg/uniformscaling.jl#L70\" target=\"_blank\">linalg/uniformscaling.jl:70</a><li> *<i>{T}</i>(G1::<b>Givens{T}</b>,G2::<b>Givens{T}</b>) at <a href=\"https://github.com/JuliaLang/julia/tree/678103af28e80a0ea4847ff2375cee522593166c/base/linalg/givens.jl#L197\" target=\"_blank\">linalg/givens.jl:197</a><li> *(G::<b>Givens{T}</b>,B::<b>BitArray{2}</b>) at <a href=\"https://github.com/JuliaLang/julia/tree/678103af28e80a0ea4847ff2375cee522593166c/base/linalg/givens.jl#L198\" target=\"_blank\">linalg/givens.jl:198</a><li> *<i>{TBf,TBi}</i>(G::<b>Givens{T}</b>,B::<b>SparseMatrixCSC{TBf,TBi}</b>) at <a href=\"https://github.com/JuliaLang/julia/tree/678103af28e80a0ea4847ff2375cee522593166c/base/linalg/givens.jl#L199\" target=\"_blank\">linalg/givens.jl:199</a><li> *(R::<b>Union(Givens{T},Rotation{T})</b>,A::<b>AbstractArray{T,2}</b>) at <a href=\"https://github.com/JuliaLang/julia/tree/678103af28e80a0ea4847ff2375cee522593166c/base/linalg/givens.jl#L200\" target=\"_blank\">linalg/givens.jl:200</a><li> *<i>{Tv,Ti}</i>(A::<b>SparseMatrixCSC{Tv,Ti}</b>,B::<b>SparseMatrixCSC{Tv,Ti}</b>) at <a href=\"https://github.com/JuliaLang/julia/tree/678103af28e80a0ea4847ff2375cee522593166c/base/linalg/sparse.jl#L143\" target=\"_blank\">linalg/sparse.jl:143</a><li> *<i>{TvA,TiA,TvB,TiB}</i>(A::<b>SparseMatrixCSC{TvA,TiA}</b>,B::<b>SparseMatrixCSC{TvB,TiB}</b>) at <a href=\"https://github.com/JuliaLang/julia/tree/678103af28e80a0ea4847ff2375cee522593166c/base/linalg/sparse.jl#L4\" target=\"_blank\">linalg/sparse.jl:4</a><li> *<i>{TvA,TiA}</i>(A::<b>SparseMatrixCSC{TvA,TiA}</b>,X::<b>BitArray{1}</b>) at <a href=\"https://github.com/JuliaLang/julia/tree/678103af28e80a0ea4847ff2375cee522593166c/base/linalg/sparse.jl#L11\" target=\"_blank\">linalg/sparse.jl:11</a><li> *<i>{TvA,TiA}</i>(A::<b>SparseMatrixCSC{TvA,TiA}</b>,X::<b>BitArray{2}</b>) at <a href=\"https://github.com/JuliaLang/julia/tree/678103af28e80a0ea4847ff2375cee522593166c/base/linalg/sparse.jl#L109\" target=\"_blank\">linalg/sparse.jl:109</a><li> *<i>{TA,S,Tx}</i>(A::<b>SparseMatrixCSC{TA,S}</b>,x::<b>AbstractArray{Tx,1}</b>) at <a href=\"https://github.com/JuliaLang/julia/tree/678103af28e80a0ea4847ff2375cee522593166c/base/linalg/sparse.jl#L32\" target=\"_blank\">linalg/sparse.jl:32</a><li> *(X::<b>BitArray{1}</b>,A::<b>SparseMatrixCSC{Tv,Ti<:Integer}</b>) at <a href=\"https://github.com/JuliaLang/julia/tree/678103af28e80a0ea4847ff2375cee522593166c/base/linalg/sparse.jl#L95\" target=\"_blank\">linalg/sparse.jl:95</a><li> *<i>{TvA,TiA,TX}</i>(A::<b>SparseMatrixCSC{TvA,TiA}</b>,X::<b>AbstractArray{TX,2}</b>) at <a href=\"https://github.com/JuliaLang/julia/tree/678103af28e80a0ea4847ff2375cee522593166c/base/linalg/sparse.jl#L111\" target=\"_blank\">linalg/sparse.jl:111</a><li> *<i>{TvA,TiA}</i>(X::<b>BitArray{2}</b>,A::<b>SparseMatrixCSC{TvA,TiA}</b>) at <a href=\"https://github.com/JuliaLang/julia/tree/678103af28e80a0ea4847ff2375cee522593166c/base/linalg/sparse.jl#L126\" target=\"_blank\">linalg/sparse.jl:126</a><li> *<i>{T<:Number}</i>(x::<b>AbstractArray{T<:Number,2}</b>) at <a href=\"https://github.com/JuliaLang/julia/tree/678103af28e80a0ea4847ff2375cee522593166c/base/abstractarray.jl#L363\" target=\"_blank\">abstractarray.jl:363</a><li> *(B::<b>Number</b>,A::<b>SymTridiagonal{T}</b>) at <a href=\"https://github.com/JuliaLang/julia/tree/678103af28e80a0ea4847ff2375cee522593166c/base/linalg/tridiag.jl#L48\" target=\"_blank\">linalg/tridiag.jl:48</a><li> *(B::<b>Number</b>,A::<b>Tridiagonal{T}</b>) at <a href=\"https://github.com/JuliaLang/julia/tree/678103af28e80a0ea4847ff2375cee522593166c/base/linalg/tridiag.jl#L210\" target=\"_blank\">linalg/tridiag.jl:210</a><li> *<i>{T,S,UpLo,IsUnit}</i>(x::<b>Number</b>,A::<b>Triangular{T,S,UpLo,IsUnit}</b>) at <a href=\"https://github.com/JuliaLang/julia/tree/678103af28e80a0ea4847ff2375cee522593166c/base/linalg/triangular.jl#L165\" target=\"_blank\">linalg/triangular.jl:165</a><li> *(B::<b>Number</b>,A::<b>Bidiagonal{T}</b>) at <a href=\"https://github.com/JuliaLang/julia/tree/678103af28e80a0ea4847ff2375cee522593166c/base/linalg/bidiag.jl#L109\" target=\"_blank\">linalg/bidiag.jl:109</a><li> *(A::<b>Number</b>,B::<b>AbstractArray{T,N}</b>) at <a href=\"https://github.com/JuliaLang/julia/tree/678103af28e80a0ea4847ff2375cee522593166c/base/abstractarray.jl#L367\" target=\"_blank\">abstractarray.jl:367</a><li> *(A::<b>AbstractArray{T,N}</b>,B::<b>Number</b>) at <a href=\"https://github.com/JuliaLang/julia/tree/678103af28e80a0ea4847ff2375cee522593166c/base/abstractarray.jl#L368\" target=\"_blank\">abstractarray.jl:368</a><li> *(s::<b>String...</b>) at <a href=\"https://github.com/JuliaLang/julia/tree/678103af28e80a0ea4847ff2375cee522593166c/base/string.jl#L76\" target=\"_blank\">string.jl:76</a><li> *<i>{T,S<:AbstractArray{T,2},UpLo,IsUnit}</i>(A::<b>AbstractArray{T,2}</b>,B::<b>Triangular{T,S<:AbstractArray{T,2},UpLo,IsUnit}</b>) at <a href=\"https://github.com/JuliaLang/julia/tree/678103af28e80a0ea4847ff2375cee522593166c/base/linalg/triangular.jl#L186\" target=\"_blank\">linalg/triangular.jl:186</a><li> *<i>{TX,TvA,TiA}</i>(X::<b>AbstractArray{TX,2}</b>,A::<b>SparseMatrixCSC{TvA,TiA}</b>) at <a href=\"https://github.com/JuliaLang/julia/tree/678103af28e80a0ea4847ff2375cee522593166c/base/linalg/sparse.jl#L131\" target=\"_blank\">linalg/sparse.jl:131</a><li> *<i>{T,S}</i>(A::<b>AbstractArray{T,2}</b>,x::<b>AbstractArray{S,1}</b>) at <a href=\"https://github.com/JuliaLang/julia/tree/678103af28e80a0ea4847ff2375cee522593166c/base/linalg/matmul.jl#L71\" target=\"_blank\">linalg/matmul.jl:71</a><li> *<i>{T1,T2}</i>(X::<b>AbstractArray{T1,1}</b>,A::<b>SparseMatrixCSC{T2,Ti<:Integer}</b>) at <a href=\"https://github.com/JuliaLang/julia/tree/678103af28e80a0ea4847ff2375cee522593166c/base/linalg/sparse.jl#L99\" target=\"_blank\">linalg/sparse.jl:99</a><li> *(A::<b>AbstractArray{T,1}</b>,B::<b>AbstractArray{T,2}</b>) at <a href=\"https://github.com/JuliaLang/julia/tree/678103af28e80a0ea4847ff2375cee522593166c/base/linalg/matmul.jl#L74\" target=\"_blank\">linalg/matmul.jl:74</a><li> *(J1::<b>UniformScaling{T<:Number}</b>,J2::<b>UniformScaling{T<:Number}</b>) at <a href=\"https://github.com/JuliaLang/julia/tree/678103af28e80a0ea4847ff2375cee522593166c/base/linalg/uniformscaling.jl#L67\" target=\"_blank\">linalg/uniformscaling.jl:67</a><li> *(J::<b>UniformScaling{T<:Number}</b>,B::<b>BitArray{2}</b>) at <a href=\"https://github.com/JuliaLang/julia/tree/678103af28e80a0ea4847ff2375cee522593166c/base/linalg/uniformscaling.jl#L69\" target=\"_blank\">linalg/uniformscaling.jl:69</a><li> *<i>{Tv,Ti}</i>(J::<b>UniformScaling{T<:Number}</b>,S::<b>SparseMatrixCSC{Tv,Ti}</b>) at <a href=\"https://github.com/JuliaLang/julia/tree/678103af28e80a0ea4847ff2375cee522593166c/base/linalg/uniformscaling.jl#L71\" target=\"_blank\">linalg/uniformscaling.jl:71</a><li> *(A::<b>AbstractArray{T,2}</b>,J::<b>UniformScaling{T<:Number}</b>) at <a href=\"https://github.com/JuliaLang/julia/tree/678103af28e80a0ea4847ff2375cee522593166c/base/linalg/uniformscaling.jl#L72\" target=\"_blank\">linalg/uniformscaling.jl:72</a><li> *(J::<b>UniformScaling{T<:Number}</b>,A::<b>Union(AbstractArray{T,2},AbstractArray{T,1})</b>) at <a href=\"https://github.com/JuliaLang/julia/tree/678103af28e80a0ea4847ff2375cee522593166c/base/linalg/uniformscaling.jl#L73\" target=\"_blank\">linalg/uniformscaling.jl:73</a><li> *(x::<b>Number</b>,J::<b>UniformScaling{T<:Number}</b>) at <a href=\"https://github.com/JuliaLang/julia/tree/678103af28e80a0ea4847ff2375cee522593166c/base/linalg/uniformscaling.jl#L75\" target=\"_blank\">linalg/uniformscaling.jl:75</a><li> *(J::<b>UniformScaling{T<:Number}</b>,x::<b>Number</b>) at <a href=\"https://github.com/JuliaLang/julia/tree/678103af28e80a0ea4847ff2375cee522593166c/base/linalg/uniformscaling.jl#L76\" target=\"_blank\">linalg/uniformscaling.jl:76</a><li> *<i>{Tv<:Union(Float64,Complex{Float64},Complex{Float32},Float32)}</i>(A::<b>CholmodSparse{Tv<:Union(Float64,Complex{Float64},Complex{Float32},Float32),Int32}</b>,B::<b>CholmodSparse{Tv<:Union(Float64,Complex{Float64},Complex{Float32},Float32),Int32}</b>) at <a href=\"https://github.com/JuliaLang/julia/tree/678103af28e80a0ea4847ff2375cee522593166c/base/linalg/cholmod.jl#L478\" target=\"_blank\">linalg/cholmod.jl:478</a><li> *<i>{Tv<:Union(Float64,Complex{Float64},Complex{Float32},Float32)}</i>(A::<b>CholmodSparse{Tv<:Union(Float64,Complex{Float64},Complex{Float32},Float32),Int64}</b>,B::<b>CholmodSparse{Tv<:Union(Float64,Complex{Float64},Complex{Float32},Float32),Int64}</b>) at <a href=\"https://github.com/JuliaLang/julia/tree/678103af28e80a0ea4847ff2375cee522593166c/base/linalg/cholmod.jl#L478\" target=\"_blank\">linalg/cholmod.jl:478</a><li> *<i>{Tv<:Union(Float64,Complex{Float64},Complex{Float32},Float32)}</i>(A::<b>CholmodSparse{Tv<:Union(Float64,Complex{Float64},Complex{Float32},Float32),Ti<:Union(Int32,Int64)}</b>,B::<b>CholmodDense{Tv<:Union(Float64,Complex{Float64},Complex{Float32},Float32)}</b>) at <a href=\"https://github.com/JuliaLang/julia/tree/678103af28e80a0ea4847ff2375cee522593166c/base/linalg/cholmod.jl#L835\" target=\"_blank\">linalg/cholmod.jl:835</a><li> *<i>{Tv<:Union(Float64,Complex{Float64},Complex{Float32},Float32)}</i>(A::<b>CholmodSparse{Tv<:Union(Float64,Complex{Float64},Complex{Float32},Float32),Ti<:Union(Int32,Int64)}</b>,B::<b>Union(Array{Tv<:Union(Float64,Complex{Float64},Complex{Float32},Float32),1},Array{Tv<:Union(Float64,Complex{Float64},Complex{Float32},Float32),2})</b>) at <a href=\"https://github.com/JuliaLang/julia/tree/678103af28e80a0ea4847ff2375cee522593166c/base/linalg/cholmod.jl#L836\" target=\"_blank\">linalg/cholmod.jl:836</a><li> *(p::<b>Vec2</b>,s::<b>Real</b>) at <a href=\"https://github.com/JuliaLang/julia/tree/678103af28e80a0ea4847ff2375cee522593166c/base/graphics.jl#L62\" target=\"_blank\">graphics.jl:62</a><li> *(bb::<b>BoundingBox</b>,s::<b>Real</b>) at <a href=\"https://github.com/JuliaLang/julia/tree/678103af28e80a0ea4847ff2375cee522593166c/base/graphics.jl#L147\" target=\"_blank\">graphics.jl:147</a><li> *<i>{P<:Period}</i>(x::<b>P<:Period</b>,y::<b>P<:Period</b>) at <a href=\"https://github.com/JuliaLang/julia/tree/678103af28e80a0ea4847ff2375cee522593166c/base/dates/periods.jl#L55\" target=\"_blank\">dates/periods.jl:55</a><li> *<i>{P<:Period}</i>(x::<b>P<:Period</b>,y::<b>Real</b>) at <a href=\"https://github.com/JuliaLang/julia/tree/678103af28e80a0ea4847ff2375cee522593166c/base/dates/periods.jl#L57\" target=\"_blank\">dates/periods.jl:57</a><li> *(x::<b>Instant</b>,y::<b>Instant</b>) at <a href=\"https://github.com/JuliaLang/julia/tree/678103af28e80a0ea4847ff2375cee522593166c/base/dates/arithmetic.jl#L3\" target=\"_blank\">dates/arithmetic.jl:3</a><li> *(x::<b>TimeType</b>,y::<b>TimeType</b>) at <a href=\"https://github.com/JuliaLang/julia/tree/678103af28e80a0ea4847ff2375cee522593166c/base/dates/arithmetic.jl#L10\" target=\"_blank\">dates/arithmetic.jl:10</a><li> *(a,b,c) at <a href=\"https://github.com/JuliaLang/julia/tree/678103af28e80a0ea4847ff2375cee522593166c/base/operators.jl#L82\" target=\"_blank\">operators.jl:82</a><li> *(a,b,c,xs...) at <a href=\"https://github.com/JuliaLang/julia/tree/678103af28e80a0ea4847ff2375cee522593166c/base/operators.jl#L83\" target=\"_blank\">operators.jl:83</a></ul>"
      ],
      "text/plain": [
       "# 130 methods for generic function \"*\":\n",
       "*(x::Bool,y::Bool) at bool.jl:41\n",
       "*{T<:Unsigned}(x::Bool,y::T<:Unsigned) at bool.jl:56\n",
       "*(x::Bool,z::Complex{T<:Real}) at complex.jl:116\n",
       "*{T<:Number}(x::Bool,y::T<:Number) at bool.jl:52\n",
       "*(z::Complex{T<:Real},x::Bool) at complex.jl:117\n",
       "*(y::Number,x::Bool) at bool.jl:58\n",
       "*{T,S}(A::Union(DenseArray{T,2},SubArray{T,2,A<:DenseArray{T,N},I<:(Union(Int64,Range{Int64})...,)}),B::Union(SubArray{S,2,A<:DenseArray{T,N},I<:(Union(Int64,Range{Int64})...,)},DenseArray{S,2})) at linalg/matmul.jl:116\n",
       "*(A::Union(Hermitian{T,S},Symmetric{T,S}),B::Union(Hermitian{T,S},Symmetric{T,S})) at linalg/symmetric.jl:44\n",
       "*(A::Union(DenseArray{T,2},SubArray{T,2,A<:DenseArray{T,N},I<:(Union(Int64,Range{Int64})...,)}),B::Union(Hermitian{T,S},Symmetric{T,S})) at linalg/symmetric.jl:45\n",
       "*(A::Tridiagonal{T},B::Triangular{T,S<:AbstractArray{T,2},UpLo,IsUnit}) at linalg/triangular.jl:181\n",
       "*{T<:Union(Float64,Complex{Float64},Complex{Float32},Float32),S<:Union(DenseArray{T,2},SubArray{T,2,A<:DenseArray{T,N},I<:(Union(Int64,Range{Int64})...,)}),UpLo,IsUnit}(A::Triangular{T<:Union(Float64,Complex{Float64},Complex{Float32},Float32),S<:Union(DenseArray{T,2},SubArray{T,2,A<:DenseArray{T,N},I<:(Union(Int64,Range{Int64})...,)}),UpLo,IsUnit},B::Triangular{T<:Union(Float64,Complex{Float64},Complex{Float32},Float32),S<:Union(DenseArray{T,2},SubArray{T,2,A<:DenseArray{T,N},I<:(Union(Int64,Range{Int64})...,)}),UpLo,IsUnit}) at linalg/triangular.jl:22\n",
       "*{TA,TB,SA<:AbstractArray{T,2},SB<:AbstractArray{T,2},UpLoA,UpLoB,IsUnitA,IsUnitB}(A::Triangular{TA,SA<:AbstractArray{T,2},UpLoA,IsUnitA},B::Triangular{TB,SB<:AbstractArray{T,2},UpLoB,IsUnitB}) at linalg/triangular.jl:184\n",
       "*(Da::Diagonal{T},Db::Diagonal{T}) at linalg/diagonal.jl:50\n",
       "*(A::Union(Diagonal{T},Tridiagonal{T},SymTridiagonal{T},Bidiagonal{T},Triangular{T,S<:AbstractArray{T,2},UpLo,IsUnit}),B::Union(Diagonal{T},Tridiagonal{T},SymTridiagonal{T},Bidiagonal{T},Triangular{T,S<:AbstractArray{T,2},UpLo,IsUnit})) at linalg/bidiag.jl:114\n",
       "*{T<:Union(Int32,Int16,Int8)}(x::T<:Union(Int32,Int16,Int8),y::T<:Union(Int32,Int16,Int8)) at int.jl:18\n",
       "*{T<:Union(Uint16,Uint32,Uint8)}(x::T<:Union(Uint16,Uint32,Uint8),y::T<:Union(Uint16,Uint32,Uint8)) at int.jl:22\n",
       "*(x::Int64,y::Int64) at int.jl:47\n",
       "*(x::Uint64,y::Uint64) at int.jl:48\n",
       "*(x::Int128,y::Int128) at int.jl:586\n",
       "*(x::Uint128,y::Uint128) at int.jl:587\n",
       "*(x::Float32,y::Float32) at float.jl:123\n",
       "*(x::Float64,y::Float64) at float.jl:124\n",
       "*(z::Complex{T<:Real},w::Complex{T<:Real}) at complex.jl:112\n",
       "*(x::Real,z::Complex{T<:Real}) at complex.jl:118\n",
       "*(z::Complex{T<:Real},x::Real) at complex.jl:119\n",
       "*(x::Rational{T<:Integer},y::Rational{T<:Integer}) at rational.jl:118\n",
       "*(a::Float16,b::Float16) at float16.jl:132\n",
       "*(x::BigInt,y::BigInt) at gmp.jl:194\n",
       "*(a::BigInt,b::BigInt,c::BigInt) at gmp.jl:217\n",
       "*(a::BigInt,b::BigInt,c::BigInt,d::BigInt) at gmp.jl:223\n",
       "*(a::BigInt,b::BigInt,c::BigInt,d::BigInt,e::BigInt) at gmp.jl:230\n",
       "*(x::BigInt,c::Uint64) at gmp.jl:268\n",
       "*(c::Uint64,x::BigInt) at gmp.jl:272\n",
       "*(c::Union(Uint16,Uint32,Uint8,Uint64),x::BigInt) at gmp.jl:273\n",
       "*(x::BigInt,c::Union(Uint16,Uint32,Uint8,Uint64)) at gmp.jl:274\n",
       "*(x::BigInt,c::Int64) at gmp.jl:276\n",
       "*(c::Int64,x::BigInt) at gmp.jl:280\n",
       "*(x::BigInt,c::Union(Int32,Int64,Int16,Int8)) at gmp.jl:281\n",
       "*(c::Union(Int32,Int64,Int16,Int8),x::BigInt) at gmp.jl:282\n",
       "*(x::BigFloat,c::Uint64) at mpfr.jl:239\n",
       "*(c::Uint64,x::BigFloat) at mpfr.jl:243\n",
       "*(c::Union(Uint16,Uint32,Uint8,Uint64),x::BigFloat) at mpfr.jl:244\n",
       "*(x::BigFloat,c::Union(Uint16,Uint32,Uint8,Uint64)) at mpfr.jl:245\n",
       "*(x::BigFloat,c::Int64) at mpfr.jl:249\n",
       "*(c::Int64,x::BigFloat) at mpfr.jl:253\n",
       "*(x::BigFloat,c::Union(Int32,Int64,Int16,Int8)) at mpfr.jl:254\n",
       "*(c::Union(Int32,Int64,Int16,Int8),x::BigFloat) at mpfr.jl:255\n",
       "*(x::BigFloat,c::Float64) at mpfr.jl:259\n",
       "*(c::Float64,x::BigFloat) at mpfr.jl:263\n",
       "*(c::Float32,x::BigFloat) at mpfr.jl:264\n",
       "*(x::BigFloat,c::Float32) at mpfr.jl:265\n",
       "*(x::BigFloat,c::BigInt) at mpfr.jl:269\n",
       "*(c::BigInt,x::BigFloat) at mpfr.jl:273\n",
       "*(x::BigFloat,y::BigFloat) at mpfr.jl:328\n",
       "*(a::BigFloat,b::BigFloat,c::BigFloat) at mpfr.jl:339\n",
       "*(a::BigFloat,b::BigFloat,c::BigFloat,d::BigFloat) at mpfr.jl:345\n",
       "*(a::BigFloat,b::BigFloat,c::BigFloat,d::BigFloat,e::BigFloat) at mpfr.jl:352\n",
       "*(x::MathConst{sym},y::MathConst{sym}) at constants.jl:23\n",
       "*{T<:Number}(x::T<:Number,y::T<:Number) at promotion.jl:189\n",
       "*(x::Number,y::Number) at promotion.jl:159\n",
       "*{T<:Number}(x::T<:Number,D::Diagonal{T}) at linalg/diagonal.jl:47\n",
       "*(s::Real,p::Vec2) at graphics.jl:64\n",
       "*(s::Real,bb::BoundingBox) at graphics.jl:151\n",
       "*{P<:Period}(x::Real,y::P<:Period) at dates/periods.jl:58\n",
       "*(x::Number) at operators.jl:72\n",
       "*{T<:Union(Float64,Complex{Float64},Complex{Float32},Float32),S}(A::Union(SubArray{T<:Union(Float64,Complex{Float64},Complex{Float32},Float32),2,A<:DenseArray{T,N},I<:(Union(Int64,Range{Int64})...,)},DenseArray{T<:Union(Float64,Complex{Float64},Complex{Float32},Float32),2}),x::Union(SubArray{S,1,A<:DenseArray{T,N},I<:(Union(Int64,Range{Int64})...,)},DenseArray{S,1})) at linalg/matmul.jl:67\n",
       "*(A::SymTridiagonal{T},B::Number) at linalg/tridiag.jl:47\n",
       "*(A::Tridiagonal{T},B::Number) at linalg/tridiag.jl:209\n",
       "*{TX,TvA,TiA}(X::Tridiagonal{TX},A::SparseMatrixCSC{TvA,TiA}) at linalg/sparse.jl:128\n",
       "*(A::Tridiagonal{T},B::Union(AbstractArray{T,2},AbstractArray{T,1})) at linalg/tridiag.jl:251\n",
       "*{T<:Union(Float64,Complex{Float64},Complex{Float32},Float32),S<:Union(DenseArray{T,2},SubArray{T,2,A<:DenseArray{T,N},I<:(Union(Int64,Range{Int64})...,)}),UpLo,IsUnit}(A::Triangular{T<:Union(Float64,Complex{Float64},Complex{Float32},Float32),S<:Union(DenseArray{T,2},SubArray{T,2,A<:DenseArray{T,N},I<:(Union(Int64,Range{Int64})...,)}),UpLo,IsUnit},B::Union(DenseArray{T,2},SubArray{T,2,A<:DenseArray{T,N},I<:(Union(Int64,Range{Int64})...,)},SubArray{T,1,A<:DenseArray{T,N},I<:(Union(Int64,Range{Int64})...,)},DenseArray{T,1})) at linalg/triangular.jl:23\n",
       "*{T,S,UpLo,IsUnit}(A::Triangular{T,S,UpLo,IsUnit},x::Number) at linalg/triangular.jl:156\n",
       "*{TvA,TiA}(X::Triangular{T,S<:AbstractArray{T,2},UpLo,IsUnit},A::SparseMatrixCSC{TvA,TiA}) at linalg/sparse.jl:129\n",
       "*{T,S<:AbstractArray{T,2},UpLo,IsUnit}(A::Triangular{T,S<:AbstractArray{T,2},UpLo,IsUnit},B::Union(AbstractArray{T,2},AbstractArray{T,1})) at linalg/triangular.jl:185\n",
       "*{TA,Tb}(A::Union(QRCompactWYQ{TA},QRPackedQ{TA}),b::Union(DenseArray{Tb,1},SubArray{Tb,1,A<:DenseArray{T,N},I<:(Union(Int64,Range{Int64})...,)})) at linalg/factorization.jl:158\n",
       "*{TA,TB}(A::Union(QRCompactWYQ{TA},QRPackedQ{TA}),B::Union(DenseArray{TB,2},SubArray{TB,2,A<:DenseArray{T,N},I<:(Union(Int64,Range{Int64})...,)})) at linalg/factorization.jl:164\n",
       "*{TA,TQ,N}(A::Union(SubArray{TA,N,A<:DenseArray{T,N},I<:(Union(Int64,Range{Int64})...,)},DenseArray{TA,N}),Q::Union(QRCompactWYQ{TQ},QRPackedQ{TQ})) at linalg/factorization.jl:226\n",
       "*(W::Woodbury{T},B::Union(DenseArray{T,2},SubArray{T,2,A<:DenseArray{T,N},I<:(Union(Int64,Range{Int64})...,)},SubArray{T,1,A<:DenseArray{T,N},I<:(Union(Int64,Range{Int64})...,)},DenseArray{T,1})) at linalg/woodbury.jl:70\n",
       "*{T<:Number}(D::Diagonal{T},x::T<:Number) at linalg/diagonal.jl:48\n",
       "*(D::Diagonal{T},V::Array{T,1}) at linalg/diagonal.jl:51\n",
       "*(A::Array{T,2},D::Diagonal{T}) at linalg/diagonal.jl:52\n",
       "*(D::Diagonal{T},A::Array{T,2}) at linalg/diagonal.jl:53\n",
       "*(A::Bidiagonal{T},B::Number) at linalg/bidiag.jl:108\n",
       "*{T}(A::Bidiagonal{T},B::AbstractArray{T,1}) at linalg/bidiag.jl:119\n",
       "*(B::BitArray{2},J::UniformScaling{T<:Number}) at linalg/uniformscaling.jl:68\n",
       "*(S::SparseMatrixCSC{Tv,Ti<:Integer},J::UniformScaling{T<:Number}) at linalg/uniformscaling.jl:70\n",
       "*{T}(G1::Givens{T},G2::Givens{T}) at linalg/givens.jl:197\n",
       "*(G::Givens{T},B::BitArray{2}) at linalg/givens.jl:198\n",
       "*{TBf,TBi}(G::Givens{T},B::SparseMatrixCSC{TBf,TBi}) at linalg/givens.jl:199\n",
       "*(R::Union(Givens{T},Rotation{T}),A::AbstractArray{T,2}) at linalg/givens.jl:200\n",
       "*{Tv,Ti}(A::SparseMatrixCSC{Tv,Ti},B::SparseMatrixCSC{Tv,Ti}) at linalg/sparse.jl:143\n",
       "*{TvA,TiA,TvB,TiB}(A::SparseMatrixCSC{TvA,TiA},B::SparseMatrixCSC{TvB,TiB}) at linalg/sparse.jl:4\n",
       "*{TvA,TiA}(A::SparseMatrixCSC{TvA,TiA},X::BitArray{1}) at linalg/sparse.jl:11\n",
       "*{TvA,TiA}(A::SparseMatrixCSC{TvA,TiA},X::BitArray{2}) at linalg/sparse.jl:109\n",
       "*{TA,S,Tx}(A::SparseMatrixCSC{TA,S},x::AbstractArray{Tx,1}) at linalg/sparse.jl:32\n",
       "*(X::BitArray{1},A::SparseMatrixCSC{Tv,Ti<:Integer}) at linalg/sparse.jl:95\n",
       "*{TvA,TiA,TX}(A::SparseMatrixCSC{TvA,TiA},X::AbstractArray{TX,2}) at linalg/sparse.jl:111\n",
       "*{TvA,TiA}(X::BitArray{2},A::SparseMatrixCSC{TvA,TiA}) at linalg/sparse.jl:126\n",
       "*{T<:Number}(x::AbstractArray{T<:Number,2}) at abstractarray.jl:363\n",
       "*(B::Number,A::SymTridiagonal{T}) at linalg/tridiag.jl:48\n",
       "*(B::Number,A::Tridiagonal{T}) at linalg/tridiag.jl:210\n",
       "*{T,S,UpLo,IsUnit}(x::Number,A::Triangular{T,S,UpLo,IsUnit}) at linalg/triangular.jl:165\n",
       "*(B::Number,A::Bidiagonal{T}) at linalg/bidiag.jl:109\n",
       "*(A::Number,B::AbstractArray{T,N}) at abstractarray.jl:367\n",
       "*(A::AbstractArray{T,N},B::Number) at abstractarray.jl:368\n",
       "*(s::String...) at string.jl:76\n",
       "*{T,S<:AbstractArray{T,2},UpLo,IsUnit}(A::AbstractArray{T,2},B::Triangular{T,S<:AbstractArray{T,2},UpLo,IsUnit}) at linalg/triangular.jl:186\n",
       "*{TX,TvA,TiA}(X::AbstractArray{TX,2},A::SparseMatrixCSC{TvA,TiA}) at linalg/sparse.jl:131\n",
       "*{T,S}(A::AbstractArray{T,2},x::AbstractArray{S,1}) at linalg/matmul.jl:71\n",
       "*{T1,T2}(X::AbstractArray{T1,1},A::SparseMatrixCSC{T2,Ti<:Integer}) at linalg/sparse.jl:99\n",
       "*(A::AbstractArray{T,1},B::AbstractArray{T,2}) at linalg/matmul.jl:74\n",
       "*(J1::UniformScaling{T<:Number},J2::UniformScaling{T<:Number}) at linalg/uniformscaling.jl:67\n",
       "*(J::UniformScaling{T<:Number},B::BitArray{2}) at linalg/uniformscaling.jl:69\n",
       "*{Tv,Ti}(J::UniformScaling{T<:Number},S::SparseMatrixCSC{Tv,Ti}) at linalg/uniformscaling.jl:71\n",
       "*(A::AbstractArray{T,2},J::UniformScaling{T<:Number}) at linalg/uniformscaling.jl:72\n",
       "*(J::UniformScaling{T<:Number},A::Union(AbstractArray{T,2},AbstractArray{T,1})) at linalg/uniformscaling.jl:73\n",
       "*(x::Number,J::UniformScaling{T<:Number}) at linalg/uniformscaling.jl:75\n",
       "*(J::UniformScaling{T<:Number},x::Number) at linalg/uniformscaling.jl:76\n",
       "*{Tv<:Union(Float64,Complex{Float64},Complex{Float32},Float32)}(A::CholmodSparse{Tv<:Union(Float64,Complex{Float64},Complex{Float32},Float32),Int32},B::CholmodSparse{Tv<:Union(Float64,Complex{Float64},Complex{Float32},Float32),Int32}) at linalg/cholmod.jl:478\n",
       "*{Tv<:Union(Float64,Complex{Float64},Complex{Float32},Float32)}(A::CholmodSparse{Tv<:Union(Float64,Complex{Float64},Complex{Float32},Float32),Int64},B::CholmodSparse{Tv<:Union(Float64,Complex{Float64},Complex{Float32},Float32),Int64}) at linalg/cholmod.jl:478\n",
       "*{Tv<:Union(Float64,Complex{Float64},Complex{Float32},Float32)}(A::CholmodSparse{Tv<:Union(Float64,Complex{Float64},Complex{Float32},Float32),Ti<:Union(Int32,Int64)},B::CholmodDense{Tv<:Union(Float64,Complex{Float64},Complex{Float32},Float32)}) at linalg/cholmod.jl:835\n",
       "*{Tv<:Union(Float64,Complex{Float64},Complex{Float32},Float32)}(A::CholmodSparse{Tv<:Union(Float64,Complex{Float64},Complex{Float32},Float32),Ti<:Union(Int32,Int64)},B::Union(Array{Tv<:Union(Float64,Complex{Float64},Complex{Float32},Float32),1},Array{Tv<:Union(Float64,Complex{Float64},Complex{Float32},Float32),2})) at linalg/cholmod.jl:836\n",
       "*(p::Vec2,s::Real) at graphics.jl:62\n",
       "*(bb::BoundingBox,s::Real) at graphics.jl:147\n",
       "*{P<:Period}(x::P<:Period,y::P<:Period) at dates/periods.jl:55\n",
       "*{P<:Period}(x::P<:Period,y::Real) at dates/periods.jl:57\n",
       "*(x::Instant,y::Instant) at dates/arithmetic.jl:3\n",
       "*(x::TimeType,y::TimeType) at dates/arithmetic.jl:10\n",
       "*(a,b,c) at operators.jl:82\n",
       "*(a,b,c,xs...) at operators.jl:83"
      ]
     },
     "execution_count": 1,
     "metadata": {},
     "output_type": "execute_result"
    }
   ],
   "source": [
    "methods(*)"
   ]
  },
  {
   "cell_type": "markdown",
   "metadata": {},
   "source": [
    "We can add new methods to a given function at any time.  The methods don't \"belong\" to a particular type, and aren't part of the type's definition.\n",
    "\n",
    "For example, string concatenation in Julia is done via `*`:"
   ]
  },
  {
   "cell_type": "code",
   "execution_count": 2,
   "metadata": {
    "collapsed": false
   },
   "outputs": [
    {
     "data": {
      "text/plain": [
       "\"helloworld\""
      ]
     },
     "execution_count": 2,
     "metadata": {},
     "output_type": "execute_result"
    }
   ],
   "source": [
    "\"hello\" * \"world\""
   ]
  },
  {
   "cell_type": "code",
   "execution_count": 3,
   "metadata": {
    "collapsed": false
   },
   "outputs": [
    {
     "ename": "LoadError",
     "evalue": "`+` has no method matching +(::ASCIIString, ::ASCIIString)\nwhile loading In[3], in expression starting on line 1",
     "output_type": "error",
     "traceback": [
      "`+` has no method matching +(::ASCIIString, ::ASCIIString)\nwhile loading In[3], in expression starting on line 1",
      ""
     ]
    }
   ],
   "source": [
    "\"hello\" + \"world\""
   ]
  },
  {
   "cell_type": "markdown",
   "metadata": {},
   "source": [
    "But we can easily extend `+` to support a concatenation for strings, if we want:"
   ]
  },
  {
   "cell_type": "code",
   "execution_count": 4,
   "metadata": {
    "collapsed": false
   },
   "outputs": [
    {
     "data": {
      "text/plain": [
       "+ (generic function with 147 methods)"
      ]
     },
     "execution_count": 4,
     "metadata": {},
     "output_type": "execute_result"
    }
   ],
   "source": [
    "import Base.+ # we must import a method to add methods (as opposed to replacing it)\n",
    "+(x::String, y::String) = x * \" \" * y"
   ]
  },
  {
   "cell_type": "code",
   "execution_count": 5,
   "metadata": {
    "collapsed": false
   },
   "outputs": [
    {
     "data": {
      "text/plain": [
       "\"hello world\""
      ]
     },
     "execution_count": 5,
     "metadata": {},
     "output_type": "execute_result"
    }
   ],
   "source": [
    "\"hello\" + \"world\""
   ]
  },
  {
   "cell_type": "markdown",
   "metadata": {},
   "source": [
    "## Not the same as C++ overloading: Dynamic vs. static"
   ]
  },
  {
   "cell_type": "markdown",
   "metadata": {},
   "source": [
    "This may look a lot like function overloading in languages like C++.   The difference is that C++'s overloading is **static** (= *dispatch at compile-time*), whereas Julia's overloading is dynamic (= *dispatch at run-time*), like OO polymorphism.\n",
    "\n",
    "For example, now that we've defined `+`, we can use strings with any previously defined function that requires a `+` operation, like `sum` (summation):"
   ]
  },
  {
   "cell_type": "code",
   "execution_count": 6,
   "metadata": {
    "collapsed": false
   },
   "outputs": [
    {
     "data": {
      "text/plain": [
       "\"The quick brown fox jumped over the lazy dog.\""
      ]
     },
     "execution_count": 6,
     "metadata": {},
     "output_type": "execute_result"
    }
   ],
   "source": [
    "sum([\"The\", \"quick\", \"brown\", \"fox\", \"jumped\", \"over\", \"the\", \"lazy\", \"dog.\"])"
   ]
  },
  {
   "cell_type": "markdown",
   "metadata": {},
   "source": [
    "## Type declarations are \"function filters\""
   ]
  },
  {
   "cell_type": "markdown",
   "metadata": {},
   "source": [
    "Type declarations are *not* required for performance — Julia automatically specializes a function on its argument types during compilation.  They act like **filters**, allowing us to specify *which functions are used when*.\n",
    "\n",
    "Without this, in a language like Python, you sometimes have to write *manual function filters* like this example from Matplotlib's [quiver.py](https://github.com/matplotlib/matplotlib/blob/43150ef012e405de5c2fb7b779d1bffa77f7af81/lib/matplotlib/quiver.py):\n",
    "```python\n",
    "def _parse_args(*args):\n",
    "    X, Y, U, V, C = [None] * 5\n",
    "    args = list(args)\n",
    "    # The use of atleast_1d allows for handling scalar arguments while also\n",
    "    # keeping masked arrays\n",
    "    if len(args) == 3 or len(args) == 5:\n",
    "        C = np.atleast_1d(args.pop(-1))\n",
    "    V = np.atleast_1d(args.pop(-1))\n",
    "    U = np.atleast_1d(args.pop(-1))\n",
    "    if U.ndim == 1:\n",
    "        nr, nc = 1, U.shape[0]\n",
    "    else:\n",
    "        nr, nc = U.shape\n",
    "    if len(args) == 2: # remaining after removing U,V,C\n",
    "        X, Y = [np.array(a).ravel() for a in args]\n",
    "        if len(X) == nc and len(Y) == nr:\n",
    "            X, Y = [a.ravel() for a in np.meshgrid(X, Y)]\n",
    "    else:\n",
    "        indexgrid = np.meshgrid(np.arange(nc), np.arange(nr))\n",
    "        X, Y = [np.ravel(a) for a in indexgrid]\n",
    "    return X, Y, U, V, C\n",
    "```\n",
    "In Julia, you could define different methods for differing numbers of arguments, arrays vs. scalars, etcetera (all eventually calling a single lower-level function to do the work once the arguments have been transformed)."
   ]
  }
 ],
 "metadata": {
  "kernelspec": {
   "display_name": "Julia 0.3.10",
   "language": "julia",
   "name": "julia-0.3"
  },
  "language_info": {
   "file_extension": ".jl",
   "mimetype": "application/julia",
   "name": "julia",
   "version": "0.3.10"
  }
 },
 "nbformat": 4,
 "nbformat_minor": 0
}
