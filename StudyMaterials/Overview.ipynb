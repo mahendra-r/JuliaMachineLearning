{
 "cells": [
  {
   "cell_type": "markdown",
   "metadata": {},
   "source": [
    "# An IJulia Notebook"
   ]
  },
  {
   "cell_type": "markdown",
   "metadata": {},
   "source": [
    "This is an **IJulia notebook**, which is just like an **IPython** notebook, and is based on the same **Jupyter** engine and protocol, except that the code is executed by a **Julia kernel** rather than a Python kernel.\n",
    "\n",
    "Like an IPython notebook, it can mix code, multimedia results, headings, documentation, equations like $\\sqrt{\\int x^2 dx}$, and even interactive widgets."
   ]
  },
  {
   "cell_type": "markdown",
   "metadata": {},
   "source": [
    "## Julia and IJulia examples:"
   ]
  },
  {
   "cell_type": "markdown",
   "metadata": {},
   "source": [
    "* [Julia Basics](Basics.ipynb)\n",
    "* [Multiple Dispatch](Multiple Dispatch.ipynb)\n",
    "* [Calling C and Python](Calling C and Python.ipynb)\n",
    "* [Interactive Widgets](Interactive Widgets.ipynb)\n",
    "* [Metaprogramming](Metaprogramming.ipynb)"
   ]
  },
  {
   "cell_type": "code",
   "execution_count": null,
   "metadata": {
    "collapsed": true
   },
   "outputs": [],
   "source": []
  }
 ],
 "metadata": {
  "kernelspec": {
   "display_name": "Julia 0.3.10",
   "language": "julia",
   "name": "julia-0.3"
  },
  "language_info": {
   "file_extension": ".jl",
   "mimetype": "application/julia",
   "name": "julia",
   "version": "0.3.10"
  }
 },
 "nbformat": 4,
 "nbformat_minor": 0
}
