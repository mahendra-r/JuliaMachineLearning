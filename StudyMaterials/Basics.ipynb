{
 "cells": [
  {
   "cell_type": "markdown",
   "metadata": {},
   "source": [
    "# Julia Basics"
   ]
  },
  {
   "cell_type": "markdown",
   "metadata": {},
   "source": [
    "Julia is a dynamic language.  You don't need type declarations, and can change variable types dynamically and interactively.\n",
    "\n",
    "For working with simple numbers, arrays, and strings, its syntax is *superficially* similar to Matlab, Python, and other popular languages. "
   ]
  },
  {
   "cell_type": "code",
   "execution_count": 1,
   "metadata": {
    "collapsed": false
   },
   "outputs": [
    {
     "data": {
      "text/plain": [
       "10x300 Array{Float64,2}:\n",
       " 0.375636   0.482139   0.361992  0.257166  …  0.754869  0.120599   0.893813\n",
       " 0.0686832  0.671072   0.999855  0.286798     0.425177  0.382689   0.920532\n",
       " 0.447454   0.0964471  0.311746  0.606187     0.941434  0.125957   0.625727\n",
       " 0.730125   0.227747   0.577157  0.91215      0.194293  0.209349   0.196251\n",
       " 0.323599   0.625352   0.834394  0.662423     0.48925   0.955718   0.510419\n",
       " 0.0350443  0.926088   0.385119  0.398782  …  0.715289  0.549668   0.486071\n",
       " 0.980887   0.427284   0.445409  0.352723     0.482097  0.747813   0.143269\n",
       " 0.0323402  0.766844   0.637901  0.136801     0.778503  0.5898     0.557505\n",
       " 0.962389   0.788106   0.258881  0.18815      0.693301  0.754942   0.42183 \n",
       " 0.830188   0.917995   0.822675  0.96834      0.253111  0.0893574  0.638984"
      ]
     },
     "execution_count": 1,
     "metadata": {},
     "output_type": "execute_result"
    }
   ],
   "source": [
    "A = rand(10,300)"
   ]
  },
  {
   "cell_type": "markdown",
   "metadata": {},
   "source": [
    "It has all of the usual built-in Matlab/Numpy-like linear-algebra and vector functions:"
   ]
  },
  {
   "cell_type": "code",
   "execution_count": 2,
   "metadata": {
    "collapsed": false
   },
   "outputs": [
    {
     "data": {
      "text/plain": [
       "300-element Array{Float64,1}:\n",
       " -5.99331\n",
       " -5.96398\n",
       " -5.96022\n",
       " -5.96506\n",
       " -5.98213\n",
       " -5.99655\n",
       " -5.98238\n",
       " -5.98213\n",
       " -5.93154\n",
       " -5.97005\n",
       " -5.97269\n",
       " -5.97308\n",
       " -5.9354 \n",
       "  ⋮      \n",
       " -5.96845\n",
       " -5.99352\n",
       " -4.99281\n",
       " -4.95339\n",
       " -4.94527\n",
       " -4.9767 \n",
       " -5.00616\n",
       " -5.01051\n",
       " -5.01131\n",
       " -5.04615\n",
       " -5.03316\n",
       " -5.00371"
      ]
     },
     "execution_count": 2,
     "metadata": {},
     "output_type": "execute_result"
    }
   ],
   "source": [
    "b = rand(10)\n",
    "x = A \\ b\n",
    "B = A' * A\n",
    "erf(eigvals(B)) - 2x.^2 + 4x - 6"
   ]
  },
  {
   "cell_type": "markdown",
   "metadata": {},
   "source": [
    "Complex numbers and arbitrary-precision arithmetic (via MPFR), of course."
   ]
  },
  {
   "cell_type": "code",
   "execution_count": 4,
   "metadata": {
    "collapsed": false
   },
   "outputs": [
    {
     "data": {
      "text/plain": [
       "-2.703494560307422464769480266827091348467753695567661661019265514673434246483996e+01 with 256 bits of precision - 3.851153334811777536563337123053124569704160846091637003157728595256494186490506e+00 with 256 bits of precisionim"
      ]
     },
     "execution_count": 4,
     "metadata": {},
     "output_type": "execute_result"
    }
   ],
   "source": [
    "cos(big(3 + 4im))"
   ]
  },
  {
   "cell_type": "markdown",
   "metadata": {},
   "source": [
    "## Unicode"
   ]
  },
  {
   "cell_type": "markdown",
   "metadata": {},
   "source": [
    "All strings are UTF-8 encoded Unicode by default (UTF-16 and UTF-32 also supported):"
   ]
  },
  {
   "cell_type": "code",
   "execution_count": 5,
   "metadata": {
    "collapsed": false
   },
   "outputs": [
    {
     "data": {
      "text/plain": [
       "3-element Array{SubString{UTF8String},1}:\n",
       " \" is\"    \n",
       " \" a\"     \n",
       " \" letter\""
      ]
     },
     "execution_count": 5,
     "metadata": {},
     "output_type": "execute_result"
    }
   ],
   "source": [
    "matchall(r\"\\s[a-z]+\", \"α is a Grëék letter\") # regex search of a Unicode string"
   ]
  },
  {
   "cell_type": "markdown",
   "metadata": {},
   "source": [
    "Like Python 3, variable names can be Unicode, but Julia allows a somewhat wider range of codepoints in identifiers, which can be typed by LaTeX-like tab-completion *\\alpha[TAB]\\hat[TAB]\\_2[TAB]\\prime*."
   ]
  },
  {
   "cell_type": "code",
   "execution_count": 6,
   "metadata": {
    "collapsed": false
   },
   "outputs": [
    {
     "data": {
      "text/plain": [
       "7.3820020773540256e-34"
      ]
     },
     "execution_count": 6,
     "metadata": {},
     "output_type": "execute_result"
    }
   ],
   "source": [
    "α̂₂′ = 7\n",
    "ħ = 6.62606957e-34 / 2π\n",
    "ẋ = ħ * α̂₂′"
   ]
  },
  {
   "cell_type": "markdown",
   "metadata": {},
   "source": [
    "Unlike Python 3, Unicode math operators are parsed as infix operators, which are available for user-defined meanings:"
   ]
  },
  {
   "cell_type": "code",
   "execution_count": 8,
   "metadata": {
    "collapsed": false
   },
   "outputs": [
    {
     "data": {
      "text/plain": [
       "(false,true,true)"
      ]
     },
     "execution_count": 8,
     "metadata": {},
     "output_type": "execute_result"
    }
   ],
   "source": [
    "≪(x,y) = x < 0.1*y\n",
    "50 ≪ 100, 5 ≪ 100, 5 ≤ 50"
   ]
  },
  {
   "cell_type": "code",
   "execution_count": 9,
   "metadata": {
    "collapsed": false
   },
   "outputs": [
    {
     "data": {
      "text/plain": [
       "4x4 Array{Float64,2}:\n",
       " 0.556894  0.861108  0.0       0.0     \n",
       " 0.344389  0.960697  0.0       0.0     \n",
       " 0.0       0.0       0.556894  0.861108\n",
       " 0.0       0.0       0.344389  0.960697"
      ]
     },
     "execution_count": 9,
     "metadata": {},
     "output_type": "execute_result"
    }
   ],
   "source": [
    "const ⊗ = kron\n",
    "eye(2,2) ⊗ rand(2,2)"
   ]
  },
  {
   "cell_type": "markdown",
   "metadata": {},
   "source": [
    "## Functions and JIT-compilation"
   ]
  },
  {
   "cell_type": "markdown",
   "metadata": {},
   "source": [
    "Functions can be defined in several ways, and *don't require type-declarations*."
   ]
  },
  {
   "cell_type": "code",
   "execution_count": 10,
   "metadata": {
    "collapsed": false
   },
   "outputs": [
    {
     "data": {
      "text/plain": [
       "(anonymous function)"
      ]
     },
     "execution_count": 10,
     "metadata": {},
     "output_type": "execute_result"
    }
   ],
   "source": [
    "# verbose form:\n",
    "function foo(x)\n",
    "    return x + 1\n",
    "end\n",
    "\n",
    "# one-line form:\n",
    "foo(x) = x + 1\n",
    "\n",
    "# anonymous function\n",
    "x -> x + 1"
   ]
  },
  {
   "cell_type": "markdown",
   "metadata": {},
   "source": [
    "The *first time you call* a function with arguments of a particular type, Julia JIT-compiles that function *specialized for that type* with LLVM, which is then cached for subsequent calls for the *same types*."
   ]
  },
  {
   "cell_type": "code",
   "execution_count": 11,
   "metadata": {
    "collapsed": false
   },
   "outputs": [
    {
     "data": {
      "text/plain": [
       "4"
      ]
     },
     "execution_count": 11,
     "metadata": {},
     "output_type": "execute_result"
    }
   ],
   "source": [
    "foo(3) # compiles foo for Int arguments"
   ]
  },
  {
   "cell_type": "code",
   "execution_count": 12,
   "metadata": {
    "collapsed": false
   },
   "outputs": [
    {
     "data": {
      "text/plain": [
       "8"
      ]
     },
     "execution_count": 12,
     "metadata": {},
     "output_type": "execute_result"
    }
   ],
   "source": [
    "foo(7) # re-uses compiled foo(Int)"
   ]
  },
  {
   "cell_type": "code",
   "execution_count": 13,
   "metadata": {
    "collapsed": false
   },
   "outputs": [
    {
     "data": {
      "text/plain": [
       "8.3"
      ]
     },
     "execution_count": 13,
     "metadata": {},
     "output_type": "execute_result"
    }
   ],
   "source": [
    "foo(7.3) # compiles a different version for Float64 arguments"
   ]
  },
  {
   "cell_type": "code",
   "execution_count": 14,
   "metadata": {
    "collapsed": false
   },
   "outputs": [
    {
     "data": {
      "text/plain": [
       "4-element Array{Int64,1}:\n",
       "  2\n",
       "  3\n",
       "  8\n",
       " 10"
      ]
     },
     "execution_count": 14,
     "metadata": {},
     "output_type": "execute_result"
    }
   ],
   "source": [
    "foo([1,2,7,9]) # compiles a different version for Array{Int,1} arguments"
   ]
  },
  {
   "cell_type": "markdown",
   "metadata": {},
   "source": [
    "You can *inspect* the generated code easily at various compilation stages, to see that Julia **uses the type of the arguments to infer the types of expressions** and **can produce C-like fast code**."
   ]
  },
  {
   "cell_type": "code",
   "execution_count": 15,
   "metadata": {
    "collapsed": false
   },
   "outputs": [
    {
     "data": {
      "text/plain": [
       "1-element Array{Any,1}:\n",
       " :($(Expr(:lambda, {:x}, {{},{{:x,Int64,0}},{}}, :(begin  # In[10], line 7:\n",
       "        return (top(box))(Int64,(top(add_int))(x::Int64,1))::Int64\n",
       "    end::Int64))))"
      ]
     },
     "execution_count": 15,
     "metadata": {},
     "output_type": "execute_result"
    }
   ],
   "source": [
    "code_typed(foo, (Int,)) # julia expressions with type annotations"
   ]
  },
  {
   "cell_type": "code",
   "execution_count": 16,
   "metadata": {
    "collapsed": false
   },
   "outputs": [
    {
     "name": "stdout",
     "output_type": "stream",
     "text": [
      "\t.section\t__TEXT,__text,regular,pure_instructions\n",
      "Filename: In[10]\n",
      "Source line: 7\n",
      "\tpush\tRBP\n",
      "\tmov\tRBP, RSP\n",
      "Source line: 7\n",
      "\tlea\tRAX, QWORD PTR [RDI + 1]\n",
      "\tpop\tRBP\n",
      "\tret\n"
     ]
    }
   ],
   "source": [
    "code_native(foo, (Int,))  # assembly code"
   ]
  },
  {
   "cell_type": "code",
   "execution_count": null,
   "metadata": {
    "collapsed": false
   },
   "outputs": [],
   "source": []
  }
 ],
 "metadata": {
  "kernelspec": {
   "display_name": "Julia 0.3.10",
   "language": "julia",
   "name": "julia-0.3"
  },
  "language_info": {
   "file_extension": ".jl",
   "mimetype": "application/julia",
   "name": "julia",
   "version": "0.3.10"
  }
 },
 "nbformat": 4,
 "nbformat_minor": 0
}
