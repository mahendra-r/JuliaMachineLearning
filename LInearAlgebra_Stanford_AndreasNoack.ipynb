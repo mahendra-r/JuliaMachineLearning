{
 "cells": [
  {
   "cell_type": "markdown",
   "metadata": {},
   "source": [
    "<center>\n",
    "# Linear algebra in\n",
    "<img width=400 src=julia.png>\n",
    "## Andreas Noack\n",
    "### April 2015\n",
    "### Computer Science and Artificial Intelligence Laboratory<br>Massachusetts Institute of Technology\n",
    "</center>\n",
    "\n",
    "## Outline\n",
    " - What is Julia\n",
    "  - The people behind\n",
    "  - Two language problem\n",
    " - Introduction to linear algebra\n",
    "  - Basic linear algebra\n",
    "  - Factorizations\n",
    "  - Special matrices\n",
    " - Generic linear algebra\n",
    " - Fast linear algebra\n",
    " - Parallel linear algebra?"
   ]
  },
  {
   "cell_type": "markdown",
   "metadata": {},
   "source": [
    "## What is Julia\n",
    " - Fast\n",
    " - Easy\n",
    " \n",
    "### Founded by\n",
    " - Alan Edelman\n",
    " - Jeff Besanzon\n",
    " - Viral B. Shah\n",
    " - Stefan Starpinski\n",
    "<img width=700 src=kahan.jpg>\n",
    "\n",
    "#### Contributors\n",
    "As of this Friday\n",
    " - 348 contributors to [JuliaLang/julia](https://github.com/JuliaLang/julia)\n",
    "<img width=700 src=world1.pdf>\n",
    "Picture by Jiahao Chen\n",
    "\n",
    "543 packages registered at [JuliaLang/METADATA.jl](http://pkg.julialang.org/)\n",
    "<img width=700 src=packages.svg>\n",
    "Picture by Iain Dunning\n",
    "\n",
    "### Two language problem - Julia is an outlier\n",
    "Average of running times vs. average of lines to implement micro benchmark for some popular languages\n",
    "<img width=700 src=SpeedVsLines.png>\n",
    "Picture by Simon Danisch"
   ]
  },
  {
   "cell_type": "markdown",
   "metadata": {},
   "source": [
    "### Easy?\n",
    "Simple syntax with extensive unicode support that allows code to look like math"
   ]
  },
  {
   "cell_type": "code",
   "execution_count": 5,
   "metadata": {
    "collapsed": false
   },
   "outputs": [
    {
     "name": "stdout",
     "output_type": "stream",
     "text": [
      "det(A - λ * I) = -1.3109568854903596e-15\n"
     ]
    },
    {
     "data": {
      "text/plain": [
       "-1.3109568854903596e-15"
      ]
     },
     "execution_count": 5,
     "metadata": {},
     "output_type": "execute_result"
    }
   ],
   "source": [
    "# eigenvalues\n",
    "A = randn(3,3) |> t -> t + t'\n",
    "λ = eigmax(A)\n",
    "@show det(A - λ*I)"
   ]
  },
  {
   "cell_type": "code",
   "execution_count": 6,
   "metadata": {
    "collapsed": false
   },
   "outputs": [
    {
     "name": "stdout",
     "output_type": "stream",
     "text": [
      "f(0) = 1\n",
      "f(1) = 1\n",
      "f(2) = 2\n",
      "f(3) = 3\n",
      "f(4) = 5\n",
      "f(5) = 8\n",
      "f(6) = 13\n",
      "f(7) = 21\n",
      "f(8) = 34\n",
      "f(9) = 55\n",
      "f(10) = 89\n"
     ]
    }
   ],
   "source": [
    "# Fibonacci\n",
    "f(n) = n < 2 ? 1 : f(n-1) + f(n-2)\n",
    "for i = 0:10\n",
    "    println(\"f($i) = $(f(i))\")\n",
    "end"
   ]
  },
  {
   "cell_type": "markdown",
   "metadata": {},
   "source": [
    "## Basic linear algebra\n",
    "Syntax very similar to MATLAB but there are some important differences. Define a matrix of random normal variates"
   ]
  },
  {
   "cell_type": "code",
   "execution_count": 14,
   "metadata": {
    "collapsed": false
   },
   "outputs": [
    {
     "data": {
      "text/plain": [
       "3x3 Array{Float64,2}:\n",
       " -0.268693   0.202236   0.0742016\n",
       "  1.22366   -0.901963  -0.541176 \n",
       " -0.70963    1.6595    -0.970164 "
      ]
     },
     "execution_count": 14,
     "metadata": {},
     "output_type": "execute_result"
    }
   ],
   "source": [
    "A = randn(3,3)"
   ]
  },
  {
   "cell_type": "markdown",
   "metadata": {},
   "source": [
    "and a vector of ones"
   ]
  },
  {
   "cell_type": "code",
   "execution_count": 15,
   "metadata": {
    "collapsed": false
   },
   "outputs": [
    {
     "data": {
      "text/plain": [
       "3-element Array{Float64,1}:\n",
       " 1.0\n",
       " 1.0\n",
       " 1.0"
      ]
     },
     "execution_count": 15,
     "metadata": {},
     "output_type": "execute_result"
    }
   ],
   "source": [
    "x = ones(3)"
   ]
  },
  {
   "cell_type": "markdown",
   "metadata": {},
   "source": [
    "Notice that $A$ has type Array{Float64,2} but $x$ has type Array{Float64,1}. Julia defines the aliases Vector{Type}=Array{Type,1} and Matrix{Type}=Array{Type,2}. The destinction between vectors and matrices typically causes some confusion when coming from a MATLAB background.\n",
    "\n",
    "Many of the basic operations are the same as in MATLAB\n",
    "\n",
    "### Multiplication"
   ]
  },
  {
   "cell_type": "code",
   "execution_count": 16,
   "metadata": {
    "collapsed": false
   },
   "outputs": [
    {
     "data": {
      "text/plain": [
       "3-element Array{Float64,1}:\n",
       "  0.00774504\n",
       " -0.219476  \n",
       " -0.0202953 "
      ]
     },
     "execution_count": 16,
     "metadata": {},
     "output_type": "execute_result"
    }
   ],
   "source": [
    "b = A*x"
   ]
  },
  {
   "cell_type": "markdown",
   "metadata": {},
   "source": [
    "###Transposition\n",
    "As in MATLAB `A'` is the conjugate transpose whereas `A.'` is just the transpose"
   ]
  },
  {
   "cell_type": "code",
   "execution_count": 17,
   "metadata": {
    "collapsed": false
   },
   "outputs": [
    {
     "data": {
      "text/plain": [
       "3x3 Array{Float64,2}:\n",
       " -0.537385   1.4259   -0.635429\n",
       "  1.4259    -1.80393   1.11832 \n",
       " -0.635429   1.11832  -1.94033 "
      ]
     },
     "execution_count": 17,
     "metadata": {},
     "output_type": "execute_result"
    }
   ],
   "source": [
    "Asym = A + A'"
   ]
  },
  {
   "cell_type": "markdown",
   "metadata": {},
   "source": [
    "###Transposed multiplication\n",
    "Julia allows us to write this without *"
   ]
  },
  {
   "cell_type": "code",
   "execution_count": 18,
   "metadata": {
    "collapsed": false
   },
   "outputs": [
    {
     "data": {
      "text/plain": [
       "3x3 Array{Float64,2}:\n",
       "  2.07312    -2.33567   0.0063032\n",
       " -2.33567     3.60837  -1.10686  \n",
       "  0.0063032  -1.10686   1.23959  "
      ]
     },
     "execution_count": 18,
     "metadata": {},
     "output_type": "execute_result"
    }
   ],
   "source": [
    "Apd = A'A"
   ]
  },
  {
   "cell_type": "markdown",
   "metadata": {},
   "source": [
    "###Solving linear systems \n",
    "The problem $Ax=b$ for square $A$ is solved by the \\ function."
   ]
  },
  {
   "cell_type": "code",
   "execution_count": 19,
   "metadata": {
    "collapsed": false
   },
   "outputs": [
    {
     "data": {
      "text/plain": [
       "3-element Array{Float64,1}:\n",
       " 1.0\n",
       " 1.0\n",
       " 1.0"
      ]
     },
     "execution_count": 19,
     "metadata": {},
     "output_type": "execute_result"
    }
   ],
   "source": [
    "A\\b"
   ]
  },
  {
   "cell_type": "markdown",
   "metadata": {},
   "source": [
    "###Least squares\n",
    "When A is tall the \\ function calculates the least squares solution"
   ]
  },
  {
   "cell_type": "code",
   "execution_count": 20,
   "metadata": {
    "collapsed": false
   },
   "outputs": [
    {
     "data": {
      "text/plain": [
       "2-element Array{Float64,1}:\n",
       " -0.265282\n",
       " -0.125753"
      ]
     },
     "execution_count": 20,
     "metadata": {},
     "output_type": "execute_result"
    }
   ],
   "source": [
    "A[:,1:2]\\b"
   ]
  },
  {
   "cell_type": "markdown",
   "metadata": {},
   "source": [
    "The \\ function also works for rank deficient least squares problems. In this case, the least squares solution is not unique and Julia returns the solution with smallest norm"
   ]
  },
  {
   "cell_type": "code",
   "execution_count": 21,
   "metadata": {
    "collapsed": false
   },
   "outputs": [
    {
     "data": {
      "text/plain": [
       "2-element Array{Float64,1}:\n",
       " -0.0618013\n",
       " -0.0618013"
      ]
     },
     "execution_count": 21,
     "metadata": {},
     "output_type": "execute_result"
    }
   ],
   "source": [
    "[A[:,1] A[:,1]]\\b"
   ]
  },
  {
   "cell_type": "markdown",
   "metadata": {},
   "source": [
    "###Underdetermined systems\n",
    "Minimum norm solution is returned"
   ]
  },
  {
   "cell_type": "code",
   "execution_count": 22,
   "metadata": {
    "collapsed": false
   },
   "outputs": [
    {
     "data": {
      "text/plain": [
       "3-element Array{Float64,1}:\n",
       "  0.0973882\n",
       " -0.159354 \n",
       "  0.891351 "
      ]
     },
     "execution_count": 22,
     "metadata": {},
     "output_type": "execute_result"
    }
   ],
   "source": [
    "A[1:2,:]\\b[1:2]"
   ]
  },
  {
   "cell_type": "markdown",
   "metadata": {},
   "source": [
    "##Factorizations\n",
    "The `\\` function hides how the problem is actually solved. Depending on the dimensions of `A`, different methods are chosen to solve the problem. An intermediate step in the solution is to calculate a factorization of the matrix `A`. Basically, a factorization of `A` is a way of expressing `A` as a product of triangular, unitary and permutation matrices. Julia defines a `Factorization` abstract type and several composite subtypes for actually storing factorizations. A `Factorization` object should be thought of as a representation of the matrix `A`."
   ]
  },
  {
   "cell_type": "markdown",
   "metadata": {},
   "source": [
    "###LU\n",
    "When `A` is square, problem is solved by factorizing the matrix `A=PLU` where `P` is a permutation matrix, `L` is lower triangular unit diagonal and `U` is upper triangular. Julia allows computing the LU factorization and defines a composite factorization type for storing it."
   ]
  },
  {
   "cell_type": "code",
   "execution_count": 23,
   "metadata": {
    "collapsed": false
   },
   "outputs": [
    {
     "data": {
      "text/plain": [
       "Base.LinAlg.LU{Float64,Array{Float64,2}}(3x3 Array{Float64,2}:\n",
       "  1.22366   -0.901963    -0.541176 \n",
       " -0.579923   1.13643     -1.284    \n",
       " -0.219581   0.00368039  -0.0399045,[2,3,3],0)"
      ]
     },
     "execution_count": 23,
     "metadata": {},
     "output_type": "execute_result"
    }
   ],
   "source": [
    "Alu = lufact(A)"
   ]
  },
  {
   "cell_type": "markdown",
   "metadata": {},
   "source": [
    "The different parts of the factorization can be extracted by special indexing"
   ]
  },
  {
   "cell_type": "code",
   "execution_count": 24,
   "metadata": {
    "collapsed": false
   },
   "outputs": [
    {
     "data": {
      "text/plain": [
       "3x3 Array{Float64,2}:\n",
       " 0.0  1.0  0.0\n",
       " 0.0  0.0  1.0\n",
       " 1.0  0.0  0.0"
      ]
     },
     "execution_count": 24,
     "metadata": {},
     "output_type": "execute_result"
    }
   ],
   "source": [
    "Alu[:P]"
   ]
  },
  {
   "cell_type": "code",
   "execution_count": 25,
   "metadata": {
    "collapsed": false
   },
   "outputs": [
    {
     "data": {
      "text/plain": [
       "3x3 Array{Float64,2}:\n",
       "  1.0       0.0         0.0\n",
       " -0.579923  1.0         0.0\n",
       " -0.219581  0.00368039  1.0"
      ]
     },
     "execution_count": 25,
     "metadata": {},
     "output_type": "execute_result"
    }
   ],
   "source": [
    "Alu[:L]"
   ]
  },
  {
   "cell_type": "code",
   "execution_count": 26,
   "metadata": {
    "collapsed": false
   },
   "outputs": [
    {
     "data": {
      "text/plain": [
       "3x3 Array{Float64,2}:\n",
       " 1.22366  -0.901963  -0.541176 \n",
       " 0.0       1.13643   -1.284    \n",
       " 0.0       0.0       -0.0399045"
      ]
     },
     "execution_count": 26,
     "metadata": {},
     "output_type": "execute_result"
    }
   ],
   "source": [
    "Alu[:U]"
   ]
  },
  {
   "cell_type": "markdown",
   "metadata": {},
   "source": [
    "We can therefore compute the solution of $Ax=b$ from the factorization"
   ]
  },
  {
   "cell_type": "code",
   "execution_count": 27,
   "metadata": {
    "collapsed": false
   },
   "outputs": [
    {
     "data": {
      "text/plain": [
       "3-element Array{Float64,1}:\n",
       " 7.1357 \n",
       " 6.33647\n",
       " 5.61134"
      ]
     },
     "execution_count": 27,
     "metadata": {},
     "output_type": "execute_result"
    }
   ],
   "source": [
    "Alu[:U]\\(Alu[:L]\\(Alu[:P]'b))"
   ]
  },
  {
   "cell_type": "markdown",
   "metadata": {},
   "source": [
    "However, more importantly the `LU` type allows dispatch and we can solve the system by"
   ]
  },
  {
   "cell_type": "code",
   "execution_count": 28,
   "metadata": {
    "collapsed": false
   },
   "outputs": [
    {
     "data": {
      "text/plain": [
       "3-element Array{Float64,1}:\n",
       " 1.0\n",
       " 1.0\n",
       " 1.0"
      ]
     },
     "execution_count": 28,
     "metadata": {},
     "output_type": "execute_result"
    }
   ],
   "source": [
    "Alu\\b"
   ]
  },
  {
   "cell_type": "markdown",
   "metadata": {},
   "source": [
    "This could be useful if the same left-hand-side is used for several right-hand-sides. The factorization can also be used for calculating the determinant because $\\det(A)=\\det(PLU)=\\det(P)\\det(U)=\\pm \\prod u_{ii}$ because $U$ is triangular and the sign is determined from $\\det(P)$."
   ]
  },
  {
   "cell_type": "code",
   "execution_count": 29,
   "metadata": {
    "collapsed": false
   },
   "outputs": [
    {
     "data": {
      "text/plain": [
       "-0.05549142666237573"
      ]
     },
     "execution_count": 29,
     "metadata": {},
     "output_type": "execute_result"
    }
   ],
   "source": [
    "det(Alu)"
   ]
  },
  {
   "cell_type": "markdown",
   "metadata": {},
   "source": [
    "###QR\n",
    "When `A` is tall, Julia computes the least squares solution $\\hat{x}$ that minimizes $\\|Ax-b\\|_2$. This can be done by factorizing $A=QR$ where $Q$ is unitary/orthogonal and $R=\\left(\\begin{smallmatrix}R_0\\\\0\\end{smallmatrix}\\right)$ and $R_0$ is upper triangular. With the QR factorization the minimum norm can be expressed\n",
    "\\begin{equation*}\n",
    "\\|Ax-b\\|=\\|QRx-b\\|=\\|Q(Rx-Q'b)\\|=\\|Rx-Q'b\\|=\\left\\|\\begin{pmatrix}R_0x-Q_0'b\\\\Q_1'b\\end{pmatrix}\\right\\|=\\|R_0x-Q_0'b\\|+\\|Q_1'b\\|\n",
    "\\end{equation*}\n",
    "and the problem therefore reduces to solving the square problem $R_0x=Q_0'b$ for $x$.\n",
    "\n",
    "We can QR factorize the submatrix of the two first columns of $A$ by"
   ]
  },
  {
   "cell_type": "code",
   "execution_count": 30,
   "metadata": {
    "collapsed": false
   },
   "outputs": [
    {
     "data": {
      "text/plain": [
       "Base.LinAlg.QRCompactWY{Float64,Array{Float64,2}}(3x2 Array{Float64,2}:\n",
       "  1.43983   -1.62218 \n",
       " -0.716209  -0.988386\n",
       "  0.415346   0.647292,2x2 Array{Float64,2}:\n",
       " 1.18661       0.748199\n",
       " 2.23008e-314  1.40946 )"
      ]
     },
     "execution_count": 30,
     "metadata": {},
     "output_type": "execute_result"
    }
   ],
   "source": [
    "Aqr = qrfact(A[:,1:2])"
   ]
  },
  {
   "cell_type": "markdown",
   "metadata": {},
   "source": [
    "`\\` has a method for the QR and the least squares problem is therefore solved with"
   ]
  },
  {
   "cell_type": "code",
   "execution_count": 31,
   "metadata": {
    "collapsed": false
   },
   "outputs": [
    {
     "data": {
      "text/plain": [
       "2-element Array{Float64,1}:\n",
       " -0.265282\n",
       " -0.125753"
      ]
     },
     "execution_count": 31,
     "metadata": {},
     "output_type": "execute_result"
    }
   ],
   "source": [
    "Aqr\\b"
   ]
  },
  {
   "cell_type": "markdown",
   "metadata": {},
   "source": [
    "It should be noted that this is *not* the way `A[:,1:2]\\b` is solved. In order to handle rank deficient problems Julia uses a QR factorization with pivoting. Pivoting is enabled with a special boolean argument"
   ]
  },
  {
   "cell_type": "code",
   "execution_count": 32,
   "metadata": {
    "collapsed": false
   },
   "outputs": [
    {
     "data": {
      "text/plain": [
       "Base.LinAlg.QRPivoted{Float64,Array{Float64,2}}(3x2 Array{Float64,2}:\n",
       "  1.43983   1.43983\n",
       " -0.716209  0.0    \n",
       "  0.415346  0.0    ,[1.1866136136861942,0.0],[1,2])"
      ]
     },
     "execution_count": 32,
     "metadata": {},
     "output_type": "execute_result"
    }
   ],
   "source": [
    "Aqrp = qrfact([A[:,1] A[:,1]], Val{true})"
   ]
  },
  {
   "cell_type": "markdown",
   "metadata": {},
   "source": [
    "Notice that the type is different now. `\\` also has a method for `QRPivoted` and the rank deficient problem is therefore computed"
   ]
  },
  {
   "cell_type": "code",
   "execution_count": 33,
   "metadata": {
    "collapsed": false
   },
   "outputs": [
    {
     "data": {
      "text/plain": [
       "2-element Array{Float64,1}:\n",
       " -0.0618013\n",
       " -0.0618013"
      ]
     },
     "execution_count": 33,
     "metadata": {},
     "output_type": "execute_result"
    }
   ],
   "source": [
    "Aqrp\\b"
   ]
  },
  {
   "cell_type": "markdown",
   "metadata": {},
   "source": [
    "Another feature of the QR factorizations is the `Q` types for storing the unitary matrices $Q$. They can be extracted from the different from `QR` types by indexing"
   ]
  },
  {
   "cell_type": "code",
   "execution_count": 34,
   "metadata": {
    "collapsed": false
   },
   "outputs": [
    {
     "data": {
      "text/plain": [
       "3x3 Base.LinAlg.QRCompactWYQ{Float64,Array{Float64,2}}:\n",
       " -0.186614   0.101665  -0.977159  \n",
       "  0.849864  -0.482269  -0.21248   \n",
       " -0.492856  -0.870104   0.00359633"
      ]
     },
     "execution_count": 34,
     "metadata": {},
     "output_type": "execute_result"
    }
   ],
   "source": [
    "Aqr[:Q]"
   ]
  },
  {
   "cell_type": "markdown",
   "metadata": {},
   "source": [
    "The matrix has a compact internal representation"
   ]
  },
  {
   "cell_type": "code",
   "execution_count": 35,
   "metadata": {
    "collapsed": false
   },
   "outputs": [
    {
     "name": "stdout",
     "output_type": "stream",
     "text": [
      "fieldnames(Aqr[:Q]) = [:factors,:T]\n",
      "V = [1.0 0.0\n",
      " -0.7162094478954593 1.0\n",
      " 0.41534640768219044 0.6472923748261281]\n",
      "T = Aqr[:Q].T = [1.1866136136861942 0.7481985203904598\n",
      " 2.2300771885e-314 1.4094557667768748]\n"
     ]
    },
    {
     "data": {
      "text/plain": [
       "3x3 Array{Float64,2}:\n",
       " -0.186614   0.101665  -0.977159  \n",
       "  0.849864  -0.482269  -0.21248   \n",
       " -0.492856  -0.870104   0.00359633"
      ]
     },
     "execution_count": 35,
     "metadata": {},
     "output_type": "execute_result"
    }
   ],
   "source": [
    "@show fieldnames(Aqr[:Q])\n",
    "V = tril(Aqr[:Q].factors, -1)\n",
    "V[1,1] = V[2,2] = 1\n",
    "@show V\n",
    "@show T = Aqr[:Q].T;\n",
    "\n",
    "# Hence the complete reflector can be computed \n",
    "I - V*T*V'"
   ]
  },
  {
   "cell_type": "markdown",
   "metadata": {},
   "source": [
    "Even though the `Q` type is printed as a square matrix, it is in practice representing the  $3\\times 2$ version as well. Hence both"
   ]
  },
  {
   "cell_type": "code",
   "execution_count": 36,
   "metadata": {
    "collapsed": false
   },
   "outputs": [
    {
     "data": {
      "text/plain": [
       "3-element Array{Float64,1}:\n",
       " -0.0849483\n",
       "  0.367594 \n",
       " -1.36296  "
      ]
     },
     "execution_count": 36,
     "metadata": {},
     "output_type": "execute_result"
    }
   ],
   "source": [
    "Aqr[:Q]*ones(2)"
   ]
  },
  {
   "cell_type": "markdown",
   "metadata": {},
   "source": [
    "and"
   ]
  },
  {
   "cell_type": "code",
   "execution_count": 37,
   "metadata": {
    "collapsed": false
   },
   "outputs": [
    {
     "data": {
      "text/plain": [
       "3-element Array{Float64,1}:\n",
       " -1.06211 \n",
       "  0.155115\n",
       " -1.35936 "
      ]
     },
     "execution_count": 37,
     "metadata": {},
     "output_type": "execute_result"
    }
   ],
   "source": [
    "Aqr[:Q]*ones(3)"
   ]
  },
  {
   "cell_type": "markdown",
   "metadata": {},
   "source": [
    "works, but not"
   ]
  },
  {
   "cell_type": "code",
   "execution_count": 38,
   "metadata": {
    "collapsed": false
   },
   "outputs": [
    {
     "ename": "LoadError",
     "evalue": "LoadError: DimensionMismatch(\"vector must have length either 3 or 2\")\nwhile loading In[38], in expression starting on line 1",
     "output_type": "error",
     "traceback": [
      "LoadError: DimensionMismatch(\"vector must have length either 3 or 2\")\nwhile loading In[38], in expression starting on line 1",
      "",
      " in * at linalg/factorization.jl:191"
     ]
    }
   ],
   "source": [
    "Aqr[:Q]*ones(4)"
   ]
  },
  {
   "cell_type": "markdown",
   "metadata": {},
   "source": [
    "###Eigendecompositions and the SVD(s)"
   ]
  },
  {
   "cell_type": "markdown",
   "metadata": {},
   "source": [
    "The results from eigendecompositions and singular values decompositions are also stored in `Factorization` types. This also include Hessenberg and Schur factorizations.\n",
    "\n",
    "The eigendecomposition can be computed"
   ]
  },
  {
   "cell_type": "code",
   "execution_count": 39,
   "metadata": {
    "collapsed": false
   },
   "outputs": [
    {
     "data": {
      "text/plain": [
       "Base.LinAlg.Eigen{Float64,Float64,Array{Float64,2},Array{Float64,1}}([-3.6795142370522607,-0.9949308365043217,0.3928066597554707],3x3 Array{Float64,2}:\n",
       "  0.428928  -0.361117  0.828019 \n",
       " -0.68039    0.473802  0.559089 \n",
       "  0.594214   0.803185  0.0424731)"
      ]
     },
     "execution_count": 39,
     "metadata": {},
     "output_type": "execute_result"
    }
   ],
   "source": [
    "AsymEig = eigfact(Asym)"
   ]
  },
  {
   "cell_type": "markdown",
   "metadata": {},
   "source": [
    "The values and the vectors can be extracted from the Eigen type by special indexing"
   ]
  },
  {
   "cell_type": "code",
   "execution_count": 40,
   "metadata": {
    "collapsed": false
   },
   "outputs": [
    {
     "data": {
      "text/plain": [
       "3-element Array{Float64,1}:\n",
       " -3.67951 \n",
       " -0.994931\n",
       "  0.392807"
      ]
     },
     "execution_count": 40,
     "metadata": {},
     "output_type": "execute_result"
    }
   ],
   "source": [
    "AsymEig[:values]"
   ]
  },
  {
   "cell_type": "code",
   "execution_count": 41,
   "metadata": {
    "collapsed": false
   },
   "outputs": [
    {
     "data": {
      "text/plain": [
       "3x3 Array{Float64,2}:\n",
       "  0.428928  -0.361117  0.828019 \n",
       " -0.68039    0.473802  0.559089 \n",
       "  0.594214   0.803185  0.0424731"
      ]
     },
     "execution_count": 41,
     "metadata": {},
     "output_type": "execute_result"
    }
   ],
   "source": [
    "AsymEig[:vectors]"
   ]
  },
  {
   "cell_type": "markdown",
   "metadata": {},
   "source": [
    "Once again, when the factorization is stored in a type, we can dispatch on it and write specialized methods that exploit the properties of the factorization, e.g. that $A^{-1}=(V\\Lambda V^T)^{-1}=V\\Lambda^{-1}V^T$."
   ]
  },
  {
   "cell_type": "code",
   "execution_count": 42,
   "metadata": {
    "collapsed": false
   },
   "outputs": [
    {
     "data": {
      "text/plain": [
       "3x3 Array{Float64,2}:\n",
       " 1.0          -1.66533e-16  -3.33067e-16\n",
       " 3.88578e-16   1.0           5.55112e-17\n",
       " 4.996e-16    -5.55112e-16   1.0        "
      ]
     },
     "execution_count": 42,
     "metadata": {},
     "output_type": "execute_result"
    }
   ],
   "source": [
    "inv(AsymEig)*Asym"
   ]
  },
  {
   "cell_type": "markdown",
   "metadata": {},
   "source": [
    "Julia also has an `eig` function which returns a tuple with the values and the vectors"
   ]
  },
  {
   "cell_type": "code",
   "execution_count": 43,
   "metadata": {
    "collapsed": false
   },
   "outputs": [
    {
     "data": {
      "text/plain": [
       "([-3.6795142370522607,-0.9949308365043217,0.3928066597554707],\n",
       "3x3 Array{Float64,2}:\n",
       "  0.428928  -0.361117  0.828019 \n",
       " -0.68039    0.473802  0.559089 \n",
       "  0.594214   0.803185  0.0424731)"
      ]
     },
     "execution_count": 43,
     "metadata": {},
     "output_type": "execute_result"
    }
   ],
   "source": [
    "eig(Asym)"
   ]
  },
  {
   "cell_type": "markdown",
   "metadata": {},
   "source": [
    "This is mainly provided for MATLAB compatibility.\n",
    "\n",
    "The `svdfact` function computes the singular value decomposition"
   ]
  },
  {
   "cell_type": "code",
   "execution_count": 44,
   "metadata": {
    "collapsed": false
   },
   "outputs": [
    {
     "data": {
      "text/plain": [
       "Base.LinAlg.SVD{Float64,Float64,Array{Float64,2}}(3x2 Array{Float64,2}:\n",
       " -0.139607   0.16022 \n",
       "  0.629088  -0.74773 \n",
       " -0.764695  -0.644383,[2.302026084764945,0.6181998944444993],2x2 Array{Float64,2}:\n",
       "  0.58642   -0.810007\n",
       " -0.810007  -0.58642 )"
      ]
     },
     "execution_count": 44,
     "metadata": {},
     "output_type": "execute_result"
    }
   ],
   "source": [
    "Asvd = svdfact(A[:,1:2])"
   ]
  },
  {
   "cell_type": "markdown",
   "metadata": {},
   "source": [
    "and again `\\` has a method for the type enabling least squares by SVD"
   ]
  },
  {
   "cell_type": "code",
   "execution_count": 45,
   "metadata": {
    "collapsed": false
   },
   "outputs": [
    {
     "data": {
      "text/plain": [
       "2-element Array{Float64,1}:\n",
       " -0.265282\n",
       " -0.125753"
      ]
     },
     "execution_count": 45,
     "metadata": {},
     "output_type": "execute_result"
    }
   ],
   "source": [
    "Asvd\\b"
   ]
  },
  {
   "cell_type": "markdown",
   "metadata": {},
   "source": [
    "In contrast to MATLAB, Julia does not allow dispatch on the number of output arguments and therefore there are special functions for providing values only: `eigvals` and `svdvals`."
   ]
  },
  {
   "cell_type": "markdown",
   "metadata": {},
   "source": [
    "###Sparse factorizations"
   ]
  },
  {
   "cell_type": "code",
   "execution_count": 46,
   "metadata": {
    "collapsed": false
   },
   "outputs": [
    {
     "name": "stdout",
     "output_type": "stream",
     "text": [
      "Ptr{Void} @0x00007fd3f958f2c0\n",
      "lufact(AS) = UMFPACK LU Factorization of a 1000-by-1000 sparse matrix\n",
      "\n",
      "cholfact(AS' * AS) = Base.SparseMatrix.CHOLMOD.Factor{Float64,Int64}\n",
      "type:          LLt\n",
      "method: supernodal\n",
      "maxnnz:          0\n",
      "nnz:        455656\n",
      "\n",
      "ldltfact(AS + AS') = Base.SparseMatrix.CHOLMOD.Factor{Float64,Int64}\n",
      "type:         LDLt\n",
      "method: simplicial\n",
      "maxnnz:     251086\n",
      "nnz:        251086\n",
      "\n",
      "qrfact(AS[:,1:10]) = Base.SparseMatrix.SPQR.Factorization{Float64,Int64}(1000,10,Ptr{Base.SparseMatrix.SPQR.C_Factorization{Float64,Int64}} @0x00007fd3f98becc0)\n"
     ]
    }
   ],
   "source": [
    "AS = sprandn(1000, 1000, 0.01) + I\n",
    "bb = randn(1000)\n",
    "@show lufact(AS)\n",
    "@show cholfact(AS'AS)\n",
    "@show ldltfact(AS + AS')\n",
    "@show qrfact(AS[:,1:10])\n",
    ";"
   ]
  },
  {
   "cell_type": "code",
   "execution_count": 47,
   "metadata": {
    "collapsed": false
   },
   "outputs": [
    {
     "data": {
      "text/plain": [
       "3-element Array{Float64,1}:\n",
       "   3.78296\n",
       " -17.7229 \n",
       "  -2.49638"
      ]
     },
     "execution_count": 47,
     "metadata": {},
     "output_type": "execute_result"
    }
   ],
   "source": [
    "# lufact based\n",
    "(AS\\bb)[1:3]"
   ]
  },
  {
   "cell_type": "code",
   "execution_count": 48,
   "metadata": {
    "collapsed": false
   },
   "outputs": [
    {
     "data": {
      "text/plain": [
       "3-element Array{Float64,1}:\n",
       "   3.78296\n",
       " -17.7229 \n",
       "  -2.49638"
      ]
     },
     "execution_count": 48,
     "metadata": {},
     "output_type": "execute_result"
    }
   ],
   "source": [
    "# cholfact based\n",
    "((AS'AS)\\(AS'bb))[1:3]"
   ]
  },
  {
   "cell_type": "code",
   "execution_count": 49,
   "metadata": {
    "collapsed": false
   },
   "outputs": [
    {
     "data": {
      "text/plain": [
       "3-element Array{Float64,1}:\n",
       " -9.60283\n",
       " -1.71666\n",
       "  8.55936"
      ]
     },
     "execution_count": 49,
     "metadata": {},
     "output_type": "execute_result"
    }
   ],
   "source": [
    "# ldltfact based\n",
    "((AS + AS')\\bb)[1:3]"
   ]
  },
  {
   "cell_type": "code",
   "execution_count": 50,
   "metadata": {
    "collapsed": false
   },
   "outputs": [
    {
     "data": {
      "text/plain": [
       "3-element Array{Float64,1}:\n",
       "  0.196089 \n",
       " -0.0919476\n",
       "  0.622289 "
      ]
     },
     "execution_count": 50,
     "metadata": {},
     "output_type": "execute_result"
    }
   ],
   "source": [
    "# qrfact based\n",
    "AS[:,1:3]\\bb"
   ]
  },
  {
   "cell_type": "markdown",
   "metadata": {},
   "source": [
    "##Special matrices\n",
    "The structure of matrices is very important in linear algebra. This structure can be made explicit in Julia through composite types. Examples are `Diagonal`, `Triangular`, `Symmetric`, `Hermitian`, `Tridiagonal` and `SymTridiagonal`. Specialized methods are written for the special matrix types to take advantage of their structure. Below some examples are shown"
   ]
  },
  {
   "cell_type": "code",
   "execution_count": 51,
   "metadata": {
    "collapsed": false
   },
   "outputs": [
    {
     "data": {
      "text/plain": [
       "3x3 Base.LinAlg.Diagonal{Float64}:\n",
       " -0.268693   0.0        0.0     \n",
       "  0.0       -0.901963   0.0     \n",
       "  0.0        0.0       -0.970164"
      ]
     },
     "execution_count": 51,
     "metadata": {},
     "output_type": "execute_result"
    }
   ],
   "source": [
    "Diagonal(diag(A))"
   ]
  },
  {
   "cell_type": "code",
   "execution_count": 52,
   "metadata": {
    "collapsed": false
   },
   "outputs": [
    {
     "data": {
      "text/plain": [
       "3x3 Base.LinAlg.LowerTriangular{Float64,Array{Float64,2}}:\n",
       " -0.268693   0.0        0.0     \n",
       "  1.22366   -0.901963   0.0     \n",
       " -0.70963    1.6595    -0.970164"
      ]
     },
     "execution_count": 52,
     "metadata": {},
     "output_type": "execute_result"
    }
   ],
   "source": [
    "LowerTriangular(A)"
   ]
  },
  {
   "cell_type": "code",
   "execution_count": 53,
   "metadata": {
    "collapsed": false
   },
   "outputs": [
    {
     "data": {
      "text/plain": [
       "3x3 Base.LinAlg.Symmetric{Float64,Array{Float64,2}}:\n",
       " -0.537385   1.4259   -0.635429\n",
       "  1.4259    -1.80393   1.11832 \n",
       " -0.635429   1.11832  -1.94033 "
      ]
     },
     "execution_count": 53,
     "metadata": {},
     "output_type": "execute_result"
    }
   ],
   "source": [
    "Symmetric(Asym)"
   ]
  },
  {
   "cell_type": "code",
   "execution_count": 54,
   "metadata": {
    "collapsed": false
   },
   "outputs": [
    {
     "data": {
      "text/plain": [
       "3x3 Base.LinAlg.SymTridiagonal{Float64}:\n",
       " -0.537385   1.4259    0.0    \n",
       "  1.4259    -1.80393   1.11832\n",
       "  0.0        1.11832  -1.94033"
      ]
     },
     "execution_count": 54,
     "metadata": {},
     "output_type": "execute_result"
    }
   ],
   "source": [
    "SymTridiagonal(diag(Asym), diag(Asym,1))"
   ]
  },
  {
   "cell_type": "markdown",
   "metadata": {},
   "source": [
    "When it is known that a matrix is e.g. triangular or symmetric Julia might be able to solve a problem faster by converting the matrix to a special matrix. For some of the procedures, Julia checks if the input matrix is triangular or symmetric and converts the matrix if such a structure is detected. It should be noted that `Symmetric`, `Hermitian` and `Triangular` do not copy the input matrix.\n",
    "###Symmetric eigenproblem\n",
    "Whether or not Julia is able to detect if a matrix is symmetric/Hermitian can have a big influence on how fast an eigenvalue problem is solved. Sometimes it is known that a matrix is symmetric or Hermitian but due to floating point errors this is not detected at runtime by the `eigvals` function. In the following example `Asym1` and `Asym2` are almost identical, but unless Julia is told that `Asym2` is symmetric, the elapsed time for the computation is very different."
   ]
  },
  {
   "cell_type": "code",
   "execution_count": 59,
   "metadata": {
    "collapsed": false
   },
   "outputs": [
    {
     "name": "stdout",
     "output_type": "stream",
     "text": [
      "Is Asym1 symmetric? true\n",
      "Is Asym2 symmetric? false\n"
     ]
    }
   ],
   "source": [
    "n = 1000;\n",
    "A = randn(n, n);\n",
    "Asym1 = A + A';\n",
    "Asym2 = copy(Asym1);Asym2[1,2] += 5eps();\n",
    "println(\"Is Asym1 symmetric? \", issym(Asym1))\n",
    "println(\"Is Asym2 symmetric? \", issym(Asym2))"
   ]
  },
  {
   "cell_type": "code",
   "execution_count": 60,
   "metadata": {
    "collapsed": false
   },
   "outputs": [
    {
     "name": "stdout",
     "output_type": "stream",
     "text": [
      "elapsed time: 0.142276968 seconds (7 MB allocated)\n"
     ]
    }
   ],
   "source": [
    "@time eigvals(Asym1);"
   ]
  },
  {
   "cell_type": "code",
   "execution_count": 61,
   "metadata": {
    "collapsed": false
   },
   "outputs": [
    {
     "name": "stdout",
     "output_type": "stream",
     "text": [
      "elapsed time: 0.833205079 seconds (8 MB allocated)\n"
     ]
    }
   ],
   "source": [
    "@time eigvals(Asym2);"
   ]
  },
  {
   "cell_type": "code",
   "execution_count": 62,
   "metadata": {
    "collapsed": false
   },
   "outputs": [
    {
     "name": "stdout",
     "output_type": "stream",
     "text": [
      "elapsed time: 0.142611252 seconds (7 MB allocated, 1.15% gc time in 1 pauses with 0 full sweep)\n"
     ]
    }
   ],
   "source": [
    "@time eigvals(Symmetric(Asym2));"
   ]
  },
  {
   "cell_type": "markdown",
   "metadata": {},
   "source": [
    "We are considering a less restrictive test for symmetry that allows small floating point errors in symmetric matrices. However, explicit type declaration still avoids the runtime check."
   ]
  },
  {
   "cell_type": "markdown",
   "metadata": {},
   "source": [
    "### A big problem\n",
    "By using the tridiagonal matrices it is possible to work with potentially very large problems. The following problem would not be possible to solve on a laptop if the matrix had to be stored as a `Matrix` type."
   ]
  },
  {
   "cell_type": "code",
   "execution_count": 2,
   "metadata": {
    "collapsed": false
   },
   "outputs": [
    {
     "name": "stdout",
     "output_type": "stream",
     "text": [
      "elapsed time: 1.219513088 seconds (411 MB allocated, 3.71% gc time in 7 pauses with 2 full sweep)\n"
     ]
    },
    {
     "data": {
      "text/plain": [
       "(-1999.8100984599835,2000.2072808868845)"
      ]
     },
     "execution_count": 2,
     "metadata": {},
     "output_type": "execute_result"
    }
   ],
   "source": [
    "using Distributions\n",
    "n = 1_000_000;\n",
    "A = SymTridiagonal(2randn(n), Float64[rand(Chi(i)) for i = n-1:-1:1]);\n",
    "@time eigmin(A), eigmax(A) # Extremal eigenvalues of the Hermite ensemble"
   ]
  },
  {
   "cell_type": "markdown",
   "metadata": {},
   "source": [
    "##Generic linear algebra\n",
    "The usual way of adding support for numerical linear algebra is by wrapping BLAS and LAPACK subroutines. For matrices with elements of `Float32`, `Float64`, `Complex{Float32}` or `Complex{Float64}` this is also what Julia does. For a long time Julia has also had support for multiplicaton of general element types. Hence, when multiplying integer matrices, the output is also an integer matrix"
   ]
  },
  {
   "cell_type": "code",
   "execution_count": 65,
   "metadata": {
    "collapsed": false
   },
   "outputs": [
    {
     "data": {
      "text/plain": [
       "3x3 Array{Int64,2}:\n",
       " 160  79  154\n",
       " 104  35   62\n",
       "  52  28   60"
      ]
     },
     "execution_count": 65,
     "metadata": {},
     "output_type": "execute_result"
    }
   ],
   "source": [
    "rand(1:10,3,3)*rand(1:10,3,3)"
   ]
  },
  {
   "cell_type": "markdown",
   "metadata": {},
   "source": [
    "Recently, more generic linear algebra methods were added and Julia now supports generic `LU` and `QR` factorizations. Generic eigenvalue methods are being tested and can hopefully be added to Julia soon.\n",
    "\n",
    "In general, the `LU` factorization can be computed whenever the matrix element type is closed under the operations `+`, `-`, `*` and `\\`. Of couse the matrix also has to have full rank. The generic `LU` method in Julia applies pivoting and therefore the element type also has to support `<` and `abs`. In consequence it is possible to solve systems of equations of e.g. rational numbers which the following examples show.\n",
    "\n",
    "This functionality is primarily useful in teaching or exploratory work as floating point values are dominating in real applications. However, arbitrary precision and efficient integer arithmetic have real world applications and are not supported in LAPACK."
   ]
  },
  {
   "cell_type": "markdown",
   "metadata": {},
   "source": [
    "###Example 1: Rational linear system of equations\n",
    "Julia has rational numbers built in. The following example shows how a linear system of equations can be solved without promoting to floating point element types. Overflow can easisly become a problem when working with rational numbers so we use `BigInt`s."
   ]
  },
  {
   "cell_type": "code",
   "execution_count": 66,
   "metadata": {
    "collapsed": false
   },
   "outputs": [
    {
     "name": "stdout",
     "output_type": "stream",
     "text": [
      "Ar = Rational{Base.GMP.BigInt}[1//2 1//1 1//5\n",
      "                          9//10 4//5 1//2\n",
      "                          7//10 3//10 2//5]\n"
     ]
    },
    {
     "data": {
      "text/plain": [
       "3-element Array{Rational{Base.GMP.BigInt},1}:\n",
       " 1//1\n",
       " 1//1\n",
       " 1//1"
      ]
     },
     "execution_count": 66,
     "metadata": {},
     "output_type": "execute_result"
    }
   ],
   "source": [
    "Ar = convert(Matrix{Rational{BigInt}}, rand(1:10,3,3))/10\n",
    "@show Ar\n",
    "x = ones(Int,3)\n",
    "b = Ar*x\n",
    "Ar\\b"
   ]
  },
  {
   "cell_type": "markdown",
   "metadata": {},
   "source": [
    "###Example 2: Rational matrix from eigenstructure\n",
    "The next example shows how rational matrix arithmetic can be used for calculating a matrix given rational eigenvalues and -vectors. I find this convenient when giving examples of linear dynamic systems."
   ]
  },
  {
   "cell_type": "code",
   "execution_count": 67,
   "metadata": {
    "collapsed": false
   },
   "outputs": [
    {
     "name": "stdout",
     "output_type": "stream",
     "text": [
      "V = [1 1 1\n",
      " 0 1 1\n",
      " 0 0 1]\n",
      "Λ = Rational{Int64}[1//1 0//1 0//1\n",
      "                0//1 1//2 0//1\n",
      "                0//1 0//1 1//4]\n"
     ]
    },
    {
     "data": {
      "text/plain": [
       "3x3 Array{Rational{Int64},2}:\n",
       " 1//1  -1//2  -1//4\n",
       " 0//1   1//2  -1//4\n",
       " 0//1   0//1   1//4"
      ]
     },
     "execution_count": 67,
     "metadata": {},
     "output_type": "execute_result"
    }
   ],
   "source": [
    "λ1, λ2, λ3 = 1//1, 1//2, 1//4\n",
    "v1, v2, v3 = [1,0,0], [1,1,0], [1,1,1]\n",
    "V, Λ = [v1 v2 v3], Diagonal([λ1, λ2, λ3])\n",
    "@show V\n",
    "@show Λ\n",
    "A = V*Λ/V"
   ]
  },
  {
   "cell_type": "markdown",
   "metadata": {},
   "source": [
    "###Example 3: The Hilbert matrix.\n",
    "The Hilbert matrix $H$ defined by $(h_{ij})=\\frac{1}{i+j-1}$ is very ill conditioned. Even for small dimensions, the inverse of the Hilbert matrix is very imprecise in double precision. By defining the matrix with rational elements, the inverse can be calculated exact"
   ]
  },
  {
   "cell_type": "code",
   "execution_count": 68,
   "metadata": {
    "collapsed": false
   },
   "outputs": [
    {
     "data": {
      "text/plain": [
       "8x8 Array{Rational{Base.GMP.BigInt},2}:\n",
       " 1//1  1//2  1//3   1//4   1//5   1//6   1//7   1//8 \n",
       " 1//2  1//3  1//4   1//5   1//6   1//7   1//8   1//9 \n",
       " 1//3  1//4  1//5   1//6   1//7   1//8   1//9   1//10\n",
       " 1//4  1//5  1//6   1//7   1//8   1//9   1//10  1//11\n",
       " 1//5  1//6  1//7   1//8   1//9   1//10  1//11  1//12\n",
       " 1//6  1//7  1//8   1//9   1//10  1//11  1//12  1//13\n",
       " 1//7  1//8  1//9   1//10  1//11  1//12  1//13  1//14\n",
       " 1//8  1//9  1//10  1//11  1//12  1//13  1//14  1//15"
      ]
     },
     "execution_count": 68,
     "metadata": {},
     "output_type": "execute_result"
    }
   ],
   "source": [
    "nHilbert = 8\n",
    "H = Rational{BigInt}[1//(i+j-1) for i = 1:nHilbert,j = 1:nHilbert]"
   ]
  },
  {
   "cell_type": "code",
   "execution_count": 69,
   "metadata": {
    "collapsed": false
   },
   "outputs": [
    {
     "data": {
      "text/plain": [
       "8x8 Array{Rational{Base.GMP.BigInt},2}:\n",
       "      64//1      -2016//1       20160//1  …       192192//1      -51480//1\n",
       "   -2016//1      84672//1     -952560//1       -10594584//1     2882880//1\n",
       "   20160//1    -952560//1    11430720//1       141261120//1   -38918880//1\n",
       "  -92400//1    4656960//1   -58212000//1      -776936160//1   216216000//1\n",
       "  221760//1  -11642400//1   149688000//1      2118916800//1  -594594000//1\n",
       " -288288//1   15567552//1  -204324120//1  …  -3030051024//1   856215360//1\n",
       "  192192//1  -10594584//1   141261120//1      2175421248//1  -618377760//1\n",
       "  -51480//1    2882880//1   -38918880//1      -618377760//1   176679360//1"
      ]
     },
     "execution_count": 69,
     "metadata": {},
     "output_type": "execute_result"
    }
   ],
   "source": [
    "inv(H)"
   ]
  },
  {
   "cell_type": "markdown",
   "metadata": {},
   "source": [
    "Even for $n=8$ the difference between the exact and the floating point result is big."
   ]
  },
  {
   "cell_type": "code",
   "execution_count": 70,
   "metadata": {
    "collapsed": false
   },
   "outputs": [
    {
     "data": {
      "text/plain": [
       "282.9232996497303"
      ]
     },
     "execution_count": 70,
     "metadata": {},
     "output_type": "execute_result"
    }
   ],
   "source": [
    "norm(map(Float64, inv(H)) - inv(map(Float64, H)), Inf)"
   ]
  },
  {
   "cell_type": "markdown",
   "metadata": {},
   "source": [
    "Another approach could be to use higher precision floating point numbers.\n",
    "Higher precision floating point numbers are built into Julia and it is therefore easy to convert the Hilbert matrix"
   ]
  },
  {
   "cell_type": "code",
   "execution_count": 71,
   "metadata": {
    "collapsed": false
   },
   "outputs": [
    {
     "data": {
      "text/plain": [
       "6.304476724749898e-59"
      ]
     },
     "execution_count": 71,
     "metadata": {},
     "output_type": "execute_result"
    }
   ],
   "source": [
    "Hbf = convert(Matrix{BigFloat}, H);\n",
    "Float64(norm(inv(Hbf) - inv(H), Inf))"
   ]
  },
  {
   "cell_type": "markdown",
   "metadata": {},
   "source": [
    "Which is fairly precise. However, the matrix need not grow much before 256 bit floats are not sufficient"
   ]
  },
  {
   "cell_type": "code",
   "execution_count": 72,
   "metadata": {
    "collapsed": false
   },
   "outputs": [
    {
     "data": {
      "text/plain": [
       "2.1751007413310495e8"
      ]
     },
     "execution_count": 72,
     "metadata": {},
     "output_type": "execute_result"
    }
   ],
   "source": [
    "nHilbert = 30\n",
    "H = Rational{BigInt}[1//(i+j-1) for i = 1:nHilbert,j = 1:nHilbert];\n",
    "Hbf = convert(Matrix{BigFloat}, H);\n",
    "Float64(norm(inv(Hbf) - inv(H), Inf))"
   ]
  },
  {
   "cell_type": "markdown",
   "metadata": {},
   "source": [
    "The next example shows how the LU factorization can be used for a user defined number type.\n",
    "###Example 4: GF($p$)\n",
    "Julia makes it easy to define new number types. The block below defines a type representing the Galois field with $p$ elements GF($p$). Please note how few lines it takes!"
   ]
  },
  {
   "cell_type": "code",
   "execution_count": 3,
   "metadata": {
    "collapsed": false
   },
   "outputs": [],
   "source": [
    "# Scalar finite fields\n",
    "immutable GF{P,T<:Integer} <: Number\n",
    "    data::T\n",
    "    function GF(x::Integer)\n",
    "        return new(mod(x, P))\n",
    "    end\n",
    "end"
   ]
  },
  {
   "cell_type": "code",
   "execution_count": 3,
   "metadata": {
    "collapsed": false
   },
   "outputs": [
    {
     "data": {
      "text/plain": [
       "show (generic function with 94 methods)"
      ]
     },
     "execution_count": 3,
     "metadata": {},
     "output_type": "execute_result"
    }
   ],
   "source": [
    "# methods for scalar finite field\n",
    "import Base: convert, inv, one, promote_rule, show, zero\n",
    "\n",
    "function call{P}(::Type{GF{P}}, x::Integer)\n",
    "    if !isprime(P)\n",
    "        throw(ArgumentError(\"P must be a prime\"))\n",
    "    end\n",
    "    return GF{P,typeof(x)}(mod(x, P))\n",
    "end\n",
    "convert{P,T}(::Type{GF{P,T}}, x::Integer) = GF{P}(x)\n",
    "convert{P}(::Type{GF{P}}, x::Integer) = GF{P}(x)\n",
    "convert{P,T}(::Type{GF{P,T}}, x::GF{P}) = GF{P,T}(x.data)\n",
    "promote_rule{P,T1,T2<:Integer}(::Type{GF{P,T1}}, ::Type{T2}) = GF{P,promote_type(T1,T2\n",
    ")}\n",
    "show(io::IO, x::GF) = show(io, x.data)"
   ]
  },
  {
   "cell_type": "code",
   "execution_count": 4,
   "metadata": {
    "collapsed": false
   },
   "outputs": [
    {
     "data": {
      "text/plain": [
       "1"
      ]
     },
     "execution_count": 4,
     "metadata": {},
     "output_type": "execute_result"
    }
   ],
   "source": [
    "GF{2}(11)"
   ]
  },
  {
   "cell_type": "markdown",
   "metadata": {},
   "source": [
    "define basic arithmetic with meta programming"
   ]
  },
  {
   "cell_type": "code",
   "execution_count": 5,
   "metadata": {
    "collapsed": true
   },
   "outputs": [],
   "source": [
    "for op in (:+,:-,:*)\n",
    "    @eval begin\n",
    "        ($op){P,T}(x::GF{P,T}, y::GF{P,T}) = GF{P,T}($(op)(x.data, y.data))\n",
    "    end\n",
    "end"
   ]
  },
  {
   "cell_type": "code",
   "execution_count": 6,
   "metadata": {
    "collapsed": false
   },
   "outputs": [
    {
     "name": "stdout",
     "output_type": "stream",
     "text": [
      "x + y = 2\n",
      "x - y = 1\n",
      "x * y = 2\n"
     ]
    }
   ],
   "source": [
    "x, y = GF{5}(4), GF{5}(3)\n",
    "@show x + y\n",
    "@show x - y\n",
    "@show x * y\n",
    ";"
   ]
  },
  {
   "cell_type": "code",
   "execution_count": 7,
   "metadata": {
    "collapsed": false
   },
   "outputs": [],
   "source": [
    "# Division requires slightly more care\n",
    "function inv{P,T}(x::GF{P,T})\n",
    "    if x == zero(x)\n",
    "        throw(DivideError())\n",
    "    end\n",
    "    r, u, v = gcdx(x.data, P)\n",
    "    GF{P,T}(u)\n",
    "end\n",
    "(/){P}(x::GF{P}, y::GF{P}) = x*inv(y)\n",
    ";"
   ]
  },
  {
   "cell_type": "code",
   "execution_count": 8,
   "metadata": {
    "collapsed": false
   },
   "outputs": [
    {
     "name": "stdout",
     "output_type": "stream",
     "text": [
      "x / y = 3\n",
      "x \\ y = 2\n"
     ]
    }
   ],
   "source": [
    "@show x / y\n",
    "@show x \\ y # we get this by inheritance from Number;"
   ]
  },
  {
   "cell_type": "markdown",
   "metadata": {},
   "source": [
    " We can now create a square matrix and a vector over $GF(5)$"
   ]
  },
  {
   "cell_type": "code",
   "execution_count": 9,
   "metadata": {
    "collapsed": false
   },
   "outputs": [
    {
     "data": {
      "text/plain": [
       "4x4 Array{GF{5,Int64},2}:\n",
       " 3  1  1  0\n",
       " 1  3  4  3\n",
       " 4  3  2  2\n",
       " 0  0  1  1"
      ]
     },
     "execution_count": 9,
     "metadata": {},
     "output_type": "execute_result"
    }
   ],
   "source": [
    "srand(1234)\n",
    "A = [GF{5}(rand(0:4)) for i = 1:4, j = 1:4]"
   ]
  },
  {
   "cell_type": "code",
   "execution_count": 10,
   "metadata": {
    "collapsed": false
   },
   "outputs": [
    {
     "data": {
      "text/plain": [
       "4-element Array{GF{5,Int64},1}:\n",
       " 2\n",
       " 0\n",
       " 3\n",
       " 2"
      ]
     },
     "execution_count": 10,
     "metadata": {},
     "output_type": "execute_result"
    }
   ],
   "source": [
    "b = [GF{5}(rand(0:4)) for i = 1:4]"
   ]
  },
  {
   "cell_type": "markdown",
   "metadata": {},
   "source": [
    "and because the LU factorization in Julia works whenever the matrix elements form a field"
   ]
  },
  {
   "cell_type": "code",
   "execution_count": 11,
   "metadata": {
    "collapsed": false
   },
   "outputs": [
    {
     "data": {
      "text/plain": [
       "4-element Array{GF{5,Int64},1}:\n",
       " 3\n",
       " 4\n",
       " 4\n",
       " 3"
      ]
     },
     "execution_count": 11,
     "metadata": {},
     "output_type": "execute_result"
    }
   ],
   "source": [
    "x = A\\b"
   ]
  },
  {
   "cell_type": "code",
   "execution_count": 12,
   "metadata": {
    "collapsed": false
   },
   "outputs": [
    {
     "data": {
      "text/plain": [
       "4-element Array{GF{5,Int64},1}:\n",
       " 0\n",
       " 0\n",
       " 0\n",
       " 0"
      ]
     },
     "execution_count": 12,
     "metadata": {},
     "output_type": "execute_result"
    }
   ],
   "source": [
    "A*x - b"
   ]
  },
  {
   "cell_type": "markdown",
   "metadata": {},
   "source": [
    "It worked! The LU automatically turns off pivoting when the elements are not floating point types. This is necessary here because finite fields cannot be ordered and therefore partial pivoting is not defined. In consequence, the LU factorization might not be defined for a given matrix even when it has full rank because of zero pivots"
   ]
  },
  {
   "cell_type": "code",
   "execution_count": 14,
   "metadata": {
    "collapsed": false
   },
   "outputs": [
    {
     "ename": "LoadError",
     "evalue": "LoadError: MethodError: `real` has no method matching real(::GF{5,Int64})\nwhile loading In[14], in expression starting on line 2",
     "output_type": "error",
     "traceback": [
      "LoadError: MethodError: `real` has no method matching real(::GF{5,Int64})\nwhile loading In[14], in expression starting on line 2",
      "",
      " in generic_lufact! at linalg/lu.jl:29",
      " in lufact at linalg/lu.jl:82"
     ]
    }
   ],
   "source": [
    "A[1,1] = 0 # works evens though 0 is an integer because of the promotion rule defined above\n",
    "lufact(A)  # Indeed, the error message could be improved here"
   ]
  },
  {
   "cell_type": "markdown",
   "metadata": {},
   "source": [
    "Eventually, we'd like to pivot on the first non-zero elements in the column which would ensure existence of the LU for all full rank matrices.\n",
    "\n",
    "What are the costs of user-defined types? Usually, there is a large difference between a user-defined type and built-in type. With some care, this dichotomy between built-in and user-defined types is not existing. Compare"
   ]
  },
  {
   "cell_type": "code",
   "execution_count": 17,
   "metadata": {
    "collapsed": false
   },
   "outputs": [
    {
     "name": "stdout",
     "output_type": "stream",
     "text": [
      "elapsed time: 0.000748153 seconds (78 kB allocated)\n",
      "elapsed time: 0.00713832 seconds (78 kB allocated)\n"
     ]
    }
   ],
   "source": [
    "A1, A2 = rand(1:100, 100, 100), rand(1:100, 100, 100)\n",
    "A1*A2 # warm up to be sure function is compiled\n",
    "@time A1*A2\n",
    "AF1, AF2 = map(GF{5}, A1), map(GF{5}, A2)\n",
    "AF1*AF2\n",
    "@time AF1*AF2\n",
    ";"
   ]
  },
  {
   "cell_type": "code",
   "execution_count": 18,
   "metadata": {
    "collapsed": false
   },
   "outputs": [
    {
     "name": "stdout",
     "output_type": "stream",
     "text": [
      "elapsed time: 0.000415194 seconds (79 kB allocated)\n",
      "elapsed time: 0.00380171 seconds (112 kB allocated)\n"
     ]
    }
   ],
   "source": [
    "@time lufact(A1) # Promoted to Float64 and calls LAPACK\n",
    "F = lufact(AF1,Val{false})\n",
    "while F.info != 0\n",
    "    AF1[F.info, F.info] += 1\n",
    "    F = lufact(AF1, Val{false})\n",
    "end\n",
    "@time lufact(AF1) # Non-blocked generic LU implemented in Julia\n",
    ";"
   ]
  },
  {
   "cell_type": "markdown",
   "metadata": {},
   "source": [
    "Costs are mainly related to the calculation of the modulus. Optimized methods for $GF(2)$ could be added easily."
   ]
  },
  {
   "cell_type": "markdown",
   "metadata": {},
   "source": [
    "###Example 5: Quaternions\n",
    "The final example of generic linear algebra in Julia shows how the generic elementary reflectors work. The first step in solving a Hermitian eigenvalue problem is to tranform the Hermitian matrix to a real symmetric tridiagonal matrix by elementary reflectors of the form \n",
    "\n",
    "$$H=I-v\\tau v'$$\n",
    "\n",
    "satisfying\n",
    "\n",
    "$$H'H=I,$$ \n",
    "\n",
    "i.e. they are unitary. Most often, textbooks present the special case of Householder reflectors $H=I-2vv'$ where $v'v=1$. Householder reflectors have the nice property that they are also Hermitian, but they fail to reduce Hermitian matrix to a *real symmetric* tridiagonal matrix. The following example shows how the underlying real symmetric tridiagonal eigenproblem can be extracted from a Hermitian eigenvalue problem of a matrix with a user-defined element type.\n",
    "\n",
    "In my github repo, I have a [package](https://github.com/andreasnoack/LinearAlgebra.jl.git) that defines generic eigen decompositions and some more. Recall that quaternions generalize complex numbers and can be written $q=x_1+x_2i+x_3j+x_4k$ where the \"imaginary\" units $i$,$j$ and $k$ satisfy $i^2=j^2=k^2=ijk=-1$. The only difficulty in defining quaternions is the fact that they do not commute, e.g. $ij=-ijkk=k$ but $ji=-jiijk=jjk=-k$. However, the generic algorithms for LU factorization and elementary reflectors do not assume commutativity and therefore we can solve positive definite eigenproblems for quaternions. First we compute a Hermitian matrix of quaternions"
   ]
  },
  {
   "cell_type": "code",
   "execution_count": 19,
   "metadata": {
    "collapsed": false
   },
   "outputs": [
    {
     "data": {
      "text/plain": [
       "2x2 Array{Quaternions.Quaternion{Float64},2}:\n",
       "                                              -1.2152258872139132 + 0.0im + 0.0jm + 0.0km  …  0.8421957946621752 + 0.17748882096129626im + 1.0250498334247211jm + 1.9431761401723544km\n",
       " 0.8421957946621752 - 0.17748882096129626im - 1.0250498334247211jm - 1.9431761401723544km                                                  -1.1327821784913203 + 0.0im + 0.0jm + 0.0km"
      ]
     },
     "execution_count": 19,
     "metadata": {},
     "output_type": "execute_result"
    }
   ],
   "source": [
    "using Quaternions\n",
    "using LinearAlgebra\n",
    "import Base: convert, isreal\n",
    "function convert{T<:FloatingPoint}(::Type{FloatingPoint}, q::Quaternion{T})\n",
    "    if !isreal(q)\n",
    "        throw(InexactError())\n",
    "    end\n",
    "    convert(T, q.s)\n",
    "end\n",
    "\n",
    "isreal(q::Quaternion) = q.v1 == 0 && q.v2 == 0 && q.v3 ==0\n",
    "\n",
    "A = Quaternion{Float64}[Quaternion(randn(4)...) for i = 1:2,j=1:2]\n",
    "Aher = A + A' # Warning! Matrices of quaternions don't print nicely"
   ]
  },
  {
   "cell_type": "code",
   "execution_count": 20,
   "metadata": {
    "collapsed": false
   },
   "outputs": [
    {
     "data": {
      "text/plain": [
       "5-element Array{Symbol,1}:\n",
       " :s   \n",
       " :v1  \n",
       " :v2  \n",
       " :v3  \n",
       " :norm"
      ]
     },
     "execution_count": 20,
     "metadata": {},
     "output_type": "execute_result"
    }
   ],
   "source": [
    "fieldnames(Aher[1])"
   ]
  },
  {
   "cell_type": "markdown",
   "metadata": {},
   "source": [
    "We can now calculate the eigenvalues. In this case, we need to call the Hermitian constructor explicitly because Julia Base only checks if the matrix is Hermitian when the element type is supported by LAPACK."
   ]
  },
  {
   "cell_type": "code",
   "execution_count": 21,
   "metadata": {
    "collapsed": false
   },
   "outputs": [
    {
     "data": {
      "text/plain": [
       "2-element Array{Float64,1}:\n",
       " -3.53391\n",
       "  1.1859 "
      ]
     },
     "execution_count": 21,
     "metadata": {},
     "output_type": "execute_result"
    }
   ],
   "source": [
    "# reload(\"LinearAlgebra\")\n",
    "LinearAlgebra.EigenSelfAdjoint.eigvals!(Hermitian(copy(Aher), :L))"
   ]
  },
  {
   "cell_type": "markdown",
   "metadata": {},
   "source": [
    "We can break down the steps of the calculation. First, the matrix is transformed to a symmetric tridiagonal matrix"
   ]
  },
  {
   "cell_type": "code",
   "execution_count": 22,
   "metadata": {
    "collapsed": false
   },
   "outputs": [
    {
     "data": {
      "text/plain": [
       "LinearAlgebra.EigenSelfAdjoint.SymmetricTridiagonalFactorization{Quaternions.Quaternion{Float64}}"
      ]
     },
     "execution_count": 22,
     "metadata": {},
     "output_type": "execute_result"
    }
   ],
   "source": [
    "AherFact = LinearAlgebra.EigenSelfAdjoint.symtri!(Hermitian(copy(Aher), :L))\n",
    "typeof(AherFact)"
   ]
  },
  {
   "cell_type": "markdown",
   "metadata": {},
   "source": [
    "The type does not print nicely and it is slightly more informative to get the property names"
   ]
  },
  {
   "cell_type": "code",
   "execution_count": 23,
   "metadata": {
    "collapsed": false
   },
   "outputs": [
    {
     "data": {
      "text/plain": [
       "3-element Array{Symbol,1}:\n",
       " :factors      \n",
       " :scalarfactors\n",
       " :diagonals    "
      ]
     },
     "execution_count": 23,
     "metadata": {},
     "output_type": "execute_result"
    }
   ],
   "source": [
    "fieldnames(AherFact)"
   ]
  },
  {
   "cell_type": "markdown",
   "metadata": {},
   "source": [
    "The property `factors` is a matrix with quaternion elements whose diagonal and subdiagonal contain the real symmetric tridiagonal matrix, i.e. the $i$,$j$ and $k$ terms are all zero. The elements below the subdiagonal contain the elements of the vectors $v$ of the elementary reflectors. The property `scalafactors` contains the multiplyers $\\tau$. Finally, the property `diagonals` contains a real  `SymTridiagonal` matrix. \n",
    "\n",
    "When we do not assume commutativity, an elementary reflector is written $H=I-v\\tau v^*$. As in `LAPACK`, we use the convention that the first element of $v$ is one. Hence, we can write the factorization $A + A^*=QSQ^*$ where $Q$ is unitary and $S$ is a tridiagonal matrix."
   ]
  },
  {
   "cell_type": "code",
   "execution_count": 24,
   "metadata": {
    "collapsed": false
   },
   "outputs": [
    {
     "data": {
      "text/plain": [
       "3.9028649236907494e-16"
      ]
     },
     "execution_count": 24,
     "metadata": {},
     "output_type": "execute_result"
    }
   ],
   "source": [
    "Q = [1 0;0 1-AherFact.scalarfactors[1]];\n",
    "S = full(AherFact.diagonals);\n",
    "norm(Aher-Q*S*Q',1)"
   ]
  },
  {
   "cell_type": "markdown",
   "metadata": {},
   "source": [
    "All arithmetic operations are more expensive because a quaternion contains four real elements. Furthermore, LAPACK is fast because it uses blocked algorithms for the reduction to symmetric tridiagonal form which we do not in our generic code. Anyway, the reduction to a real symmetric tridiagonal matrix can be done fairly fast. Below we present some results for computational time and memory usage.\n",
    "####Real"
   ]
  },
  {
   "cell_type": "code",
   "execution_count": 25,
   "metadata": {
    "collapsed": false
   },
   "outputs": [
    {
     "name": "stdout",
     "output_type": "stream",
     "text": [
      "elapsed time: 0.114587704 seconds (6 MB allocated)\n"
     ]
    }
   ],
   "source": [
    "n = 500;\n",
    "A = randn(n,n);\n",
    "Apd = A'A;\n",
    "@time eigvals(Symmetric(Apd));"
   ]
  },
  {
   "cell_type": "markdown",
   "metadata": {},
   "source": [
    "####Complex"
   ]
  },
  {
   "cell_type": "code",
   "execution_count": 26,
   "metadata": {
    "collapsed": false
   },
   "outputs": [
    {
     "name": "stdout",
     "output_type": "stream",
     "text": [
      "elapsed time: 0.172653289 seconds (9 MB allocated)\n"
     ]
    }
   ],
   "source": [
    "A = complex(randn(n,n),randn(n,n));\n",
    "Apd = A'A;\n",
    "@time eigvals(Hermitian(Apd));"
   ]
  },
  {
   "cell_type": "markdown",
   "metadata": {},
   "source": [
    "####Quaternion\n"
   ]
  },
  {
   "cell_type": "code",
   "execution_count": 27,
   "metadata": {
    "collapsed": false
   },
   "outputs": [
    {
     "name": "stdout",
     "output_type": "stream",
     "text": [
      "elapsed time: 0.614861381 seconds (9 MB allocated)\n"
     ]
    }
   ],
   "source": [
    "A = Quaternion{Float64}[Quaternion(randn(4)...) for i = 1:n,j=1:n];\n",
    "Apd = A'A;\n",
    "for i = 1:n\n",
    "    Apd[i,i] = real(Apd[i,i]) # The generic matric multiplaction makes tiny error in imaginary parts\n",
    "end\n",
    "@time LinearAlgebra.EigenSelfAdjoint.eigvals!(Hermitian(copy(Apd), :L));"
   ]
  },
  {
   "cell_type": "markdown",
   "metadata": {},
   "source": [
    "###Example 6: Symbolic linear algebra with SymPy+Julia.\n",
    "Julia is able to call Python mainly due to Steven G. Johnson. The linear algebra in Julia is also generic for elements of SymPy values wrapped through Julia's PyCall functionality.\n",
    "\n",
    "Below is an example of symbolic arrow matrix"
   ]
  },
  {
   "cell_type": "code",
   "execution_count": 30,
   "metadata": {
    "collapsed": false
   },
   "outputs": [
    {
     "data": {
      "text/latex": [
       "\\begin{bmatrix}\\alpha&\\overline{\\zeta_{1}}&\\overline{\\zeta_{2}}&\\overline{\\zeta_{3}}\\\\\\zeta_{1}&\\delta_{1}&0&0\\\\\\zeta_{2}&0&\\delta_{2}&0\\\\\\zeta_{3}&0&0&\\delta_{3}\\end{bmatrix}"
      ],
      "text/plain": [
       "4x4 Array{SymPy.Sym,2}\n",
       "[        ______   ______   ______ ]\n",
       "[alpha   zeta_1   zeta_2   zeta_3 ]\n",
       "[                                 ]\n",
       "[zeta_1  delta_1     0        0   ]\n",
       "[                                 ]\n",
       "[zeta_2     0     delta_2     0   ]\n",
       "[                                 ]\n",
       "[zeta_3     0        0     delta_3]"
      ]
     },
     "execution_count": 30,
     "metadata": {},
     "output_type": "execute_result"
    }
   ],
   "source": [
    "using SymPy\n",
    "z = Sym[Sym(\"zeta_$i\") for i = 1:3]\n",
    "D = diagm(Sym[\"delta_$i\" for i = 1:3])\n",
    "A = [Sym(\"alpha\") z'; z D]"
   ]
  },
  {
   "cell_type": "code",
   "execution_count": 31,
   "metadata": {
    "collapsed": false
   },
   "outputs": [
    {
     "data": {
      "text/latex": [
       "$$\\alpha \\delta_{1} \\delta_{2} \\delta_{3} - \\delta_{1} \\delta_{2} \\zeta_{3} \\overline{\\zeta_{3}} - \\delta_{1} \\delta_{3} \\zeta_{2} \\overline{\\zeta_{2}} - \\delta_{2} \\delta_{3} \\zeta_{1} \\overline{\\zeta_{1}}$$"
      ],
      "text/plain": [
       "                                                       ______                 \n",
       "alpha*delta_1*delta_2*delta_3 - delta_1*delta_2*zeta_3*zeta_3 - delta_1*delta_\n",
       "\n",
       "         ______                          ______\n",
       "3*zeta_2*zeta_2 - delta_2*delta_3*zeta_1*zeta_1"
      ]
     },
     "execution_count": 31,
     "metadata": {},
     "output_type": "execute_result"
    }
   ],
   "source": [
    "simplify(det(A))"
   ]
  },
  {
   "cell_type": "code",
   "execution_count": 32,
   "metadata": {
    "collapsed": false
   },
   "outputs": [
    {
     "data": {
      "text/latex": [
       "\\begin{bmatrix}0&0&0&\\frac{1}{\\zeta_{3}}\\\\0&\\frac{1}{\\delta_{1}}&0&- \\frac{\\zeta_{1}}{\\delta_{1} \\zeta_{3}}\\\\0&0&\\frac{1}{\\delta_{2}}&- \\frac{\\zeta_{2}}{\\delta_{2} \\zeta_{3}}\\\\\\frac{1}{\\overline{\\zeta_{3}}}&- \\frac{\\overline{\\zeta_{1}}}{\\delta_{1} \\overline{\\zeta_{3}}}&- \\frac{\\overline{\\zeta_{2}}}{\\delta_{2} \\overline{\\zeta_{3}}}&\\frac{1}{\\delta_{1} \\delta_{2} \\zeta_{3} \\overline{\\zeta_{3}}} \\left(- \\alpha \\delta_{1} \\delta_{2} + \\delta_{1} \\zeta_{2} \\overline{\\zeta_{2}} + \\delta_{2} \\zeta_{1} \\overline{\\zeta_{1}}\\right)\\end{bmatrix}"
      ],
      "text/plain": [
       "4x4 Array{SymPy.Sym,2}\n",
       "[                                                                          1  \n",
       "[  0           0               0                                         -----\n",
       "[                                                                        zeta_\n",
       "[                                                                             \n",
       "[              1                                                        -zeta_\n",
       "[  0        -------            0                                     ---------\n",
       "[           delta_1                                                  delta_1*z\n",
       "[                                                                             \n",
       "[                              1                                        -zeta_\n",
       "[  0           0            -------                                  ---------\n",
       "[                           delta_2                                  delta_2*z\n",
       "[                                                                             \n",
       "[            ______          ______                                           \n",
       "[  1        -zeta_1         -zeta_2      -alpha*delta_1*delta_2 + delta_1*zeta\n",
       "[------  --------------  --------------  -------------------------------------\n",
       "[______          ______          ______                                       \n",
       "[zeta_3  delta_1*zeta_3  delta_2*zeta_3                      delta_1*delta_2*z\n",
       "\n",
       "                                 ]\n",
       "-                                ]\n",
       "3                                ]\n",
       "                                 ]\n",
       "1                                ]\n",
       "-----                            ]\n",
       "eta_3                            ]\n",
       "                                 ]\n",
       "2                                ]\n",
       "-----                            ]\n",
       "eta_3                            ]\n",
       "                                 ]\n",
       "   ______                  ______]\n",
       "_2*zeta_2 + delta_2*zeta_1*zeta_1]\n",
       "---------------------------------]\n",
       "      ______                     ]\n",
       "eta_3*zeta_3                     ]"
      ]
     },
     "execution_count": 32,
     "metadata": {},
     "output_type": "execute_result"
    }
   ],
   "source": [
    "A[4,4] = 0\n",
    "map(simplify, inv(A))"
   ]
  },
  {
   "cell_type": "markdown",
   "metadata": {},
   "source": [
    "The arithmetic operations are overloaded with calls to SymPy and therefore Julia's generic linear algebra routines work."
   ]
  },
  {
   "cell_type": "markdown",
   "metadata": {},
   "source": [
    "###Example 7: Promotion of elements\n",
    "When calculating factorizations, promotion of elements of matrices and vectors is defined through the promotion rules of the elements for the operations necessary for the factorization. In this way, it is not necessary to know about all possible element types for which the factorization could possibly be defined as long as promotion rules are defined for the element types themselves. Below is a simplified version of the promotion used in the LU factorization."
   ]
  },
  {
   "cell_type": "code",
   "execution_count": 258,
   "metadata": {
    "collapsed": false
   },
   "outputs": [
    {
     "ename": "LoadError",
     "evalue": "LoadError: error in method definition: function LinAlg.lufact must be explicitly imported to be extended\nwhile loading In[258], in expression starting on line 2",
     "output_type": "error",
     "traceback": [
      "LoadError: error in method definition: function LinAlg.lufact must be explicitly imported to be extended\nwhile loading In[258], in expression starting on line 2",
      ""
     ]
    }
   ],
   "source": [
    "# simplified (no pivoting option)\n",
    "function lufact{T}(A::AbstractMatrix{T})\n",
    "    S = typeof(zero(T)/one(T))\n",
    "    lufact!(copy_oftype(A, S), pivot)\n",
    "end"
   ]
  },
  {
   "cell_type": "markdown",
   "metadata": {},
   "source": [
    "##Julia is fast\n",
    "Compiles into efficient machine code when possible"
   ]
  },
  {
   "cell_type": "code",
   "execution_count": 36,
   "metadata": {
    "collapsed": false
   },
   "outputs": [
    {
     "name": "stdout",
     "output_type": "stream",
     "text": [
      "\t.section\t__TEXT,__text,regular,pure_instructions\n",
      "Filename: int.jl\n",
      "Source line: 12\n",
      "\tpushq\t%rbp\n",
      "\tmovq\t%rsp, %rbp\n",
      "Source line: 12\n",
      "\taddq\t%rsi, %rdi\n",
      "\tmovq\t%rdi, %rax\n",
      "\tpopq\t%rbp\n",
      "\tret\n"
     ]
    }
   ],
   "source": [
    "@code_native 1 + 1"
   ]
  },
  {
   "cell_type": "markdown",
   "metadata": {},
   "source": [
    "It is important for performance that input type maps to output type unambiguously"
   ]
  },
  {
   "cell_type": "code",
   "execution_count": 37,
   "metadata": {
    "collapsed": false
   },
   "outputs": [],
   "source": [
    "isone1(x) = x == 1 ? true : 0      # not type stable. Output _type_ depends on input _value_\n",
    "isone2(x) = x == 1 ? true : false;"
   ]
  },
  {
   "cell_type": "code",
   "execution_count": 38,
   "metadata": {
    "collapsed": false
   },
   "outputs": [
    {
     "name": "stdout",
     "output_type": "stream",
     "text": [
      "elapsed time: 0.008829241 seconds (0 bytes allocated)\n",
      "elapsed time: 0.002523939 seconds (0 bytes allocated)\n"
     ]
    }
   ],
   "source": [
    "@time for i = 1:10^6; isone1(rand() > 0.5); end\n",
    "@time for i = 1:10^6; isone2(rand() > 0.5); end"
   ]
  },
  {
   "cell_type": "code",
   "execution_count": 39,
   "metadata": {
    "collapsed": false
   },
   "outputs": [
    {
     "name": "stdout",
     "output_type": "stream",
     "text": [
      "\t.section\t__TEXT,__text,regular,pure_instructions\n",
      "Filename: In[37]\n",
      "Source line: 1\n",
      "\tpushq\t%rbp\n",
      "\tmovq\t%rsp, %rbp\n",
      "\tcmpq\t$1, %rdi\n",
      "Source line: 1\n",
      "\tjne\tL29\n",
      "\tmovabsq\t$jl_true, %rax\n",
      "\tmovq\t(%rax), %rax\n",
      "\tpopq\t%rbp\n",
      "\tret\n",
      "L29:\tmovabsq\t$4403347920, %rax       ## imm = 0x10675C1D0\n",
      "\tpopq\t%rbp\n",
      "\tret\n"
     ]
    }
   ],
   "source": [
    "@code_native isone1(1) # note the $jl_true in the assembly"
   ]
  },
  {
   "cell_type": "code",
   "execution_count": 40,
   "metadata": {
    "collapsed": false
   },
   "outputs": [
    {
     "name": "stdout",
     "output_type": "stream",
     "text": [
      "\t.section\t__TEXT,__text,regular,pure_instructions\n",
      "Filename: In[37]\n",
      "Source line: 2\n",
      "\tpushq\t%rbp\n",
      "\tmovq\t%rsp, %rbp\n",
      "\tcmpq\t$1, %rdi\n",
      "Source line: 2\n",
      "\tsete\t%al\n",
      "\tpopq\t%rbp\n",
      "\tret\n"
     ]
    }
   ],
   "source": [
    "@code_native isone2(1)"
   ]
  },
  {
   "cell_type": "markdown",
   "metadata": {},
   "source": [
    "###Julia for numerical libraries?\n",
    "####BLAS?\n",
    "Not likely to be the case. See Steven G. Johnson's [notebook](http://nbviewer.ipython.org/url/math.mit.edu/~stevenj/18.335/Matrix-multiplication-experiments.ipynb) on matrix multiplication"
   ]
  },
  {
   "cell_type": "markdown",
   "metadata": {},
   "source": [
    "####LAPACK?\n",
    "Julia can be (almost) as fast as well-written Fortran. Below, I'll give some LAPACK vs Julia comparisons. The Julia implementations are taken from my experimental [LinearAlgebra](https://github.com/andreasnoack/LinearAlgebra) repository.\n",
    "\n",
    "#####Blocked Cholesky\n",
    "$$\n",
    "\\begin{pmatrix}\n",
    "A_{11} & A_{12} \\\\\n",
    "A_{21} & A_{22} \\\\\n",
    "\\end{pmatrix} = \n",
    "\\begin{pmatrix}\n",
    "L_{11} & 0 \\\\\n",
    "L_{21} & L_{22}\n",
    "\\end{pmatrix}\n",
    "\\begin{pmatrix}\n",
    "L_{11}^* & L_{21}^* \\\\\n",
    "0 & L_{22}^*\n",
    "\\end{pmatrix}\n",
    "$$\n",
    "so blocked algorithm consists of\n",
    "- Cholesky factorize: $A_{11}=L_{11}L_{11}^*$\n",
    "- Triangular solve: $L_{21} = A_{21}L_{11}^{-1*}$\n",
    "- Symmetric update: $A_{22} := A_{22} - L_{21}L_{21}^*$"
   ]
  },
  {
   "cell_type": "code",
   "execution_count": 8,
   "metadata": {
    "collapsed": false
   },
   "outputs": [
    {
     "name": "stdout",
     "output_type": "stream",
     "text": [
      "elapsed time: 0.042906581 seconds (30 MB allocated, 1.64% gc time in 1 pauses with 0 full sweep)\n",
      "elapsed time: 0.040316716 seconds (31 MB allocated, 1.81% gc time in 1 pauses with 0 full sweep)\n"
     ]
    }
   ],
   "source": [
    "using LinearAlgebra\n",
    "\n",
    "# Cholesky\n",
    "n = 2000\n",
    "A = randn(n,n)\n",
    "A = A'A\n",
    "\n",
    "chol(A)\n",
    "gc()\n",
    "@time C_LAPACK = chol(A) # LAPACK\n",
    "LinearAlgebra.CholeskyModule.cholRec!(copy(A), Val{:L}, 1)\n",
    "gc()\n",
    "@time C_Julia = LinearAlgebra.CholeskyModule.cholRec!(copy(A), Val{:L}, 1)\n",
    ";"
   ]
  },
  {
   "cell_type": "markdown",
   "metadata": {},
   "source": [
    "It is not clear why Julia is *slightly* faster than LAPACK here. Call overhead should be negligible. It might be because of an untuned block size parameter in `ilaenv.f`.\n",
    "\n",
    "Julia could make it much easier to experiment with values like blocking size. Julia allows for easy compilation of versions for different fixed blocking sizes. Compiler might be able to benefit from fixed blocking size, but this is not pursued further here."
   ]
  },
  {
   "cell_type": "code",
   "execution_count": 45,
   "metadata": {
    "collapsed": false
   },
   "outputs": [
    {
     "data": {
      "image/png": "[encoded data removed]",
      "text/plain": [
       "PyPlot.Figure(PyObject <matplotlib.figure.Figure object at 0x313f54a10>)"
      ]
     },
     "metadata": {},
     "output_type": "display_data"
    },
    {
     "data": {
      "text/plain": [
       "1-element Array{Any,1}:\n",
       " PyObject <matplotlib.lines.Line2D object at 0x327041990>"
      ]
     },
     "execution_count": 45,
     "metadata": {},
     "output_type": "execute_result"
    }
   ],
   "source": [
    "using PyPlot\n",
    "C_Julia2 = LinearAlgebra.CholeskyModule.cholBlocked!(copy(A), Val{:L}, 10)\n",
    "tt = Float64[]\n",
    "for b in 20:5:100\n",
    "    push!(tt, minimum(Float64[(gc(); @elapsed LinearAlgebra.CholeskyModule.cholBlocked!(copy(A), Val{:L}, b)) for i = 1:5]))\n",
    "end\n",
    "plot(20:5:100, tt)"
   ]
  },
  {
   "cell_type": "markdown",
   "metadata": {},
   "source": [
    "#####Symmetric tridiagonal eigenproblem\n",
    "When only values are requested, LAPACK uses a square root free QR algorithm described in Parlett's \"The Symmetric Eigenvalue Problem\". No BLAS3 optimization is possible for this algorithm."
   ]
  },
  {
   "cell_type": "code",
   "execution_count": 9,
   "metadata": {
    "collapsed": false
   },
   "outputs": [
    {
     "name": "stdout",
     "output_type": "stream",
     "text": [
      "elapsed time: 0.08689491 seconds (63 kB allocated)\n",
      "elapsed time: 0.067619335 seconds (31 kB allocated)\n",
      "Float64(norm(vals_LAPACK - vals_Julia)) = 9.747047234644617e-11\n"
     ]
    }
   ],
   "source": [
    "n = 2000\n",
    "A = SymTridiagonal(2randn(n), Float64[rand(Chi(i)) for i = n-1:-1:1]) # Hermite ensemple\n",
    "\n",
    "# LAPACK:\n",
    "eigvals(A)\n",
    "@time vals_LAPACK = eigvals(A)\n",
    "\n",
    "# Pure Julia\n",
    "LinearAlgebra.EigenSelfAdjoint.eigvals!(copy(A))\n",
    "@time vals_Julia = LinearAlgebra.EigenSelfAdjoint.eigvals!(copy(A))\n",
    "# @time vals_Julia = LinearAlgebra.EigenSelfAdjoint.eigvals!(big(A), BigFloat(\"1e-500\")) # use smaller n for this option.\n",
    "\n",
    "@show Float64(norm(vals_LAPACK - vals_Julia))\n",
    ";"
   ]
  },
  {
   "cell_type": "markdown",
   "metadata": {},
   "source": [
    "##Parallel linear algebra\n",
    "- Distributed machines\n",
    "- Libraries\n",
    "- Threading\n",
    "- Julia HPC"
   ]
  },
  {
   "cell_type": "markdown",
   "metadata": {},
   "source": [
    "###Distributed Arrays"
   ]
  },
  {
   "cell_type": "code",
   "execution_count": 10,
   "metadata": {
    "collapsed": false
   },
   "outputs": [
    {
     "name": "stderr",
     "output_type": "stream",
     "text": [
      "WARNING: rmprocs: process 1 not removed\n"
     ]
    }
   ],
   "source": [
    "rmprocs(workers())\n",
    "addprocs(4)\n",
    "@everywhere using DistributedArrays\n",
    ";"
   ]
  },
  {
   "cell_type": "code",
   "execution_count": 11,
   "metadata": {
    "collapsed": false
   },
   "outputs": [
    {
     "data": {
      "text/plain": [
       "10000x10000 DistributedArrays.DArray{Float64,2,Array{Float64,2}}:\n",
       "  1.57508     0.260124    1.38756    …  -0.247866    0.55253    -0.182612 \n",
       "  0.118672    0.293676   -0.550505       0.497556    0.501465    1.08893  \n",
       " -0.0655339  -0.199748   -0.682365      -0.147287    1.34312    -0.760768 \n",
       " -0.0367901   0.128558   -1.55301       -1.27129    -1.58649     0.0511057\n",
       " -1.59606     0.186729   -0.0681232      0.469997   -0.428853   -1.23812  \n",
       "  0.640557   -0.764092    1.30184    …  -0.0218993  -0.689255   -0.590049 \n",
       "  0.546294   -0.284476   -0.479754      -0.0504806  -0.213545    0.434343 \n",
       " -0.867841    0.0952929   1.26215       -0.118773   -0.253901   -0.347077 \n",
       "  0.843538    0.927603    0.206916      -0.351399    0.760168    0.978682 \n",
       "  0.642559    0.429471    0.353492       1.27884    -1.6201     -0.582553 \n",
       " -2.16565    -1.25054    -0.211733   …  -0.0785485  -0.0914334  -0.402921 \n",
       "  1.47553     0.408073    1.44798        0.105171    0.373992   -1.55591  \n",
       " -0.70736    -0.567213    0.197668      -0.153358    0.335046    0.349467 \n",
       "  ⋮                                  ⋱                                    \n",
       " -0.787656    0.850157   -0.965019       1.00204     0.863088   -1.38536  \n",
       " -1.58413    -1.44559    -0.75028       -0.297822   -0.793136    0.454354 \n",
       " -1.35611    -0.235937   -0.62655    …   0.053386   -0.338797   -0.513749 \n",
       "  2.70181    -0.853086    1.43877        1.32139     1.38505     0.470173 \n",
       " -0.419592   -0.962778    0.192586      -0.916321    0.111331    1.01068  \n",
       " -0.0305281   0.954323   -2.15506        1.01142    -0.323891    0.126586 \n",
       " -1.27183    -0.56776    -0.20957       -0.717914    0.262112   -0.0403467\n",
       "  0.475575   -1.07746     0.476625   …  -1.33838    -0.745705    0.901824 \n",
       " -1.28758     0.989068    0.519427       0.436723    0.238508   -0.323757 \n",
       "  0.11446     1.53541    -2.47581       -0.705123   -0.773296   -0.117727 \n",
       "  0.426277    0.709611   -1.4938         1.46847     2.04994     0.19234  \n",
       " -0.815936   -0.508646    1.32352        0.290033   -0.901207    2.71022  "
      ]
     },
     "execution_count": 11,
     "metadata": {},
     "output_type": "execute_result"
    }
   ],
   "source": [
    "A = drandn(10000, 10000)"
   ]
  },
  {
   "cell_type": "code",
   "execution_count": 12,
   "metadata": {
    "collapsed": false
   },
   "outputs": [
    {
     "data": {
      "text/plain": [
       "5-element Array{Symbol,1}:\n",
       " :dims   \n",
       " :chunks \n",
       " :pmap   \n",
       " :indexes\n",
       " :cuts   "
      ]
     },
     "execution_count": 12,
     "metadata": {},
     "output_type": "execute_result"
    }
   ],
   "source": [
    "fieldnames(A)"
   ]
  },
  {
   "cell_type": "code",
   "execution_count": 13,
   "metadata": {
    "collapsed": false
   },
   "outputs": [
    {
     "data": {
      "text/plain": [
       "10000x1 DistributedArrays.DArray{Float64,2,Array{Float64,2}}:\n",
       "  155.247  \n",
       "   21.3457 \n",
       "  -84.1103 \n",
       "   32.4624 \n",
       "  100.383  \n",
       "  194.676  \n",
       "  -20.7796 \n",
       "  -46.748  \n",
       "  -36.0814 \n",
       "   23.63   \n",
       "   82.0796 \n",
       "   97.1172 \n",
       "  -20.3241 \n",
       "    ⋮      \n",
       "  -40.685  \n",
       "   -6.80233\n",
       "   81.6543 \n",
       "   21.4093 \n",
       "   39.0437 \n",
       "  128.726  \n",
       " -132.78   \n",
       "   17.4816 \n",
       "   -9.65989\n",
       "   39.4961 \n",
       "    2.58906\n",
       "   43.0252 "
      ]
     },
     "execution_count": 13,
     "metadata": {},
     "output_type": "execute_result"
    }
   ],
   "source": [
    "reducedim(+, A, 2)"
   ]
  },
  {
   "cell_type": "markdown",
   "metadata": {},
   "source": [
    "###Libraries\n",
    "- ScaLAPACK\n",
    "- Elemental (why we are here!)\n",
    "- Julia based?\n",
    "\n",
    "###Threading\n",
    "- Work in progress, but a big task.\n",
    "\n",
    "###HPC\n",
    "- Cray in Switzerland\n",
    "- Intel HPC group\n",
    "- PowerPC"
   ]
  }
 ],
 "metadata": {
  "kernelspec": {
   "display_name": "Julia 0.4.0",
   "language": "julia",
   "name": "julia-0.4"
  },
  "language_info": {
   "file_extension": ".jl",
   "mimetype": "application/julia",
   "name": "julia",
   "version": "0.4.0"
  }
 },
 "nbformat": 4,
 "nbformat_minor": 0
}
